{
 "cells": [
  {
   "cell_type": "markdown",
   "metadata": {},
   "source": [
    "# A quick exploration of openfoodfacts.org data\n",
    "---"
   ]
  },
  {
   "cell_type": "markdown",
   "metadata": {},
   "source": [
    "Load required libraries:"
   ]
  },
  {
   "cell_type": "code",
   "execution_count": 1,
   "metadata": {},
   "outputs": [],
   "source": [
    "import numpy as np\n",
    "import pandas as pd\n",
    "import scipy.stats as stats\n",
    "from matplotlib import pyplot as plt\n",
    "import seaborn as sns\n",
    "%matplotlib inline"
   ]
  },
  {
   "cell_type": "markdown",
   "metadata": {},
   "source": [
    "## A. Data Import, Cleaning, EDA"
   ]
  },
  {
   "cell_type": "markdown",
   "metadata": {},
   "source": [
    "Import the data, check dimensions:"
   ]
  },
  {
   "cell_type": "code",
   "execution_count": 2,
   "metadata": {},
   "outputs": [
    {
     "data": {
      "text/plain": [
       "(356027, 163)"
      ]
     },
     "execution_count": 2,
     "metadata": {},
     "output_type": "execute_result"
    }
   ],
   "source": [
    "df = pd.read_csv(\"en.openfoodfacts.org.products.tsv\", sep=\"\\t\", low_memory=False)\n",
    "df.shape"
   ]
  },
  {
   "cell_type": "markdown",
   "metadata": {},
   "source": [
    "Our df has 356,027 rows and 163 columns. Note we will use different subsets of the data depending on the task at hand. For example, we will remove only a few outliers in Part B, but all of them in Part E. Likewise, we will drop nan values using different methods depending on the task at hand or on the variables selected. This will be explained in detail below in the relevant sections."
   ]
  },
  {
   "cell_type": "markdown",
   "metadata": {},
   "source": [
    "### Missing values"
   ]
  },
  {
   "cell_type": "markdown",
   "metadata": {},
   "source": [
    "Let's first compute a percentage of missing values (hereafter \"na\") by column and row. We also compute the average, minimum and maximum number of nas by column and row."
   ]
  },
  {
   "cell_type": "code",
   "execution_count": 3,
   "metadata": {},
   "outputs": [
    {
     "name": "stdout",
     "output_type": "stream",
     "text": [
      "0    0.761359\n",
      "dtype: float64 0    0.0\n",
      "dtype: float64 0    1.0\n",
      "dtype: float64\n",
      "0    0.761359\n",
      "dtype: float64 0    0.435583\n",
      "dtype: float64 0    0.93865\n",
      "dtype: float64\n"
     ]
    }
   ],
   "source": [
    "nan_bycol =  pd.DataFrame(df.isnull().sum() / df.shape[0])\n",
    "nan_byrow = pd.DataFrame(df.isnull().sum(axis=1) / df.shape[1])\n",
    "print(nan_bycol.mean(), nan_bycol.min(), nan_bycol.max())\n",
    "print(nan_byrow.mean(), nan_byrow.min(), nan_byrow.max())"
   ]
  },
  {
   "cell_type": "markdown",
   "metadata": {},
   "source": [
    "We see that the average of missing values is 76%, which is quite a lot. We also see that for columns, the na percentage ranges from 0 to 100% (meaning that some columns are entirely empty), whereas for rows, the na percentage ranges from 43% to 93% (meaning that they are no entirely empty rows). Now let's take a look at the distribution of na percentages, starting with columns:"
   ]
  },
  {
   "cell_type": "code",
   "execution_count": 4,
   "metadata": {},
   "outputs": [
    {
     "data": {
      "image/png": "[encoded data removed]",
      "text/plain": [
       "<Figure size 432x288 with 1 Axes>"
      ]
     },
     "metadata": {
      "needs_background": "light"
     },
     "output_type": "display_data"
    }
   ],
   "source": [
    "nan_bycol.plot.hist()\n",
    "plt.show()"
   ]
  },
  {
   "cell_type": "markdown",
   "metadata": {},
   "source": [
    "We see that most columns have a na percentage between 0.9 and 1, meaning that they are almost empty. We also see that a bit more than 15 columns have a rate between 0 and 0.1, meaning they have less than 10% of na. Now Let's have a look at na percentages by row:"
   ]
  },
  {
   "cell_type": "code",
   "execution_count": 5,
   "metadata": {},
   "outputs": [
    {
     "data": {
      "image/png": "[encoded data removed]",
      "text/plain": [
       "<Figure size 432x288 with 1 Axes>"
      ]
     },
     "metadata": {
      "needs_background": "light"
     },
     "output_type": "display_data"
    }
   ],
   "source": [
    "nan_byrow.plot.hist()\n",
    "plt.show()"
   ]
  },
  {
   "cell_type": "markdown",
   "metadata": {},
   "source": [
    "It looks slightly better, since most rows have between 70 and 80% of missing values. However, there seems to be very few rows which have a na percentage less than 60%.\n",
    "\n",
    "Before deciding what to do with all these na, let's have a quick look at the acutal data. With such a large dataset, I suspect there might be a significant amount of duplicates. And by duplicates, I don't just mean rows that have the exact same contents (we will look for and deal with these later). I mean food products that were entered in the database more than one time, which is likely given the collaborative nature of the Open Food Facts project. For example:"
   ]
  },
  {
   "cell_type": "code",
   "execution_count": 6,
   "metadata": {},
   "outputs": [
    {
     "data": {
      "text/plain": [
       "18"
      ]
     },
     "execution_count": 6,
     "metadata": {},
     "output_type": "execute_result"
    }
   ],
   "source": [
    "df.loc[df['product_name'] == \"Toblerone\"].shape[0]"
   ]
  },
  {
   "cell_type": "markdown",
   "metadata": {},
   "source": [
    "We see that 18 rows contains a product named \"Toblerone\". And of course this only includes rows that contains the exact word \"Toblerone\". There might be more products with various spellings (e.g., 'toblerone', 'TOBLERONE'), or with the word 'Toblerone' (or one of its variants) within a longer string. To check the intuition that some of these products might be the same, or at least very similar, let's pull them along with a couple of columns:"
   ]
  },
  {
   "cell_type": "code",
   "execution_count": 7,
   "metadata": {},
   "outputs": [
    {
     "data": {
      "text/html": [
       "<div>\n",
       "<style scoped>\n",
       "    .dataframe tbody tr th:only-of-type {\n",
       "        vertical-align: middle;\n",
       "    }\n",
       "\n",
       "    .dataframe tbody tr th {\n",
       "        vertical-align: top;\n",
       "    }\n",
       "\n",
       "    .dataframe thead th {\n",
       "        text-align: right;\n",
       "    }\n",
       "</style>\n",
       "<table border=\"1\" class=\"dataframe\">\n",
       "  <thead>\n",
       "    <tr style=\"text-align: right;\">\n",
       "      <th></th>\n",
       "      <th>product_name</th>\n",
       "      <th>energy_100g</th>\n",
       "      <th>fat_100g</th>\n",
       "      <th>sugars_100g</th>\n",
       "      <th>nutrition-score-fr_100g</th>\n",
       "    </tr>\n",
       "  </thead>\n",
       "  <tbody>\n",
       "    <tr>\n",
       "      <th>70114</th>\n",
       "      <td>Toblerone</td>\n",
       "      <td>NaN</td>\n",
       "      <td>NaN</td>\n",
       "      <td>NaN</td>\n",
       "      <td>NaN</td>\n",
       "    </tr>\n",
       "    <tr>\n",
       "      <th>70123</th>\n",
       "      <td>Toblerone</td>\n",
       "      <td>2280.0</td>\n",
       "      <td>30.3</td>\n",
       "      <td>60.6</td>\n",
       "      <td>22.0</td>\n",
       "    </tr>\n",
       "    <tr>\n",
       "      <th>70124</th>\n",
       "      <td>Toblerone</td>\n",
       "      <td>2200.0</td>\n",
       "      <td>30.0</td>\n",
       "      <td>60.0</td>\n",
       "      <td>23.0</td>\n",
       "    </tr>\n",
       "    <tr>\n",
       "      <th>91925</th>\n",
       "      <td>Toblerone</td>\n",
       "      <td>2235.0</td>\n",
       "      <td>29.5</td>\n",
       "      <td>59.5</td>\n",
       "      <td>23.0</td>\n",
       "    </tr>\n",
       "    <tr>\n",
       "      <th>282240</th>\n",
       "      <td>Toblerone</td>\n",
       "      <td>1502.0</td>\n",
       "      <td>21.4</td>\n",
       "      <td>35.9</td>\n",
       "      <td>19.0</td>\n",
       "    </tr>\n",
       "    <tr>\n",
       "      <th>326138</th>\n",
       "      <td>Toblerone</td>\n",
       "      <td>2238.0</td>\n",
       "      <td>29.5</td>\n",
       "      <td>59.5</td>\n",
       "      <td>23.0</td>\n",
       "    </tr>\n",
       "    <tr>\n",
       "      <th>326143</th>\n",
       "      <td>Toblerone</td>\n",
       "      <td>2235.0</td>\n",
       "      <td>29.5</td>\n",
       "      <td>59.5</td>\n",
       "      <td>23.0</td>\n",
       "    </tr>\n",
       "    <tr>\n",
       "      <th>326146</th>\n",
       "      <td>Toblerone</td>\n",
       "      <td>2238.0</td>\n",
       "      <td>NaN</td>\n",
       "      <td>59.5</td>\n",
       "      <td>23.0</td>\n",
       "    </tr>\n",
       "    <tr>\n",
       "      <th>328362</th>\n",
       "      <td>Toblerone</td>\n",
       "      <td>2238.0</td>\n",
       "      <td>29.5</td>\n",
       "      <td>59.2</td>\n",
       "      <td>23.0</td>\n",
       "    </tr>\n",
       "    <tr>\n",
       "      <th>329022</th>\n",
       "      <td>Toblerone</td>\n",
       "      <td>NaN</td>\n",
       "      <td>NaN</td>\n",
       "      <td>NaN</td>\n",
       "      <td>NaN</td>\n",
       "    </tr>\n",
       "    <tr>\n",
       "      <th>329023</th>\n",
       "      <td>Toblerone</td>\n",
       "      <td>2238.0</td>\n",
       "      <td>NaN</td>\n",
       "      <td>62.0</td>\n",
       "      <td>27.0</td>\n",
       "    </tr>\n",
       "    <tr>\n",
       "      <th>329048</th>\n",
       "      <td>Toblerone</td>\n",
       "      <td>2235.0</td>\n",
       "      <td>29.5</td>\n",
       "      <td>59.5</td>\n",
       "      <td>23.0</td>\n",
       "    </tr>\n",
       "    <tr>\n",
       "      <th>329051</th>\n",
       "      <td>Toblerone</td>\n",
       "      <td>2235.0</td>\n",
       "      <td>29.5</td>\n",
       "      <td>59.5</td>\n",
       "      <td>23.0</td>\n",
       "    </tr>\n",
       "    <tr>\n",
       "      <th>329173</th>\n",
       "      <td>Toblerone</td>\n",
       "      <td>2247.0</td>\n",
       "      <td>32.0</td>\n",
       "      <td>47.0</td>\n",
       "      <td>21.0</td>\n",
       "    </tr>\n",
       "    <tr>\n",
       "      <th>329191</th>\n",
       "      <td>Toblerone</td>\n",
       "      <td>2247.0</td>\n",
       "      <td>29.0</td>\n",
       "      <td>62.0</td>\n",
       "      <td>27.0</td>\n",
       "    </tr>\n",
       "    <tr>\n",
       "      <th>329194</th>\n",
       "      <td>Toblerone</td>\n",
       "      <td>2238.0</td>\n",
       "      <td>29.5</td>\n",
       "      <td>59.5</td>\n",
       "      <td>26.0</td>\n",
       "    </tr>\n",
       "    <tr>\n",
       "      <th>329199</th>\n",
       "      <td>Toblerone</td>\n",
       "      <td>2238.0</td>\n",
       "      <td>29.5</td>\n",
       "      <td>59.5</td>\n",
       "      <td>23.0</td>\n",
       "    </tr>\n",
       "    <tr>\n",
       "      <th>329496</th>\n",
       "      <td>Toblerone</td>\n",
       "      <td>2235.0</td>\n",
       "      <td>29.5</td>\n",
       "      <td>59.5</td>\n",
       "      <td>23.0</td>\n",
       "    </tr>\n",
       "  </tbody>\n",
       "</table>\n",
       "</div>"
      ],
      "text/plain": [
       "       product_name  energy_100g  fat_100g  sugars_100g  \\\n",
       "70114     Toblerone          NaN       NaN          NaN   \n",
       "70123     Toblerone       2280.0      30.3         60.6   \n",
       "70124     Toblerone       2200.0      30.0         60.0   \n",
       "91925     Toblerone       2235.0      29.5         59.5   \n",
       "282240    Toblerone       1502.0      21.4         35.9   \n",
       "326138    Toblerone       2238.0      29.5         59.5   \n",
       "326143    Toblerone       2235.0      29.5         59.5   \n",
       "326146    Toblerone       2238.0       NaN         59.5   \n",
       "328362    Toblerone       2238.0      29.5         59.2   \n",
       "329022    Toblerone          NaN       NaN          NaN   \n",
       "329023    Toblerone       2238.0       NaN         62.0   \n",
       "329048    Toblerone       2235.0      29.5         59.5   \n",
       "329051    Toblerone       2235.0      29.5         59.5   \n",
       "329173    Toblerone       2247.0      32.0         47.0   \n",
       "329191    Toblerone       2247.0      29.0         62.0   \n",
       "329194    Toblerone       2238.0      29.5         59.5   \n",
       "329199    Toblerone       2238.0      29.5         59.5   \n",
       "329496    Toblerone       2235.0      29.5         59.5   \n",
       "\n",
       "        nutrition-score-fr_100g  \n",
       "70114                       NaN  \n",
       "70123                      22.0  \n",
       "70124                      23.0  \n",
       "91925                      23.0  \n",
       "282240                     19.0  \n",
       "326138                     23.0  \n",
       "326143                     23.0  \n",
       "326146                     23.0  \n",
       "328362                     23.0  \n",
       "329022                      NaN  \n",
       "329023                     27.0  \n",
       "329048                     23.0  \n",
       "329051                     23.0  \n",
       "329173                     21.0  \n",
       "329191                     27.0  \n",
       "329194                     26.0  \n",
       "329199                     23.0  \n",
       "329496                     23.0  "
      ]
     },
     "execution_count": 7,
     "metadata": {},
     "output_type": "execute_result"
    }
   ],
   "source": [
    "df.loc[df['product_name'] == \"Toblerone\", ('product_name', 'energy_100g', 'fat_100g', 'sugars_100g', 'nutrition-score-fr_100g')]"
   ]
  },
  {
   "cell_type": "markdown",
   "metadata": {},
   "source": [
    "We see that indeed these products are very similar. Their values are similar between rows, and identical in some cases (for example, 9 out of 18 have 59.5 sugars per 100g, and the other values are very close). There are small differences, yes, but overall we can assume that this is the same (or very similar) product that was entered by several users.\n",
    "\n",
    "Let's have a look at another product, which is likely to return more rows:"
   ]
  },
  {
   "cell_type": "code",
   "execution_count": 8,
   "metadata": {},
   "outputs": [
    {
     "name": "stdout",
     "output_type": "stream",
     "text": [
      "54\n"
     ]
    },
    {
     "data": {
      "text/html": [
       "<div>\n",
       "<style scoped>\n",
       "    .dataframe tbody tr th:only-of-type {\n",
       "        vertical-align: middle;\n",
       "    }\n",
       "\n",
       "    .dataframe tbody tr th {\n",
       "        vertical-align: top;\n",
       "    }\n",
       "\n",
       "    .dataframe thead th {\n",
       "        text-align: right;\n",
       "    }\n",
       "</style>\n",
       "<table border=\"1\" class=\"dataframe\">\n",
       "  <thead>\n",
       "    <tr style=\"text-align: right;\">\n",
       "      <th></th>\n",
       "      <th>product_name</th>\n",
       "      <th>energy_100g</th>\n",
       "      <th>fat_100g</th>\n",
       "      <th>sugars_100g</th>\n",
       "      <th>nutrition-score-fr_100g</th>\n",
       "    </tr>\n",
       "  </thead>\n",
       "  <tbody>\n",
       "    <tr>\n",
       "      <th>60158</th>\n",
       "      <td>Coca-Cola</td>\n",
       "      <td>165.0</td>\n",
       "      <td>0.0</td>\n",
       "      <td>11.0</td>\n",
       "      <td>NaN</td>\n",
       "    </tr>\n",
       "    <tr>\n",
       "      <th>117331</th>\n",
       "      <td>Coca-Cola</td>\n",
       "      <td>167.0</td>\n",
       "      <td>0.0</td>\n",
       "      <td>10.8</td>\n",
       "      <td>14.0</td>\n",
       "    </tr>\n",
       "    <tr>\n",
       "      <th>117577</th>\n",
       "      <td>Coca-Cola</td>\n",
       "      <td>NaN</td>\n",
       "      <td>NaN</td>\n",
       "      <td>NaN</td>\n",
       "      <td>NaN</td>\n",
       "    </tr>\n",
       "    <tr>\n",
       "      <th>117580</th>\n",
       "      <td>Coca-Cola</td>\n",
       "      <td>165.0</td>\n",
       "      <td>0.0</td>\n",
       "      <td>11.0</td>\n",
       "      <td>14.0</td>\n",
       "    </tr>\n",
       "    <tr>\n",
       "      <th>125272</th>\n",
       "      <td>Coca-Cola</td>\n",
       "      <td>NaN</td>\n",
       "      <td>NaN</td>\n",
       "      <td>NaN</td>\n",
       "      <td>NaN</td>\n",
       "    </tr>\n",
       "    <tr>\n",
       "      <th>133903</th>\n",
       "      <td>Coca-Cola</td>\n",
       "      <td>177.0</td>\n",
       "      <td>0.0</td>\n",
       "      <td>11.0</td>\n",
       "      <td>NaN</td>\n",
       "    </tr>\n",
       "    <tr>\n",
       "      <th>203574</th>\n",
       "      <td>Coca-Cola</td>\n",
       "      <td>180.0</td>\n",
       "      <td>0.0</td>\n",
       "      <td>10.8</td>\n",
       "      <td>14.0</td>\n",
       "    </tr>\n",
       "    <tr>\n",
       "      <th>236373</th>\n",
       "      <td>Coca-Cola</td>\n",
       "      <td>176.0</td>\n",
       "      <td>1.0</td>\n",
       "      <td>10.6</td>\n",
       "      <td>14.0</td>\n",
       "    </tr>\n",
       "    <tr>\n",
       "      <th>267455</th>\n",
       "      <td>Coca-Cola</td>\n",
       "      <td>NaN</td>\n",
       "      <td>NaN</td>\n",
       "      <td>NaN</td>\n",
       "      <td>NaN</td>\n",
       "    </tr>\n",
       "    <tr>\n",
       "      <th>294153</th>\n",
       "      <td>Coca-Cola</td>\n",
       "      <td>NaN</td>\n",
       "      <td>NaN</td>\n",
       "      <td>NaN</td>\n",
       "      <td>NaN</td>\n",
       "    </tr>\n",
       "    <tr>\n",
       "      <th>294658</th>\n",
       "      <td>Coca-Cola</td>\n",
       "      <td>180.0</td>\n",
       "      <td>0.0</td>\n",
       "      <td>10.6</td>\n",
       "      <td>14.0</td>\n",
       "    </tr>\n",
       "    <tr>\n",
       "      <th>294666</th>\n",
       "      <td>Coca-Cola</td>\n",
       "      <td>180.0</td>\n",
       "      <td>0.0</td>\n",
       "      <td>10.6</td>\n",
       "      <td>14.0</td>\n",
       "    </tr>\n",
       "    <tr>\n",
       "      <th>294669</th>\n",
       "      <td>Coca-Cola</td>\n",
       "      <td>176.0</td>\n",
       "      <td>0.0</td>\n",
       "      <td>10.6</td>\n",
       "      <td>14.0</td>\n",
       "    </tr>\n",
       "    <tr>\n",
       "      <th>294676</th>\n",
       "      <td>Coca-Cola</td>\n",
       "      <td>180.0</td>\n",
       "      <td>0.0</td>\n",
       "      <td>10.6</td>\n",
       "      <td>14.0</td>\n",
       "    </tr>\n",
       "    <tr>\n",
       "      <th>294681</th>\n",
       "      <td>Coca-Cola</td>\n",
       "      <td>180.0</td>\n",
       "      <td>0.0</td>\n",
       "      <td>10.6</td>\n",
       "      <td>NaN</td>\n",
       "    </tr>\n",
       "    <tr>\n",
       "      <th>294682</th>\n",
       "      <td>Coca-Cola</td>\n",
       "      <td>180.0</td>\n",
       "      <td>0.0</td>\n",
       "      <td>10.6</td>\n",
       "      <td>14.0</td>\n",
       "    </tr>\n",
       "    <tr>\n",
       "      <th>294684</th>\n",
       "      <td>Coca-Cola</td>\n",
       "      <td>180.0</td>\n",
       "      <td>NaN</td>\n",
       "      <td>10.6</td>\n",
       "      <td>NaN</td>\n",
       "    </tr>\n",
       "    <tr>\n",
       "      <th>294704</th>\n",
       "      <td>Coca-Cola</td>\n",
       "      <td>176.0</td>\n",
       "      <td>0.0</td>\n",
       "      <td>10.6</td>\n",
       "      <td>14.0</td>\n",
       "    </tr>\n",
       "    <tr>\n",
       "      <th>294707</th>\n",
       "      <td>Coca-Cola</td>\n",
       "      <td>180.0</td>\n",
       "      <td>0.0</td>\n",
       "      <td>10.6</td>\n",
       "      <td>14.0</td>\n",
       "    </tr>\n",
       "    <tr>\n",
       "      <th>294713</th>\n",
       "      <td>Coca-Cola</td>\n",
       "      <td>176.0</td>\n",
       "      <td>0.0</td>\n",
       "      <td>10.6</td>\n",
       "      <td>14.0</td>\n",
       "    </tr>\n",
       "    <tr>\n",
       "      <th>294740</th>\n",
       "      <td>Coca-Cola</td>\n",
       "      <td>NaN</td>\n",
       "      <td>NaN</td>\n",
       "      <td>NaN</td>\n",
       "      <td>NaN</td>\n",
       "    </tr>\n",
       "    <tr>\n",
       "      <th>294744</th>\n",
       "      <td>Coca-Cola</td>\n",
       "      <td>180.0</td>\n",
       "      <td>0.0</td>\n",
       "      <td>10.6</td>\n",
       "      <td>14.0</td>\n",
       "    </tr>\n",
       "    <tr>\n",
       "      <th>294748</th>\n",
       "      <td>Coca-Cola</td>\n",
       "      <td>176.0</td>\n",
       "      <td>0.0</td>\n",
       "      <td>10.6</td>\n",
       "      <td>14.0</td>\n",
       "    </tr>\n",
       "    <tr>\n",
       "      <th>294749</th>\n",
       "      <td>Coca-Cola</td>\n",
       "      <td>180.0</td>\n",
       "      <td>0.0</td>\n",
       "      <td>10.6</td>\n",
       "      <td>14.0</td>\n",
       "    </tr>\n",
       "    <tr>\n",
       "      <th>294750</th>\n",
       "      <td>Coca-Cola</td>\n",
       "      <td>180.0</td>\n",
       "      <td>0.0</td>\n",
       "      <td>10.6</td>\n",
       "      <td>14.0</td>\n",
       "    </tr>\n",
       "    <tr>\n",
       "      <th>294765</th>\n",
       "      <td>Coca-Cola</td>\n",
       "      <td>NaN</td>\n",
       "      <td>NaN</td>\n",
       "      <td>NaN</td>\n",
       "      <td>NaN</td>\n",
       "    </tr>\n",
       "    <tr>\n",
       "      <th>294770</th>\n",
       "      <td>Coca-Cola</td>\n",
       "      <td>180.0</td>\n",
       "      <td>0.0</td>\n",
       "      <td>10.6</td>\n",
       "      <td>14.0</td>\n",
       "    </tr>\n",
       "    <tr>\n",
       "      <th>294771</th>\n",
       "      <td>Coca-Cola</td>\n",
       "      <td>180.0</td>\n",
       "      <td>0.0</td>\n",
       "      <td>10.6</td>\n",
       "      <td>14.0</td>\n",
       "    </tr>\n",
       "    <tr>\n",
       "      <th>294776</th>\n",
       "      <td>Coca-Cola</td>\n",
       "      <td>176.0</td>\n",
       "      <td>0.0</td>\n",
       "      <td>10.8</td>\n",
       "      <td>14.0</td>\n",
       "    </tr>\n",
       "    <tr>\n",
       "      <th>308274</th>\n",
       "      <td>Coca-Cola</td>\n",
       "      <td>190.0</td>\n",
       "      <td>0.0</td>\n",
       "      <td>11.2</td>\n",
       "      <td>15.0</td>\n",
       "    </tr>\n",
       "    <tr>\n",
       "      <th>308284</th>\n",
       "      <td>Coca-Cola</td>\n",
       "      <td>180.0</td>\n",
       "      <td>0.0</td>\n",
       "      <td>10.6</td>\n",
       "      <td>14.0</td>\n",
       "    </tr>\n",
       "    <tr>\n",
       "      <th>308293</th>\n",
       "      <td>Coca-Cola</td>\n",
       "      <td>NaN</td>\n",
       "      <td>NaN</td>\n",
       "      <td>NaN</td>\n",
       "      <td>NaN</td>\n",
       "    </tr>\n",
       "    <tr>\n",
       "      <th>308311</th>\n",
       "      <td>Coca-Cola</td>\n",
       "      <td>180.0</td>\n",
       "      <td>0.0</td>\n",
       "      <td>10.8</td>\n",
       "      <td>14.0</td>\n",
       "    </tr>\n",
       "    <tr>\n",
       "      <th>308364</th>\n",
       "      <td>Coca-Cola</td>\n",
       "      <td>180.0</td>\n",
       "      <td>0.0</td>\n",
       "      <td>10.6</td>\n",
       "      <td>14.0</td>\n",
       "    </tr>\n",
       "    <tr>\n",
       "      <th>308381</th>\n",
       "      <td>Coca-Cola</td>\n",
       "      <td>180.0</td>\n",
       "      <td>0.0</td>\n",
       "      <td>10.6</td>\n",
       "      <td>14.0</td>\n",
       "    </tr>\n",
       "    <tr>\n",
       "      <th>308402</th>\n",
       "      <td>Coca-Cola</td>\n",
       "      <td>180.0</td>\n",
       "      <td>0.0</td>\n",
       "      <td>10.6</td>\n",
       "      <td>14.0</td>\n",
       "    </tr>\n",
       "    <tr>\n",
       "      <th>308537</th>\n",
       "      <td>Coca-Cola</td>\n",
       "      <td>180.0</td>\n",
       "      <td>0.0</td>\n",
       "      <td>10.6</td>\n",
       "      <td>14.0</td>\n",
       "    </tr>\n",
       "    <tr>\n",
       "      <th>308566</th>\n",
       "      <td>Coca-Cola</td>\n",
       "      <td>180.0</td>\n",
       "      <td>0.0</td>\n",
       "      <td>10.6</td>\n",
       "      <td>14.0</td>\n",
       "    </tr>\n",
       "    <tr>\n",
       "      <th>308619</th>\n",
       "      <td>Coca-Cola</td>\n",
       "      <td>NaN</td>\n",
       "      <td>NaN</td>\n",
       "      <td>NaN</td>\n",
       "      <td>NaN</td>\n",
       "    </tr>\n",
       "    <tr>\n",
       "      <th>308627</th>\n",
       "      <td>Coca-Cola</td>\n",
       "      <td>180.0</td>\n",
       "      <td>0.0</td>\n",
       "      <td>10.6</td>\n",
       "      <td>14.0</td>\n",
       "    </tr>\n",
       "    <tr>\n",
       "      <th>308639</th>\n",
       "      <td>Coca-Cola</td>\n",
       "      <td>180.0</td>\n",
       "      <td>0.0</td>\n",
       "      <td>10.6</td>\n",
       "      <td>14.0</td>\n",
       "    </tr>\n",
       "    <tr>\n",
       "      <th>308643</th>\n",
       "      <td>Coca-Cola</td>\n",
       "      <td>180.0</td>\n",
       "      <td>0.0</td>\n",
       "      <td>10.6</td>\n",
       "      <td>14.0</td>\n",
       "    </tr>\n",
       "    <tr>\n",
       "      <th>310001</th>\n",
       "      <td>Coca-Cola</td>\n",
       "      <td>180.0</td>\n",
       "      <td>0.0</td>\n",
       "      <td>10.6</td>\n",
       "      <td>14.0</td>\n",
       "    </tr>\n",
       "    <tr>\n",
       "      <th>310038</th>\n",
       "      <td>Coca-Cola</td>\n",
       "      <td>NaN</td>\n",
       "      <td>NaN</td>\n",
       "      <td>NaN</td>\n",
       "      <td>NaN</td>\n",
       "    </tr>\n",
       "    <tr>\n",
       "      <th>310045</th>\n",
       "      <td>Coca-Cola</td>\n",
       "      <td>NaN</td>\n",
       "      <td>NaN</td>\n",
       "      <td>NaN</td>\n",
       "      <td>NaN</td>\n",
       "    </tr>\n",
       "    <tr>\n",
       "      <th>310266</th>\n",
       "      <td>Coca-Cola</td>\n",
       "      <td>180.0</td>\n",
       "      <td>0.0</td>\n",
       "      <td>10.6</td>\n",
       "      <td>2.0</td>\n",
       "    </tr>\n",
       "    <tr>\n",
       "      <th>314166</th>\n",
       "      <td>Coca-Cola</td>\n",
       "      <td>176.0</td>\n",
       "      <td>0.0</td>\n",
       "      <td>NaN</td>\n",
       "      <td>NaN</td>\n",
       "    </tr>\n",
       "    <tr>\n",
       "      <th>331164</th>\n",
       "      <td>Coca-Cola</td>\n",
       "      <td>178.0</td>\n",
       "      <td>0.0</td>\n",
       "      <td>NaN</td>\n",
       "      <td>NaN</td>\n",
       "    </tr>\n",
       "    <tr>\n",
       "      <th>331165</th>\n",
       "      <td>Coca-Cola</td>\n",
       "      <td>NaN</td>\n",
       "      <td>NaN</td>\n",
       "      <td>NaN</td>\n",
       "      <td>NaN</td>\n",
       "    </tr>\n",
       "    <tr>\n",
       "      <th>337911</th>\n",
       "      <td>Coca-Cola</td>\n",
       "      <td>NaN</td>\n",
       "      <td>NaN</td>\n",
       "      <td>NaN</td>\n",
       "      <td>NaN</td>\n",
       "    </tr>\n",
       "    <tr>\n",
       "      <th>348778</th>\n",
       "      <td>Coca-Cola</td>\n",
       "      <td>180.0</td>\n",
       "      <td>0.0</td>\n",
       "      <td>10.6</td>\n",
       "      <td>14.0</td>\n",
       "    </tr>\n",
       "    <tr>\n",
       "      <th>351616</th>\n",
       "      <td>Coca-Cola</td>\n",
       "      <td>NaN</td>\n",
       "      <td>NaN</td>\n",
       "      <td>NaN</td>\n",
       "      <td>NaN</td>\n",
       "    </tr>\n",
       "    <tr>\n",
       "      <th>353204</th>\n",
       "      <td>Coca-Cola</td>\n",
       "      <td>180.0</td>\n",
       "      <td>0.0</td>\n",
       "      <td>10.6</td>\n",
       "      <td>14.0</td>\n",
       "    </tr>\n",
       "    <tr>\n",
       "      <th>354220</th>\n",
       "      <td>Coca-Cola</td>\n",
       "      <td>NaN</td>\n",
       "      <td>NaN</td>\n",
       "      <td>NaN</td>\n",
       "      <td>NaN</td>\n",
       "    </tr>\n",
       "  </tbody>\n",
       "</table>\n",
       "</div>"
      ],
      "text/plain": [
       "       product_name  energy_100g  fat_100g  sugars_100g  \\\n",
       "60158     Coca-Cola        165.0       0.0         11.0   \n",
       "117331    Coca-Cola        167.0       0.0         10.8   \n",
       "117577    Coca-Cola          NaN       NaN          NaN   \n",
       "117580    Coca-Cola        165.0       0.0         11.0   \n",
       "125272    Coca-Cola          NaN       NaN          NaN   \n",
       "133903    Coca-Cola        177.0       0.0         11.0   \n",
       "203574    Coca-Cola        180.0       0.0         10.8   \n",
       "236373    Coca-Cola        176.0       1.0         10.6   \n",
       "267455    Coca-Cola          NaN       NaN          NaN   \n",
       "294153    Coca-Cola          NaN       NaN          NaN   \n",
       "294658    Coca-Cola        180.0       0.0         10.6   \n",
       "294666    Coca-Cola        180.0       0.0         10.6   \n",
       "294669    Coca-Cola        176.0       0.0         10.6   \n",
       "294676    Coca-Cola        180.0       0.0         10.6   \n",
       "294681    Coca-Cola        180.0       0.0         10.6   \n",
       "294682    Coca-Cola        180.0       0.0         10.6   \n",
       "294684    Coca-Cola        180.0       NaN         10.6   \n",
       "294704    Coca-Cola        176.0       0.0         10.6   \n",
       "294707    Coca-Cola        180.0       0.0         10.6   \n",
       "294713    Coca-Cola        176.0       0.0         10.6   \n",
       "294740    Coca-Cola          NaN       NaN          NaN   \n",
       "294744    Coca-Cola        180.0       0.0         10.6   \n",
       "294748    Coca-Cola        176.0       0.0         10.6   \n",
       "294749    Coca-Cola        180.0       0.0         10.6   \n",
       "294750    Coca-Cola        180.0       0.0         10.6   \n",
       "294765    Coca-Cola          NaN       NaN          NaN   \n",
       "294770    Coca-Cola        180.0       0.0         10.6   \n",
       "294771    Coca-Cola        180.0       0.0         10.6   \n",
       "294776    Coca-Cola        176.0       0.0         10.8   \n",
       "308274    Coca-Cola        190.0       0.0         11.2   \n",
       "308284    Coca-Cola        180.0       0.0         10.6   \n",
       "308293    Coca-Cola          NaN       NaN          NaN   \n",
       "308311    Coca-Cola        180.0       0.0         10.8   \n",
       "308364    Coca-Cola        180.0       0.0         10.6   \n",
       "308381    Coca-Cola        180.0       0.0         10.6   \n",
       "308402    Coca-Cola        180.0       0.0         10.6   \n",
       "308537    Coca-Cola        180.0       0.0         10.6   \n",
       "308566    Coca-Cola        180.0       0.0         10.6   \n",
       "308619    Coca-Cola          NaN       NaN          NaN   \n",
       "308627    Coca-Cola        180.0       0.0         10.6   \n",
       "308639    Coca-Cola        180.0       0.0         10.6   \n",
       "308643    Coca-Cola        180.0       0.0         10.6   \n",
       "310001    Coca-Cola        180.0       0.0         10.6   \n",
       "310038    Coca-Cola          NaN       NaN          NaN   \n",
       "310045    Coca-Cola          NaN       NaN          NaN   \n",
       "310266    Coca-Cola        180.0       0.0         10.6   \n",
       "314166    Coca-Cola        176.0       0.0          NaN   \n",
       "331164    Coca-Cola        178.0       0.0          NaN   \n",
       "331165    Coca-Cola          NaN       NaN          NaN   \n",
       "337911    Coca-Cola          NaN       NaN          NaN   \n",
       "348778    Coca-Cola        180.0       0.0         10.6   \n",
       "351616    Coca-Cola          NaN       NaN          NaN   \n",
       "353204    Coca-Cola        180.0       0.0         10.6   \n",
       "354220    Coca-Cola          NaN       NaN          NaN   \n",
       "\n",
       "        nutrition-score-fr_100g  \n",
       "60158                       NaN  \n",
       "117331                     14.0  \n",
       "117577                      NaN  \n",
       "117580                     14.0  \n",
       "125272                      NaN  \n",
       "133903                      NaN  \n",
       "203574                     14.0  \n",
       "236373                     14.0  \n",
       "267455                      NaN  \n",
       "294153                      NaN  \n",
       "294658                     14.0  \n",
       "294666                     14.0  \n",
       "294669                     14.0  \n",
       "294676                     14.0  \n",
       "294681                      NaN  \n",
       "294682                     14.0  \n",
       "294684                      NaN  \n",
       "294704                     14.0  \n",
       "294707                     14.0  \n",
       "294713                     14.0  \n",
       "294740                      NaN  \n",
       "294744                     14.0  \n",
       "294748                     14.0  \n",
       "294749                     14.0  \n",
       "294750                     14.0  \n",
       "294765                      NaN  \n",
       "294770                     14.0  \n",
       "294771                     14.0  \n",
       "294776                     14.0  \n",
       "308274                     15.0  \n",
       "308284                     14.0  \n",
       "308293                      NaN  \n",
       "308311                     14.0  \n",
       "308364                     14.0  \n",
       "308381                     14.0  \n",
       "308402                     14.0  \n",
       "308537                     14.0  \n",
       "308566                     14.0  \n",
       "308619                      NaN  \n",
       "308627                     14.0  \n",
       "308639                     14.0  \n",
       "308643                     14.0  \n",
       "310001                     14.0  \n",
       "310038                      NaN  \n",
       "310045                      NaN  \n",
       "310266                      2.0  \n",
       "314166                      NaN  \n",
       "331164                      NaN  \n",
       "331165                      NaN  \n",
       "337911                      NaN  \n",
       "348778                     14.0  \n",
       "351616                      NaN  \n",
       "353204                     14.0  \n",
       "354220                      NaN  "
      ]
     },
     "execution_count": 8,
     "metadata": {},
     "output_type": "execute_result"
    }
   ],
   "source": [
    "print(df.loc[df['product_name'] == \"Coca-Cola\"].shape[0])\n",
    "df.loc[df['product_name'] == \"Coca-Cola\", ('product_name', 'energy_100g', 'fat_100g', 'sugars_100g', 'nutrition-score-fr_100g')]"
   ]
  },
  {
   "cell_type": "markdown",
   "metadata": {},
   "source": [
    "Again, we note that values are very similar. And also, that there are many nas."
   ]
  },
  {
   "cell_type": "markdown",
   "metadata": {},
   "source": [
    "It is now time to decide what to do with all the nas. For columns, we migt simply decide to keep those that have a sufficient amount of data. We might therefore use a cutoff, or minimum percentage of na for a column to be selected. We might also simply select the ones that are relevant to our research interests.\n",
    "\n",
    "For rows, it is harder to decide. We might use a cutoff as well, however it would be harder to set: contrary to variables, how do you decide what is an 'interesting' row? Alternatively, we might replace nas with averages. But there are so many nas (in most cases, more than actual observations!) that I'm not sure this would be reliable. Yet another solution would be to use pairwise deletion when analysing the data, yet this is a slightly controversial strategy.\n",
    "\n",
    "After careful reflection, we can also decide to get rid of the nas using the df.dropna() method, and this is what we will do here. This method is not often useful, since it drops too many observations. In this case however, it can be used because it will still retain most of the products (if not rows), thanks to the fact that many are near-duplicates, as we have seen above. For example, if we were to use the df.dropna() method on the Toblerone subset above (cell 7), we would still retain 14 of the 18 entries.\n",
    "\n",
    "We will lose some products, yes. But since the dataset is large, and that it consists mainly of missing data and near duplicates, this is an acceptable limitation. So let's proceeed with columns and rows selection."
   ]
  },
  {
   "cell_type": "markdown",
   "metadata": {},
   "source": [
    "#### Columns selection"
   ]
  },
  {
   "cell_type": "markdown",
   "metadata": {},
   "source": [
    "In the histogram above, we have seen that a bunch of columns have a na percentage between 0 and 40, which seems promising. Let's have a look at them:"
   ]
  },
  {
   "cell_type": "code",
   "execution_count": 9,
   "metadata": {},
   "outputs": [
    {
     "name": "stdout",
     "output_type": "stream",
     "text": [
      "                                                0\n",
      "code                                     0.000073\n",
      "url                                      0.000073\n",
      "creator                                  0.000008\n",
      "created_t                                0.000008\n",
      "created_datetime                         0.000028\n",
      "last_modified_t                          0.000000\n",
      "last_modified_datetime                   0.000000\n",
      "product_name                             0.049187\n",
      "brands                                   0.081595\n",
      "brands_tags                              0.081651\n",
      "countries                                0.000772\n",
      "countries_tags                           0.000772\n",
      "countries_en                             0.000772\n",
      "ingredients_text                         0.202608\n",
      "serving_size                             0.391560\n",
      "additives_n                              0.202681\n",
      "additives                                0.202799\n",
      "ingredients_from_palm_oil_n              0.202681\n",
      "ingredients_that_may_be_from_palm_oil_n  0.202681\n",
      "nutrition_grade_fr                       0.284167\n",
      "states                                   0.000146\n",
      "states_tags                              0.000146\n",
      "states_en                                0.000146\n",
      "energy_100g                              0.170380\n",
      "fat_100g                                 0.214956\n",
      "saturated-fat_100g                       0.258980\n",
      "carbohydrates_100g                       0.215734\n",
      "sugars_100g                              0.215829\n",
      "fiber_100g                               0.380151\n",
      "proteins_100g                            0.173768\n",
      "salt_100g                                0.186188\n",
      "sodium_100g                              0.186315\n",
      "nutrition-score-fr_100g                  0.284167\n",
      "nutrition-score-uk_100g                  0.284167 0    34\n",
      "dtype: int64\n"
     ]
    }
   ],
   "source": [
    "selection=nan_bycol[nan_bycol[0] <= 0.4]\n",
    "print(selection, selection.count())"
   ]
  },
  {
   "cell_type": "markdown",
   "metadata": {},
   "source": [
    "Indeed we have interesting columns here, such as salt, fat, sugar, nutrition score, etc. We also have a mix of numerical and categorical variables. That said, it seems that some of them contain similar or identical information in different form. We also don't need columns such as url, creator, etc. Let's first drop columns with a na percentage greater than 0.4:"
   ]
  },
  {
   "cell_type": "code",
   "execution_count": 10,
   "metadata": {},
   "outputs": [
    {
     "data": {
      "text/plain": [
       "(356027, 34)"
      ]
     },
     "execution_count": 10,
     "metadata": {},
     "output_type": "execute_result"
    }
   ],
   "source": [
    "cutoff = len(df)*0.4\n",
    "df = df.dropna(thresh=len(df) - cutoff, axis=1)\n",
    "df.shape"
   ]
  },
  {
   "cell_type": "markdown",
   "metadata": {},
   "source": [
    "Note we now have 34 columns. Also note we find how to specify the threshold here: https://stackoverflow.com/questions/30923324/pandas-dataframe-drop-columns-by-number-of-nan. We can now discard the other columns which we will not use:"
   ]
  },
  {
   "cell_type": "code",
   "execution_count": 11,
   "metadata": {},
   "outputs": [],
   "source": [
    "df = df.drop(['url', 'creator', 'created_t', 'last_modified_t', 'brands', 'countries', 'countries_tags', 'states_tags', 'states_en', 'nutrition-score-fr_100g'], axis=1)"
   ]
  },
  {
   "cell_type": "markdown",
   "metadata": {},
   "source": [
    "Let's check the new shape of our df. It now has 24 columns:"
   ]
  },
  {
   "cell_type": "code",
   "execution_count": 12,
   "metadata": {},
   "outputs": [
    {
     "data": {
      "text/plain": [
       "(356027, 24)"
      ]
     },
     "execution_count": 12,
     "metadata": {},
     "output_type": "execute_result"
    }
   ],
   "source": [
    "df.shape"
   ]
  },
  {
   "cell_type": "markdown",
   "metadata": {},
   "source": [
    "#### Rows selection"
   ]
  },
  {
   "cell_type": "markdown",
   "metadata": {},
   "source": [
    "As explained above, we will use the df.dropna() method:"
   ]
  },
  {
   "cell_type": "code",
   "execution_count": 13,
   "metadata": {},
   "outputs": [
    {
     "data": {
      "text/plain": [
       "(157157, 24)"
      ]
     },
     "execution_count": 13,
     "metadata": {},
     "output_type": "execute_result"
    }
   ],
   "source": [
    "df = df.dropna()\n",
    "df.shape"
   ]
  },
  {
   "cell_type": "markdown",
   "metadata": {},
   "source": [
    "We now have 157,157 rows, meaning we have dropped approximately 44% of rows. This is a lot, yes, but remember that most rows are almost entirely empty anyway! We still have plenty of data to analyse, and these data are fully complete. Anecdotally, Let's also check how many of the Toblerone are left:"
   ]
  },
  {
   "cell_type": "code",
   "execution_count": 14,
   "metadata": {},
   "outputs": [
    {
     "data": {
      "text/html": [
       "<div>\n",
       "<style scoped>\n",
       "    .dataframe tbody tr th:only-of-type {\n",
       "        vertical-align: middle;\n",
       "    }\n",
       "\n",
       "    .dataframe tbody tr th {\n",
       "        vertical-align: top;\n",
       "    }\n",
       "\n",
       "    .dataframe thead th {\n",
       "        text-align: right;\n",
       "    }\n",
       "</style>\n",
       "<table border=\"1\" class=\"dataframe\">\n",
       "  <thead>\n",
       "    <tr style=\"text-align: right;\">\n",
       "      <th></th>\n",
       "      <th>code</th>\n",
       "      <th>created_datetime</th>\n",
       "      <th>last_modified_datetime</th>\n",
       "      <th>product_name</th>\n",
       "      <th>brands_tags</th>\n",
       "      <th>countries_en</th>\n",
       "      <th>ingredients_text</th>\n",
       "      <th>serving_size</th>\n",
       "      <th>additives_n</th>\n",
       "      <th>additives</th>\n",
       "      <th>...</th>\n",
       "      <th>energy_100g</th>\n",
       "      <th>fat_100g</th>\n",
       "      <th>saturated-fat_100g</th>\n",
       "      <th>carbohydrates_100g</th>\n",
       "      <th>sugars_100g</th>\n",
       "      <th>fiber_100g</th>\n",
       "      <th>proteins_100g</th>\n",
       "      <th>salt_100g</th>\n",
       "      <th>sodium_100g</th>\n",
       "      <th>nutrition-score-uk_100g</th>\n",
       "    </tr>\n",
       "  </thead>\n",
       "  <tbody>\n",
       "    <tr>\n",
       "      <th>91925</th>\n",
       "      <td>0076223000264</td>\n",
       "      <td>2016-03-18T15:25:04Z</td>\n",
       "      <td>2016-03-24T19:48:48Z</td>\n",
       "      <td>Toblerone</td>\n",
       "      <td>mondolez</td>\n",
       "      <td>Turkey</td>\n",
       "      <td>Ballı badem nugatlı %10 İsviçre sütlü çikolata...</td>\n",
       "      <td>35 g</td>\n",
       "      <td>0.0</td>\n",
       "      <td>[ ballı-badem-nugatlı-10-i̇svicre-sutlu-cikol...</td>\n",
       "      <td>...</td>\n",
       "      <td>2235.0</td>\n",
       "      <td>29.5</td>\n",
       "      <td>18.0</td>\n",
       "      <td>60.5</td>\n",
       "      <td>59.5</td>\n",
       "      <td>2.2</td>\n",
       "      <td>5.6</td>\n",
       "      <td>0.150000</td>\n",
       "      <td>0.059055</td>\n",
       "      <td>23.0</td>\n",
       "    </tr>\n",
       "    <tr>\n",
       "      <th>282240</th>\n",
       "      <td>4007993020264</td>\n",
       "      <td>2015-09-27T20:08:57Z</td>\n",
       "      <td>2017-02-16T14:47:47Z</td>\n",
       "      <td>Toblerone</td>\n",
       "      <td>toblerone,rolland-s-a-s</td>\n",
       "      <td>France,Switzerland</td>\n",
       "      <td>LAIT écrémé reconstitué, sucre, beurre de caca...</td>\n",
       "      <td>66 g</td>\n",
       "      <td>5.0</td>\n",
       "      <td>[ lait-ecreme-reconstitue -&gt; fr:lait-ecreme-r...</td>\n",
       "      <td>...</td>\n",
       "      <td>1502.0</td>\n",
       "      <td>21.4</td>\n",
       "      <td>13.2</td>\n",
       "      <td>37.2</td>\n",
       "      <td>35.9</td>\n",
       "      <td>1.7</td>\n",
       "      <td>3.8</td>\n",
       "      <td>0.200000</td>\n",
       "      <td>0.078740</td>\n",
       "      <td>19.0</td>\n",
       "    </tr>\n",
       "    <tr>\n",
       "      <th>326138</th>\n",
       "      <td>7614500010013</td>\n",
       "      <td>2012-04-12T08:20:28Z</td>\n",
       "      <td>2017-02-16T14:36:37Z</td>\n",
       "      <td>Toblerone</td>\n",
       "      <td>toblerone,kraft-foods,mondelez-international</td>\n",
       "      <td>Belgium,France,Switzerland</td>\n",
       "      <td>Sucre, poudre de lait entier, beurre de cacao,...</td>\n",
       "      <td>25g</td>\n",
       "      <td>1.0</td>\n",
       "      <td>[ sucre -&gt; fr:sucre  ]  [ poudre-de-lait-enti...</td>\n",
       "      <td>...</td>\n",
       "      <td>2238.0</td>\n",
       "      <td>29.5</td>\n",
       "      <td>18.0</td>\n",
       "      <td>60.5</td>\n",
       "      <td>59.5</td>\n",
       "      <td>2.2</td>\n",
       "      <td>5.6</td>\n",
       "      <td>0.150114</td>\n",
       "      <td>0.059100</td>\n",
       "      <td>23.0</td>\n",
       "    </tr>\n",
       "    <tr>\n",
       "      <th>326143</th>\n",
       "      <td>7614500034033</td>\n",
       "      <td>2013-04-26T09:25:47Z</td>\n",
       "      <td>2017-02-07T19:20:18Z</td>\n",
       "      <td>Toblerone</td>\n",
       "      <td>toblerone,mondelez-international</td>\n",
       "      <td>Australia,France,Switzerland</td>\n",
       "      <td>Swiss Milk Chocolate with Honey and Almond Nou...</td>\n",
       "      <td>26,7 g</td>\n",
       "      <td>1.0</td>\n",
       "      <td>[ swiss-milk-chocolate-with-honey-and-almond-...</td>\n",
       "      <td>...</td>\n",
       "      <td>2235.0</td>\n",
       "      <td>29.5</td>\n",
       "      <td>18.0</td>\n",
       "      <td>60.5</td>\n",
       "      <td>59.5</td>\n",
       "      <td>2.2</td>\n",
       "      <td>5.6</td>\n",
       "      <td>0.150000</td>\n",
       "      <td>0.059055</td>\n",
       "      <td>23.0</td>\n",
       "    </tr>\n",
       "    <tr>\n",
       "      <th>329048</th>\n",
       "      <td>7622210496225</td>\n",
       "      <td>2017-02-05T14:22:16Z</td>\n",
       "      <td>2017-02-16T14:36:37Z</td>\n",
       "      <td>Toblerone</td>\n",
       "      <td>toblerone</td>\n",
       "      <td>Switzerland</td>\n",
       "      <td>Sucre, Lait entier en poudre, beurre de cacao,...</td>\n",
       "      <td>360 g</td>\n",
       "      <td>1.0</td>\n",
       "      <td>[ sucre -&gt; fr:sucre  ]  [ lait-entier-en-poud...</td>\n",
       "      <td>...</td>\n",
       "      <td>2235.0</td>\n",
       "      <td>29.5</td>\n",
       "      <td>18.0</td>\n",
       "      <td>60.5</td>\n",
       "      <td>59.5</td>\n",
       "      <td>2.2</td>\n",
       "      <td>5.6</td>\n",
       "      <td>0.150000</td>\n",
       "      <td>0.059055</td>\n",
       "      <td>23.0</td>\n",
       "    </tr>\n",
       "  </tbody>\n",
       "</table>\n",
       "<p>5 rows × 24 columns</p>\n",
       "</div>"
      ],
      "text/plain": [
       "                 code      created_datetime last_modified_datetime  \\\n",
       "91925   0076223000264  2016-03-18T15:25:04Z   2016-03-24T19:48:48Z   \n",
       "282240  4007993020264  2015-09-27T20:08:57Z   2017-02-16T14:47:47Z   \n",
       "326138  7614500010013  2012-04-12T08:20:28Z   2017-02-16T14:36:37Z   \n",
       "326143  7614500034033  2013-04-26T09:25:47Z   2017-02-07T19:20:18Z   \n",
       "329048  7622210496225  2017-02-05T14:22:16Z   2017-02-16T14:36:37Z   \n",
       "\n",
       "       product_name                                   brands_tags  \\\n",
       "91925     Toblerone                                      mondolez   \n",
       "282240    Toblerone                       toblerone,rolland-s-a-s   \n",
       "326138    Toblerone  toblerone,kraft-foods,mondelez-international   \n",
       "326143    Toblerone              toblerone,mondelez-international   \n",
       "329048    Toblerone                                     toblerone   \n",
       "\n",
       "                        countries_en  \\\n",
       "91925                         Turkey   \n",
       "282240            France,Switzerland   \n",
       "326138    Belgium,France,Switzerland   \n",
       "326143  Australia,France,Switzerland   \n",
       "329048                   Switzerland   \n",
       "\n",
       "                                         ingredients_text serving_size  \\\n",
       "91925   Ballı badem nugatlı %10 İsviçre sütlü çikolata...         35 g   \n",
       "282240  LAIT écrémé reconstitué, sucre, beurre de caca...         66 g   \n",
       "326138  Sucre, poudre de lait entier, beurre de cacao,...          25g   \n",
       "326143  Swiss Milk Chocolate with Honey and Almond Nou...       26,7 g   \n",
       "329048  Sucre, Lait entier en poudre, beurre de cacao,...        360 g   \n",
       "\n",
       "        additives_n                                          additives  ...  \\\n",
       "91925           0.0   [ ballı-badem-nugatlı-10-i̇svicre-sutlu-cikol...  ...   \n",
       "282240          5.0   [ lait-ecreme-reconstitue -> fr:lait-ecreme-r...  ...   \n",
       "326138          1.0   [ sucre -> fr:sucre  ]  [ poudre-de-lait-enti...  ...   \n",
       "326143          1.0   [ swiss-milk-chocolate-with-honey-and-almond-...  ...   \n",
       "329048          1.0   [ sucre -> fr:sucre  ]  [ lait-entier-en-poud...  ...   \n",
       "\n",
       "        energy_100g  fat_100g saturated-fat_100g carbohydrates_100g  \\\n",
       "91925        2235.0      29.5               18.0               60.5   \n",
       "282240       1502.0      21.4               13.2               37.2   \n",
       "326138       2238.0      29.5               18.0               60.5   \n",
       "326143       2235.0      29.5               18.0               60.5   \n",
       "329048       2235.0      29.5               18.0               60.5   \n",
       "\n",
       "        sugars_100g  fiber_100g  proteins_100g  salt_100g  sodium_100g  \\\n",
       "91925          59.5         2.2            5.6   0.150000     0.059055   \n",
       "282240         35.9         1.7            3.8   0.200000     0.078740   \n",
       "326138         59.5         2.2            5.6   0.150114     0.059100   \n",
       "326143         59.5         2.2            5.6   0.150000     0.059055   \n",
       "329048         59.5         2.2            5.6   0.150000     0.059055   \n",
       "\n",
       "        nutrition-score-uk_100g  \n",
       "91925                      23.0  \n",
       "282240                     19.0  \n",
       "326138                     23.0  \n",
       "326143                     23.0  \n",
       "329048                     23.0  \n",
       "\n",
       "[5 rows x 24 columns]"
      ]
     },
     "execution_count": 14,
     "metadata": {},
     "output_type": "execute_result"
    }
   ],
   "source": [
    "df.loc[df['product_name'] == \"Toblerone\"]"
   ]
  },
  {
   "cell_type": "markdown",
   "metadata": {},
   "source": [
    "We still have 5 of them (out of the initial 18), meaning we have reduced redundancy. Also note the values are very similar between rows, as discussed above."
   ]
  },
  {
   "cell_type": "markdown",
   "metadata": {},
   "source": [
    "#### Duplicates"
   ]
  },
  {
   "cell_type": "markdown",
   "metadata": {},
   "source": [
    "We finally do a quick search on duplicates. We will use 2 columns, code and product_name:"
   ]
  },
  {
   "cell_type": "code",
   "execution_count": 15,
   "metadata": {},
   "outputs": [
    {
     "data": {
      "text/plain": [
       "0"
      ]
     },
     "execution_count": 15,
     "metadata": {},
     "output_type": "execute_result"
    }
   ],
   "source": [
    "df.duplicated(subset=('code')).sum()"
   ]
  },
  {
   "cell_type": "markdown",
   "metadata": {},
   "source": [
    "There does not seem to be any duplicates in our subset of the data."
   ]
  },
  {
   "cell_type": "markdown",
   "metadata": {},
   "source": [
    "### Exploratory data analysis"
   ]
  },
  {
   "cell_type": "markdown",
   "metadata": {},
   "source": [
    "We are now ready to explore our slimmed dataset. We'll start with the 13 numerical variables, looking for potential errors and outliers."
   ]
  },
  {
   "cell_type": "markdown",
   "metadata": {},
   "source": [
    "#### Outliers"
   ]
  },
  {
   "cell_type": "markdown",
   "metadata": {},
   "source": [
    "We first use the describe() method, which will give us a quick summary of descriptive stats:"
   ]
  },
  {
   "cell_type": "code",
   "execution_count": 16,
   "metadata": {},
   "outputs": [
    {
     "data": {
      "text/html": [
       "<div>\n",
       "<style scoped>\n",
       "    .dataframe tbody tr th:only-of-type {\n",
       "        vertical-align: middle;\n",
       "    }\n",
       "\n",
       "    .dataframe tbody tr th {\n",
       "        vertical-align: top;\n",
       "    }\n",
       "\n",
       "    .dataframe thead th {\n",
       "        text-align: right;\n",
       "    }\n",
       "</style>\n",
       "<table border=\"1\" class=\"dataframe\">\n",
       "  <thead>\n",
       "    <tr style=\"text-align: right;\">\n",
       "      <th></th>\n",
       "      <th>additives_n</th>\n",
       "      <th>ingredients_from_palm_oil_n</th>\n",
       "      <th>ingredients_that_may_be_from_palm_oil_n</th>\n",
       "      <th>energy_100g</th>\n",
       "      <th>fat_100g</th>\n",
       "      <th>saturated-fat_100g</th>\n",
       "      <th>carbohydrates_100g</th>\n",
       "      <th>sugars_100g</th>\n",
       "      <th>fiber_100g</th>\n",
       "      <th>proteins_100g</th>\n",
       "      <th>salt_100g</th>\n",
       "      <th>sodium_100g</th>\n",
       "      <th>nutrition-score-uk_100g</th>\n",
       "    </tr>\n",
       "  </thead>\n",
       "  <tbody>\n",
       "    <tr>\n",
       "      <th>count</th>\n",
       "      <td>157157.00</td>\n",
       "      <td>157157.00</td>\n",
       "      <td>157157.00</td>\n",
       "      <td>157157.00</td>\n",
       "      <td>157157.00</td>\n",
       "      <td>157157.00</td>\n",
       "      <td>157157.00</td>\n",
       "      <td>157157.00</td>\n",
       "      <td>157157.00</td>\n",
       "      <td>157157.00</td>\n",
       "      <td>157157.00</td>\n",
       "      <td>157157.00</td>\n",
       "      <td>157157.00</td>\n",
       "    </tr>\n",
       "    <tr>\n",
       "      <th>mean</th>\n",
       "      <td>2.02</td>\n",
       "      <td>0.01</td>\n",
       "      <td>0.05</td>\n",
       "      <td>1198.21</td>\n",
       "      <td>13.11</td>\n",
       "      <td>4.65</td>\n",
       "      <td>35.10</td>\n",
       "      <td>15.16</td>\n",
       "      <td>2.86</td>\n",
       "      <td>7.81</td>\n",
       "      <td>1.40</td>\n",
       "      <td>0.55</td>\n",
       "      <td>8.95</td>\n",
       "    </tr>\n",
       "    <tr>\n",
       "      <th>std</th>\n",
       "      <td>2.57</td>\n",
       "      <td>0.12</td>\n",
       "      <td>0.24</td>\n",
       "      <td>753.23</td>\n",
       "      <td>15.45</td>\n",
       "      <td>6.85</td>\n",
       "      <td>28.17</td>\n",
       "      <td>19.39</td>\n",
       "      <td>4.36</td>\n",
       "      <td>7.99</td>\n",
       "      <td>15.16</td>\n",
       "      <td>5.97</td>\n",
       "      <td>9.09</td>\n",
       "    </tr>\n",
       "    <tr>\n",
       "      <th>min</th>\n",
       "      <td>0.00</td>\n",
       "      <td>0.00</td>\n",
       "      <td>0.00</td>\n",
       "      <td>0.00</td>\n",
       "      <td>0.00</td>\n",
       "      <td>0.00</td>\n",
       "      <td>0.00</td>\n",
       "      <td>-17.86</td>\n",
       "      <td>0.00</td>\n",
       "      <td>-3.57</td>\n",
       "      <td>0.00</td>\n",
       "      <td>0.00</td>\n",
       "      <td>-15.00</td>\n",
       "    </tr>\n",
       "    <tr>\n",
       "      <th>25%</th>\n",
       "      <td>0.00</td>\n",
       "      <td>0.00</td>\n",
       "      <td>0.00</td>\n",
       "      <td>469.00</td>\n",
       "      <td>0.88</td>\n",
       "      <td>0.00</td>\n",
       "      <td>8.77</td>\n",
       "      <td>1.60</td>\n",
       "      <td>0.00</td>\n",
       "      <td>2.34</td>\n",
       "      <td>0.13</td>\n",
       "      <td>0.05</td>\n",
       "      <td>1.00</td>\n",
       "    </tr>\n",
       "    <tr>\n",
       "      <th>50%</th>\n",
       "      <td>1.00</td>\n",
       "      <td>0.00</td>\n",
       "      <td>0.00</td>\n",
       "      <td>1255.00</td>\n",
       "      <td>7.14</td>\n",
       "      <td>1.76</td>\n",
       "      <td>27.78</td>\n",
       "      <td>5.60</td>\n",
       "      <td>1.60</td>\n",
       "      <td>5.71</td>\n",
       "      <td>0.70</td>\n",
       "      <td>0.28</td>\n",
       "      <td>9.00</td>\n",
       "    </tr>\n",
       "    <tr>\n",
       "      <th>75%</th>\n",
       "      <td>3.00</td>\n",
       "      <td>0.00</td>\n",
       "      <td>0.00</td>\n",
       "      <td>1760.00</td>\n",
       "      <td>21.43</td>\n",
       "      <td>6.98</td>\n",
       "      <td>60.71</td>\n",
       "      <td>23.81</td>\n",
       "      <td>3.60</td>\n",
       "      <td>10.71</td>\n",
       "      <td>1.38</td>\n",
       "      <td>0.54</td>\n",
       "      <td>16.00</td>\n",
       "    </tr>\n",
       "    <tr>\n",
       "      <th>max</th>\n",
       "      <td>30.00</td>\n",
       "      <td>2.00</td>\n",
       "      <td>6.00</td>\n",
       "      <td>14644.00</td>\n",
       "      <td>100.00</td>\n",
       "      <td>100.00</td>\n",
       "      <td>139.00</td>\n",
       "      <td>145.00</td>\n",
       "      <td>100.00</td>\n",
       "      <td>100.00</td>\n",
       "      <td>3048.00</td>\n",
       "      <td>1200.00</td>\n",
       "      <td>40.00</td>\n",
       "    </tr>\n",
       "  </tbody>\n",
       "</table>\n",
       "</div>"
      ],
      "text/plain": [
       "       additives_n  ingredients_from_palm_oil_n  \\\n",
       "count    157157.00                    157157.00   \n",
       "mean          2.02                         0.01   \n",
       "std           2.57                         0.12   \n",
       "min           0.00                         0.00   \n",
       "25%           0.00                         0.00   \n",
       "50%           1.00                         0.00   \n",
       "75%           3.00                         0.00   \n",
       "max          30.00                         2.00   \n",
       "\n",
       "       ingredients_that_may_be_from_palm_oil_n  energy_100g   fat_100g  \\\n",
       "count                                157157.00    157157.00  157157.00   \n",
       "mean                                      0.05      1198.21      13.11   \n",
       "std                                       0.24       753.23      15.45   \n",
       "min                                       0.00         0.00       0.00   \n",
       "25%                                       0.00       469.00       0.88   \n",
       "50%                                       0.00      1255.00       7.14   \n",
       "75%                                       0.00      1760.00      21.43   \n",
       "max                                       6.00     14644.00     100.00   \n",
       "\n",
       "       saturated-fat_100g  carbohydrates_100g  sugars_100g  fiber_100g  \\\n",
       "count           157157.00           157157.00    157157.00   157157.00   \n",
       "mean                 4.65               35.10        15.16        2.86   \n",
       "std                  6.85               28.17        19.39        4.36   \n",
       "min                  0.00                0.00       -17.86        0.00   \n",
       "25%                  0.00                8.77         1.60        0.00   \n",
       "50%                  1.76               27.78         5.60        1.60   \n",
       "75%                  6.98               60.71        23.81        3.60   \n",
       "max                100.00              139.00       145.00      100.00   \n",
       "\n",
       "       proteins_100g  salt_100g  sodium_100g  nutrition-score-uk_100g  \n",
       "count      157157.00  157157.00    157157.00                157157.00  \n",
       "mean            7.81       1.40         0.55                     8.95  \n",
       "std             7.99      15.16         5.97                     9.09  \n",
       "min            -3.57       0.00         0.00                   -15.00  \n",
       "25%             2.34       0.13         0.05                     1.00  \n",
       "50%             5.71       0.70         0.28                     9.00  \n",
       "75%            10.71       1.38         0.54                    16.00  \n",
       "max           100.00    3048.00      1200.00                    40.00  "
      ]
     },
     "execution_count": 16,
     "metadata": {},
     "output_type": "execute_result"
    }
   ],
   "source": [
    "df.describe().round(2)"
   ]
  },
  {
   "cell_type": "markdown",
   "metadata": {},
   "source": [
    "From this we can already see that except energy and nutrition score, all our variables seem positively skewed (with a tail on the right), because their means are higher than their medians. On the contrary, energy and nutrition score seem slightly negatively skewed.\n",
    "\n",
    "We also see that there are outliers for all variables. For example, the maximum value for fiber, 100, is more than 20 standard deviations away from the mean. That said, it is too early to decide which data points are 'real' outliers. For example, fat has outliers and its maximum value is 100, but this can make sense in the case of butter or oil, meaning that with might just be dealing with sub-populations. We also note the outliers for nutrition score are less extreme.\n",
    "\n",
    "Finally, we note 3 variables (sugars, proteins, and nutrition score), have minimum values below 0, and that 5 variables (energy, carbohydrates, sugars, salt, and sodium) have maximum values above 100. For the nutrition score, the negative values are not errors, since we can see in the documentation that nutrition score can range from -15 to 40, which corresponds to the range we have in our dataset (see https://world.openfoodfacts.org/nutriscore, and consult Nutri-Score formula link, p. 24ss). Likewise, values above 100 for energy are not errors. However, negative values for sugars and proteins, as well as values above 100 for carbohydrates, sugars, salt, and sodium, are likely errors. So, we start by removing these:"
   ]
  },
  {
   "cell_type": "code",
   "execution_count": 17,
   "metadata": {},
   "outputs": [
    {
     "data": {
      "text/plain": [
       "54"
      ]
     },
     "execution_count": 17,
     "metadata": {},
     "output_type": "execute_result"
    }
   ],
   "source": [
    "errors = (df['sugars_100g'] < 0) | (df['proteins_100g'] < 0) | (df['carbohydrates_100g'] > 100) | (df['sugars_100g'] > 100) | (df['salt_100g'] > 100) | (df['sodium_100g'] > 100)\n",
    "df[errors].shape[0]"
   ]
  },
  {
   "cell_type": "markdown",
   "metadata": {},
   "source": [
    "We have 54 of them. Let's remove them from the data set:"
   ]
  },
  {
   "cell_type": "code",
   "execution_count": 18,
   "metadata": {},
   "outputs": [
    {
     "data": {
      "text/plain": [
       "(157103, 24)"
      ]
     },
     "execution_count": 18,
     "metadata": {},
     "output_type": "execute_result"
    }
   ],
   "source": [
    "df = df[~errors]\n",
    "df.shape"
   ]
  },
  {
   "cell_type": "markdown",
   "metadata": {},
   "source": [
    "Now that we have removed erros, we can plot our data (I do not include palm_oil columns since I won't use this later; also note this code is adapted from and EPFL online course):"
   ]
  },
  {
   "cell_type": "code",
   "execution_count": 19,
   "metadata": {},
   "outputs": [
    {
     "data": {
      "image/png": "[encoded data removed]",
      "text/plain": [
       "<Figure size 2880x720 with 22 Axes>"
      ]
     },
     "metadata": {
      "needs_background": "light"
     },
     "output_type": "display_data"
    }
   ],
   "source": [
    "#Store numeric variables in dedicated array\n",
    "num_var = df[['additives_n', 'energy_100g', 'fat_100g', 'saturated-fat_100g','carbohydrates_100g', 'sugars_100g',\n",
    "                    'fiber_100g', 'proteins_100g','salt_100g', 'sodium_100g', 'nutrition-score-uk_100g']]\n",
    "\n",
    "#Plot\n",
    "fig, axes = plt.subplots(\n",
    "    2, 11, gridspec_kw={\"height_ratios\": (0.7, 0.3)}, figsize=(40, 10)\n",
    ")\n",
    "\n",
    "for (feat, plot_col) in zip(\n",
    "    ['additives_n', 'energy_100g', 'fat_100g', 'saturated-fat_100g',\n",
    "       'carbohydrates_100g', 'sugars_100g', 'fiber_100g', 'proteins_100g',\n",
    "       'salt_100g', 'sodium_100g', 'nutrition-score-uk_100g'], [0, 1, 2, 3, 4, 5, 6, 7, 8, 9, 10, 11]\n",
    "):\n",
    "    axes[0, plot_col].hist(num_var[feat])\n",
    "    axes[0, plot_col].set_title(\"Var {}\".format(feat))\n",
    "    sns.despine(ax=axes[0, plot_col])\n",
    "    sns.boxplot(x=num_var[feat], ax=axes[1, plot_col], fliersize=2)\n",
    "    axes[1, plot_col].set(yticks=[])\n",
    "    sns.despine(ax=axes[1, plot_col], left=True)\n",
    "\n",
    "for ax in axes.flatten():\n",
    "    ax.set_xlabel(\"\")\n",
    "plt.show()"
   ]
  },
  {
   "cell_type": "markdown",
   "metadata": {},
   "source": [
    "This confirms that most of our variables are positively skewed, and have quite a lot of outliers. Nutrition score seems to be the only variable that is approximately normally distributed. Carbohydrates are not normally distributed, but is the only variable not to have outliers.\n",
    "\n",
    "Note that you can add the normal curve for any features using attribute `kde=True` (you can ignore the warning, which just tells us python would prefer us to use the newer `displot()` function, which I personnally don't find as nice as the old one):"
   ]
  },
  {
   "cell_type": "code",
   "execution_count": 20,
   "metadata": {},
   "outputs": [
    {
     "name": "stderr",
     "output_type": "stream",
     "text": [
      "C:\\Users\\jeanl\\anaconda3\\envs\\exts-ml\\lib\\site-packages\\seaborn\\distributions.py:2557: FutureWarning: `distplot` is a deprecated function and will be removed in a future version. Please adapt your code to use either `displot` (a figure-level function with similar flexibility) or `histplot` (an axes-level function for histograms).\n",
      "  warnings.warn(msg, FutureWarning)\n",
      "C:\\Users\\jeanl\\anaconda3\\envs\\exts-ml\\lib\\site-packages\\matplotlib\\cbook\\__init__.py:1377: FutureWarning: Support for multi-dimensional indexing (e.g. `obj[:, None]`) is deprecated and will be removed in a future version.  Convert to a numpy array before indexing instead.\n",
      "  x[:, None]\n",
      "C:\\Users\\jeanl\\anaconda3\\envs\\exts-ml\\lib\\site-packages\\matplotlib\\axes\\_base.py:237: FutureWarning: Support for multi-dimensional indexing (e.g. `obj[:, None]`) is deprecated and will be removed in a future version.  Convert to a numpy array before indexing instead.\n",
      "  x = x[:, np.newaxis]\n",
      "C:\\Users\\jeanl\\anaconda3\\envs\\exts-ml\\lib\\site-packages\\matplotlib\\axes\\_base.py:239: FutureWarning: Support for multi-dimensional indexing (e.g. `obj[:, None]`) is deprecated and will be removed in a future version.  Convert to a numpy array before indexing instead.\n",
      "  y = y[:, np.newaxis]\n"
     ]
    },
    {
     "data": {
      "image/png": "[encoded data removed]",
      "text/plain": [
       "<Figure size 720x216 with 1 Axes>"
      ]
     },
     "metadata": {
      "needs_background": "light"
     },
     "output_type": "display_data"
    }
   ],
   "source": [
    "fig, ax = plt.subplots(figsize=(10, 3));\n",
    "sns.distplot(df.energy_100g, ax=ax, kde=True)\n",
    "plt.show()"
   ]
  },
  {
   "cell_type": "markdown",
   "metadata": {},
   "source": [
    "What shall we do with the outliers? One thing we should remember is that we are analysing all the data together here, without taking into account the product type. As mentioned above, it is not surprising that oils, for example, have a fat ratio near 100%. And if there are not many oil products in the database, these are bound to appear as outliers.  In other words, we might be dealing with subpopulations, and the apparent outliers might not be actual outliers.\n",
    "\n",
    "That said, we will compute how many data points might be considered outliers, using both the z-score and IQR methods for comparison purposes."
   ]
  },
  {
   "cell_type": "markdown",
   "metadata": {},
   "source": [
    "Z-score method"
   ]
  },
  {
   "cell_type": "code",
   "execution_count": 21,
   "metadata": {},
   "outputs": [
    {
     "data": {
      "text/plain": [
       "additives_n                3154\n",
       "energy_100g                 399\n",
       "fat_100g                   2062\n",
       "saturated-fat_100g         1786\n",
       "carbohydrates_100g            0\n",
       "sugars_100g                2399\n",
       "fiber_100g                 2548\n",
       "proteins_100g              2218\n",
       "salt_100g                  1347\n",
       "sodium_100g                1347\n",
       "nutrition-score-uk_100g       6\n",
       "dtype: int64"
      ]
     },
     "execution_count": 21,
     "metadata": {},
     "output_type": "execute_result"
    }
   ],
   "source": [
    "z_score_method = np.abs(num_var - num_var.mean()) > (3 * num_var.std())\n",
    "z_score_method.sum(axis=0)"
   ]
  },
  {
   "cell_type": "markdown",
   "metadata": {},
   "source": [
    "IQR method"
   ]
  },
  {
   "cell_type": "code",
   "execution_count": 22,
   "metadata": {},
   "outputs": [
    {
     "name": "stdout",
     "output_type": "stream",
     "text": [
      "[3.00000e+00 1.29100e+03 2.05500e+01 6.98000e+00 5.19400e+01 2.22100e+01\n",
      " 3.60000e+00 8.37000e+00 1.25222e+00 4.93000e-01 1.50000e+01] 0.49299999999999994 1291.0\n"
     ]
    }
   ],
   "source": [
    "Q1 = np.percentile(num_var, 25, axis=0)\n",
    "Q3 = np.percentile(num_var, 75, axis=0)\n",
    "IQR = Q3-Q1\n",
    "print(IQR, IQR.min(), IQR.max())"
   ]
  },
  {
   "cell_type": "code",
   "execution_count": 23,
   "metadata": {},
   "outputs": [
    {
     "data": {
      "text/plain": [
       "additives_n                 6668\n",
       "energy_100g                  223\n",
       "fat_100g                    3562\n",
       "saturated-fat_100g         10774\n",
       "carbohydrates_100g             0\n",
       "sugars_100g                 7949\n",
       "fiber_100g                 11333\n",
       "proteins_100g               9046\n",
       "salt_100g                   8227\n",
       "sodium_100g                 8227\n",
       "nutrition-score-uk_100g        3\n",
       "dtype: int64"
      ]
     },
     "execution_count": 23,
     "metadata": {},
     "output_type": "execute_result"
    }
   ],
   "source": [
    "l_bound = Q1 - 1.5 * IQR\n",
    "u_bound = Q3 + 1.5 * IQR\n",
    "filter = (num_var < l_bound) | (num_var > u_bound)\n",
    "filter.sum(axis=0)"
   ]
  },
  {
   "cell_type": "markdown",
   "metadata": {},
   "source": [
    "Using the z-score method, the number of outliers ranges from 0 to 3,154. As expected, the IQR method, which is more conservative, flags more outliers, with a maximum of 11,333 for fiber. These are large numbers of outliers, and again, I believe this is because we are dealing with subpopulations. For example, let's consider oil products that should be considered outliers on the fat_100g variable:"
   ]
  },
  {
   "cell_type": "code",
   "execution_count": 24,
   "metadata": {},
   "outputs": [
    {
     "data": {
      "text/plain": [
       "42"
      ]
     },
     "execution_count": 24,
     "metadata": {},
     "output_type": "execute_result"
    }
   ],
   "source": [
    "oil_outliers = df[(df['product_name'].str.contains(\"\\ oil\\ |\\ oils\\ |\\ Oil\\ |\\ Oils\\ \")) &\n",
    "  (df['fat_100g'] > 52.255)] #note 52.255 is (20.55 * 1.5) + 21.43\n",
    "oil_outliers.shape[0]"
   ]
  },
  {
   "cell_type": "markdown",
   "metadata": {},
   "source": [
    "There are 42 of them. That said, are they really outliers? Probably not. It is more likely that they appear as such only because they were analysed with all products together. And indeed if we look at these oil products as a subgroup, a different picture emerges. Let's select all oil products, and see if there are still outliers:"
   ]
  },
  {
   "cell_type": "code",
   "execution_count": 25,
   "metadata": {},
   "outputs": [
    {
     "data": {
      "text/plain": [
       "count    223.00\n",
       "mean      33.89\n",
       "std       27.40\n",
       "min        0.00\n",
       "25%       13.66\n",
       "50%       25.00\n",
       "75%       50.00\n",
       "max      100.00\n",
       "Name: fat_100g, dtype: float64"
      ]
     },
     "execution_count": 25,
     "metadata": {},
     "output_type": "execute_result"
    }
   ],
   "source": [
    "all_oils = df[df['product_name'].str.contains(\"\\ oil\\ |\\ oils\\ |\\ Oil\\ |\\ Oils\\ \")]\n",
    "all_oils['fat_100g'].describe().round(2)"
   ]
  },
  {
   "cell_type": "markdown",
   "metadata": {},
   "source": [
    "Here we have an IQR of roughly 50 - 14 = 36, meaning that any observation that is greater than 50 + 1.5 * 36 = 104 should be considered an outlier. And how many do we have of these? Zero! If we plot the data, we also see that the distribution of oil products is not normally distributed, but, perhaps, slightly bimodal:"
   ]
  },
  {
   "cell_type": "code",
   "execution_count": 26,
   "metadata": {},
   "outputs": [
    {
     "data": {
      "image/png": "[encoded data removed]",
      "text/plain": [
       "<Figure size 432x288 with 1 Axes>"
      ]
     },
     "metadata": {
      "needs_background": "light"
     },
     "output_type": "display_data"
    }
   ],
   "source": [
    "all_oils['fat_100g'].plot.hist()\n",
    "plt.show()"
   ]
  },
  {
   "cell_type": "markdown",
   "metadata": {},
   "source": [
    "Indeed we see most observations are between 0 and 60, but there are also a bunch of them between 90 and 100, whereas there are less of them between 60 and 90. Perhaps this corresponds to \"light\" oils vs \"classic\" oils, or to products with oil (e.g., sardines in olive oil) vs actual oils. We don't know for sure, but the point here is that observations flagged as outliers are no longer outliers when analysed as part of a subgroup of similar products.\n",
    "\n",
    "There are likely other subgroups in our data (e.g., salts, sugars), which might explain the large number of apparent outliers. And so for this particular dataset, we might decided to not remove outliers, except the most extreme ones, using a mix of visual inspection and the z_score method. By most extreme outliers, I mean, for example:"
   ]
  },
  {
   "cell_type": "code",
   "execution_count": 27,
   "metadata": {},
   "outputs": [
    {
     "data": {
      "image/png": "[encoded data removed]",
      "text/plain": [
       "<Figure size 432x288 with 1 Axes>"
      ]
     },
     "metadata": {
      "needs_background": "light"
     },
     "output_type": "display_data"
    }
   ],
   "source": [
    "sns.boxplot(x=df['proteins_100g'])\n",
    "plt.show()"
   ]
  },
  {
   "cell_type": "markdown",
   "metadata": {},
   "source": [
    "Proteins has many outliers, however one (it is two, actually, but this cannot be seen on the plot) is really standing out, so much that it is probably an error. This is the kind of points we want to remove. Let's compute the z-score for this particular point:"
   ]
  },
  {
   "cell_type": "code",
   "execution_count": 28,
   "metadata": {},
   "outputs": [
    {
     "name": "stdout",
     "output_type": "stream",
     "text": [
      "100.0 7.811160839703889 7.987181772379096 11.542098550842965\n"
     ]
    }
   ],
   "source": [
    "extreme_oulier = df['proteins_100g'].max()\n",
    "prot_mean = df['proteins_100g'].mean()\n",
    "prot_sd = df['proteins_100g'].std()\n",
    "z_score = ((extreme_oulier - prot_mean) / prot_sd)\n",
    "print(extreme_oulier, prot_mean, prot_sd, z_score)"
   ]
  },
  {
   "cell_type": "markdown",
   "metadata": {},
   "source": [
    "Now, what would happen if we apply this cutoff to all our variables? Let's try:"
   ]
  },
  {
   "cell_type": "code",
   "execution_count": 29,
   "metadata": {},
   "outputs": [
    {
     "data": {
      "text/plain": [
       "additives_n                  0\n",
       "energy_100g                  4\n",
       "fat_100g                     0\n",
       "saturated-fat_100g          66\n",
       "carbohydrates_100g           0\n",
       "sugars_100g                  0\n",
       "fiber_100g                  32\n",
       "proteins_100g                2\n",
       "salt_100g                  285\n",
       "sodium_100g                285\n",
       "nutrition-score-uk_100g      0\n",
       "dtype: int64"
      ]
     },
     "execution_count": 29,
     "metadata": {},
     "output_type": "execute_result"
    }
   ],
   "source": [
    "z_scores = (num_var - num_var.mean()) / (num_var.std())\n",
    "filter = np.abs(z_scores) > z_score\n",
    "filter.sum()"
   ]
  },
  {
   "cell_type": "markdown",
   "metadata": {},
   "source": [
    "This looks good to me, since few points are flagged, except for salt and sodium. For salt and sodium, however, we might deal with a subpopulation again. Indeed if we look at these outliers, we will see most are 'pure' salts, and not errors, just as in the case of oils. We will therefore keep all data points for salt and sodium. We are now ready to make our final selection."
   ]
  },
  {
   "cell_type": "code",
   "execution_count": 30,
   "metadata": {},
   "outputs": [
    {
     "name": "stdout",
     "output_type": "stream",
     "text": [
      "10966.0 85.3 53.8 100.0\n"
     ]
    }
   ],
   "source": [
    "energy_out = num_var.energy_100g[filter['energy_100g']].min()\n",
    "satfat_out = num_var['saturated-fat_100g'][filter['saturated-fat_100g']].min()\n",
    "fiber_out = num_var['fiber_100g'][filter['fiber_100g']].min()\n",
    "prot_out = num_var['proteins_100g'][filter['proteins_100g']].min()\n",
    "print(energy_out, satfat_out, fiber_out, prot_out)"
   ]
  },
  {
   "cell_type": "code",
   "execution_count": 31,
   "metadata": {},
   "outputs": [
    {
     "data": {
      "text/plain": [
       "104"
      ]
     },
     "execution_count": 31,
     "metadata": {},
     "output_type": "execute_result"
    }
   ],
   "source": [
    "outliers = df[(df['energy_100g'] >= energy_out) |\n",
    "   (df['saturated-fat_100g'] >= satfat_out) |\n",
    "   (df['fiber_100g'] >= fiber_out) |\n",
    "   (df['proteins_100g'] >= prot_out)]\n",
    "outliers.shape[0]"
   ]
  },
  {
   "cell_type": "markdown",
   "metadata": {},
   "source": [
    "There are 104 outliers following our definition. Let's now drop them:"
   ]
  },
  {
   "cell_type": "code",
   "execution_count": 32,
   "metadata": {},
   "outputs": [
    {
     "data": {
      "text/plain": [
       "(156999, 24)"
      ]
     },
     "execution_count": 32,
     "metadata": {},
     "output_type": "execute_result"
    }
   ],
   "source": [
    "df = df.drop(outliers.index, axis=0)\n",
    "df.shape"
   ]
  },
  {
   "cell_type": "markdown",
   "metadata": {},
   "source": [
    "Our final dataset has 156,999 rows and 24 columns."
   ]
  },
  {
   "cell_type": "markdown",
   "metadata": {},
   "source": [
    "## B. Analysis"
   ]
  },
  {
   "cell_type": "markdown",
   "metadata": {},
   "source": [
    "We have a data set ready for analysis. Let's try to use this data to answer three specific questions."
   ]
  },
  {
   "cell_type": "markdown",
   "metadata": {},
   "source": [
    "### Q1: Are American foods richer than non-American foods?"
   ]
  },
  {
   "cell_type": "markdown",
   "metadata": {},
   "source": [
    "For cultural reasons, we might hypothesise that foods from some regions are richer than foods from other regions, in terms of a range of nutrients such as energy, carbohydrates, fat, etc. Since most data come from the USA, we will compare the USA with all other countries."
   ]
  },
  {
   "cell_type": "markdown",
   "metadata": {},
   "source": [
    "#### Data preparation"
   ]
  },
  {
   "cell_type": "markdown",
   "metadata": {},
   "source": [
    "Let's first store the countries column separately:"
   ]
  },
  {
   "cell_type": "code",
   "execution_count": 33,
   "metadata": {},
   "outputs": [],
   "source": [
    "country = df.countries_en"
   ]
  },
  {
   "cell_type": "markdown",
   "metadata": {},
   "source": [
    "Note that in a few cases, this column contains several countries (i.e. a list of countries). However, in more than 95% of all cases, they consist of a single country, more precisely, United States or France: "
   ]
  },
  {
   "cell_type": "code",
   "execution_count": 34,
   "metadata": {},
   "outputs": [
    {
     "data": {
      "text/plain": [
       "95.3541105357359"
      ]
     },
     "execution_count": 34,
     "metadata": {},
     "output_type": "execute_result"
    }
   ],
   "source": [
    "df[(df['countries_en'] == 'United States') |\n",
    "  (df['countries_en'] == 'France')].shape[0] / country.shape[0] * 100"
   ]
  },
  {
   "cell_type": "markdown",
   "metadata": {},
   "source": [
    "So, for the purpose of answering Q1, we will not extract all countries from the list, but just keep the first country of each list:"
   ]
  },
  {
   "cell_type": "code",
   "execution_count": 35,
   "metadata": {},
   "outputs": [
    {
     "data": {
      "text/plain": [
       "countries_en\n",
       "United States       133685\n",
       "France               17112\n",
       "Switzerland           2526\n",
       "Spain                  783\n",
       "Germany                585\n",
       "                     ...  \n",
       "Finland                  1\n",
       "Nederland                1\n",
       "French Polynesia         1\n",
       "Martinique               1\n",
       "Costa Rica               1\n",
       "Length: 63, dtype: int64"
      ]
     },
     "execution_count": 35,
     "metadata": {},
     "output_type": "execute_result"
    }
   ],
   "source": [
    "country = country.str.split(',', expand=True)[0] #extract first country of each list\n",
    "df.countries_en = country #put back column in df\n",
    "df.groupby('countries_en').size().sort_values(ascending=False) #group by country and count"
   ]
  },
  {
   "cell_type": "markdown",
   "metadata": {},
   "source": [
    "We see there are 63 countries in total, however most have few observations. Let's see how many non-US countries we have in total:"
   ]
  },
  {
   "cell_type": "code",
   "execution_count": 36,
   "metadata": {},
   "outputs": [
    {
     "data": {
      "text/plain": [
       "23314"
      ]
     },
     "execution_count": 36,
     "metadata": {},
     "output_type": "execute_result"
    }
   ],
   "source": [
    "df[df['countries_en'] != 'United States'].shape[0]"
   ]
  },
  {
   "cell_type": "markdown",
   "metadata": {},
   "source": [
    "We have 23,314. We will now group them all together, in order to compare them with US countries. Let's do it:"
   ]
  },
  {
   "cell_type": "code",
   "execution_count": 37,
   "metadata": {},
   "outputs": [
    {
     "data": {
      "text/plain": [
       "countries_en\n",
       "United States    133685\n",
       "Other             23314\n",
       "dtype: int64"
      ]
     },
     "execution_count": 37,
     "metadata": {},
     "output_type": "execute_result"
    }
   ],
   "source": [
    "df.loc[df.countries_en != 'United States', 'countries_en'] = 'Other' #rename non-US countries 'Other'\n",
    "df.groupby('countries_en').size().sort_values(ascending=False) #check totals"
   ]
  },
  {
   "cell_type": "markdown",
   "metadata": {},
   "source": [
    "OK. We now have two groups to compare, however the US group is much larger than the Other group. To make a valid comparison, we will draw a random sample of US countries foods that corresponds to the number of Other countries foods:"
   ]
  },
  {
   "cell_type": "code",
   "execution_count": 38,
   "metadata": {},
   "outputs": [],
   "source": [
    "d = {'United States': 23314, 'Other': 23314} # dictionary\n",
    "rq1 = pd.concat([g.sample(d[k], random_state=1) for k, g in df.groupby('countries_en', sort=False)]) #sample, set seed, concatenate results, store data as rq1 for 'research question 1'"
   ]
  },
  {
   "cell_type": "markdown",
   "metadata": {},
   "source": [
    "To achieve the above, I used https://pandas.pydata.org/pandas-docs/stable/reference/api/pandas.core.groupby.DataFrameGroupBy.sample.html, https://stackoverflow.com/questions/65978749/error-cannot-access-callable-attribute-sample-of-dataframegroupby-objects, and https://stackoverflow.com/questions/65979343/random-sample-by-group-how-to-specify-n-not-weight-using-dataframegroupby-sa.\n",
    "\n",
    "Now let's check that the resulting df has the expected size, that is, 2 times 23,314 observations:"
   ]
  },
  {
   "cell_type": "code",
   "execution_count": 39,
   "metadata": {},
   "outputs": [
    {
     "data": {
      "text/plain": [
       "(46628, 24)"
      ]
     },
     "execution_count": 39,
     "metadata": {},
     "output_type": "execute_result"
    }
   ],
   "source": [
    "rq1.shape"
   ]
  },
  {
   "cell_type": "markdown",
   "metadata": {},
   "source": [
    "Now, let's look at means by group:"
   ]
  },
  {
   "cell_type": "code",
   "execution_count": 40,
   "metadata": {},
   "outputs": [
    {
     "data": {
      "text/html": [
       "<div>\n",
       "<style scoped>\n",
       "    .dataframe tbody tr th:only-of-type {\n",
       "        vertical-align: middle;\n",
       "    }\n",
       "\n",
       "    .dataframe tbody tr th {\n",
       "        vertical-align: top;\n",
       "    }\n",
       "\n",
       "    .dataframe thead th {\n",
       "        text-align: right;\n",
       "    }\n",
       "</style>\n",
       "<table border=\"1\" class=\"dataframe\">\n",
       "  <thead>\n",
       "    <tr style=\"text-align: right;\">\n",
       "      <th></th>\n",
       "      <th>additives_n</th>\n",
       "      <th>ingredients_from_palm_oil_n</th>\n",
       "      <th>ingredients_that_may_be_from_palm_oil_n</th>\n",
       "      <th>energy_100g</th>\n",
       "      <th>fat_100g</th>\n",
       "      <th>saturated-fat_100g</th>\n",
       "      <th>carbohydrates_100g</th>\n",
       "      <th>sugars_100g</th>\n",
       "      <th>fiber_100g</th>\n",
       "      <th>proteins_100g</th>\n",
       "      <th>salt_100g</th>\n",
       "      <th>sodium_100g</th>\n",
       "      <th>nutrition-score-uk_100g</th>\n",
       "    </tr>\n",
       "    <tr>\n",
       "      <th>countries_en</th>\n",
       "      <th></th>\n",
       "      <th></th>\n",
       "      <th></th>\n",
       "      <th></th>\n",
       "      <th></th>\n",
       "      <th></th>\n",
       "      <th></th>\n",
       "      <th></th>\n",
       "      <th></th>\n",
       "      <th></th>\n",
       "      <th></th>\n",
       "      <th></th>\n",
       "      <th></th>\n",
       "    </tr>\n",
       "  </thead>\n",
       "  <tbody>\n",
       "    <tr>\n",
       "      <th>Other</th>\n",
       "      <td>2.047182</td>\n",
       "      <td>0.100283</td>\n",
       "      <td>0.184953</td>\n",
       "      <td>1111.744362</td>\n",
       "      <td>11.699422</td>\n",
       "      <td>4.431588</td>\n",
       "      <td>31.899717</td>\n",
       "      <td>12.871527</td>\n",
       "      <td>2.787993</td>\n",
       "      <td>7.130230</td>\n",
       "      <td>0.860568</td>\n",
       "      <td>0.338806</td>\n",
       "      <td>6.522218</td>\n",
       "    </tr>\n",
       "    <tr>\n",
       "      <th>United States</th>\n",
       "      <td>2.026508</td>\n",
       "      <td>0.000000</td>\n",
       "      <td>0.023033</td>\n",
       "      <td>1211.893562</td>\n",
       "      <td>13.298287</td>\n",
       "      <td>4.614048</td>\n",
       "      <td>35.556056</td>\n",
       "      <td>15.437319</td>\n",
       "      <td>2.855692</td>\n",
       "      <td>8.011735</td>\n",
       "      <td>1.296926</td>\n",
       "      <td>0.510601</td>\n",
       "      <td>9.331732</td>\n",
       "    </tr>\n",
       "  </tbody>\n",
       "</table>\n",
       "</div>"
      ],
      "text/plain": [
       "               additives_n  ingredients_from_palm_oil_n  \\\n",
       "countries_en                                              \n",
       "Other             2.047182                     0.100283   \n",
       "United States     2.026508                     0.000000   \n",
       "\n",
       "               ingredients_that_may_be_from_palm_oil_n  energy_100g  \\\n",
       "countries_en                                                          \n",
       "Other                                         0.184953  1111.744362   \n",
       "United States                                 0.023033  1211.893562   \n",
       "\n",
       "                fat_100g  saturated-fat_100g  carbohydrates_100g  sugars_100g  \\\n",
       "countries_en                                                                    \n",
       "Other          11.699422            4.431588           31.899717    12.871527   \n",
       "United States  13.298287            4.614048           35.556056    15.437319   \n",
       "\n",
       "               fiber_100g  proteins_100g  salt_100g  sodium_100g  \\\n",
       "countries_en                                                       \n",
       "Other            2.787993       7.130230   0.860568     0.338806   \n",
       "United States    2.855692       8.011735   1.296926     0.510601   \n",
       "\n",
       "               nutrition-score-uk_100g  \n",
       "countries_en                            \n",
       "Other                         6.522218  \n",
       "United States                 9.331732  "
      ]
     },
     "execution_count": 40,
     "metadata": {},
     "output_type": "execute_result"
    }
   ],
   "source": [
    "rq1.groupby('countries_en').mean()"
   ]
  },
  {
   "cell_type": "markdown",
   "metadata": {},
   "source": [
    "What we can already see is that except for additives and ingredients from palm oil, US foods have higher means than non-US foods on all of the nutrients measures. Let's visualise the distributions of each group using boxplots. For this, we need to reshape the data:"
   ]
  },
  {
   "cell_type": "code",
   "execution_count": 41,
   "metadata": {},
   "outputs": [
    {
     "data": {
      "text/html": [
       "<div>\n",
       "<style scoped>\n",
       "    .dataframe tbody tr th:only-of-type {\n",
       "        vertical-align: middle;\n",
       "    }\n",
       "\n",
       "    .dataframe tbody tr th {\n",
       "        vertical-align: top;\n",
       "    }\n",
       "\n",
       "    .dataframe thead th {\n",
       "        text-align: right;\n",
       "    }\n",
       "</style>\n",
       "<table border=\"1\" class=\"dataframe\">\n",
       "  <thead>\n",
       "    <tr style=\"text-align: right;\">\n",
       "      <th></th>\n",
       "      <th>countries_en</th>\n",
       "      <th>feature</th>\n",
       "      <th>value</th>\n",
       "    </tr>\n",
       "  </thead>\n",
       "  <tbody>\n",
       "    <tr>\n",
       "      <th>0</th>\n",
       "      <td>United States</td>\n",
       "      <td>additives_n</td>\n",
       "      <td>1.0</td>\n",
       "    </tr>\n",
       "    <tr>\n",
       "      <th>1</th>\n",
       "      <td>United States</td>\n",
       "      <td>additives_n</td>\n",
       "      <td>0.0</td>\n",
       "    </tr>\n",
       "    <tr>\n",
       "      <th>2</th>\n",
       "      <td>United States</td>\n",
       "      <td>additives_n</td>\n",
       "      <td>0.0</td>\n",
       "    </tr>\n",
       "    <tr>\n",
       "      <th>3</th>\n",
       "      <td>United States</td>\n",
       "      <td>additives_n</td>\n",
       "      <td>0.0</td>\n",
       "    </tr>\n",
       "    <tr>\n",
       "      <th>4</th>\n",
       "      <td>United States</td>\n",
       "      <td>additives_n</td>\n",
       "      <td>2.0</td>\n",
       "    </tr>\n",
       "    <tr>\n",
       "      <th>...</th>\n",
       "      <td>...</td>\n",
       "      <td>...</td>\n",
       "      <td>...</td>\n",
       "    </tr>\n",
       "    <tr>\n",
       "      <th>466275</th>\n",
       "      <td>Other</td>\n",
       "      <td>nutrition-score-uk_100g</td>\n",
       "      <td>19.0</td>\n",
       "    </tr>\n",
       "    <tr>\n",
       "      <th>466276</th>\n",
       "      <td>Other</td>\n",
       "      <td>nutrition-score-uk_100g</td>\n",
       "      <td>17.0</td>\n",
       "    </tr>\n",
       "    <tr>\n",
       "      <th>466277</th>\n",
       "      <td>Other</td>\n",
       "      <td>nutrition-score-uk_100g</td>\n",
       "      <td>0.0</td>\n",
       "    </tr>\n",
       "    <tr>\n",
       "      <th>466278</th>\n",
       "      <td>Other</td>\n",
       "      <td>nutrition-score-uk_100g</td>\n",
       "      <td>2.0</td>\n",
       "    </tr>\n",
       "    <tr>\n",
       "      <th>466279</th>\n",
       "      <td>Other</td>\n",
       "      <td>nutrition-score-uk_100g</td>\n",
       "      <td>13.0</td>\n",
       "    </tr>\n",
       "  </tbody>\n",
       "</table>\n",
       "<p>466280 rows × 3 columns</p>\n",
       "</div>"
      ],
      "text/plain": [
       "         countries_en                  feature  value\n",
       "0       United States              additives_n    1.0\n",
       "1       United States              additives_n    0.0\n",
       "2       United States              additives_n    0.0\n",
       "3       United States              additives_n    0.0\n",
       "4       United States              additives_n    2.0\n",
       "...               ...                      ...    ...\n",
       "466275          Other  nutrition-score-uk_100g   19.0\n",
       "466276          Other  nutrition-score-uk_100g   17.0\n",
       "466277          Other  nutrition-score-uk_100g    0.0\n",
       "466278          Other  nutrition-score-uk_100g    2.0\n",
       "466279          Other  nutrition-score-uk_100g   13.0\n",
       "\n",
       "[466280 rows x 3 columns]"
      ]
     },
     "execution_count": 41,
     "metadata": {},
     "output_type": "execute_result"
    }
   ],
   "source": [
    "dat = rq1[['countries_en','additives_n', 'fat_100g', 'saturated-fat_100g','carbohydrates_100g', 'sugars_100g',\n",
    "                    'fiber_100g', 'proteins_100g','salt_100g', 'sodium_100g', 'nutrition-score-uk_100g']] #select variables\n",
    "dat = dat.melt(id_vars=('countries_en'), var_name = 'feature', value_name = 'value') #pivot data to long format\n",
    "dat"
   ]
  },
  {
   "cell_type": "markdown",
   "metadata": {},
   "source": [
    "We can now plot the data:"
   ]
  },
  {
   "cell_type": "code",
   "execution_count": 42,
   "metadata": {},
   "outputs": [
    {
     "data": {
      "image/png": "[encoded data removed]",
      "text/plain": [
       "<Figure size 1656x720 with 1 Axes>"
      ]
     },
     "metadata": {},
     "output_type": "display_data"
    }
   ],
   "source": [
    "sns.set(rc={'figure.figsize':(23,10)})\n",
    "sns.boxplot(x=\"feature\", y=\"value\", hue=\"countries_en\", data=dat)\n",
    "plt.show()"
   ]
  },
  {
   "cell_type": "markdown",
   "metadata": {},
   "source": [
    "(Note we find how to specify figure size here: https://stackoverflow.com/questions/31594549/how-do-i-change-the-figure-size-for-a-seaborn-plot)"
   ]
  },
  {
   "cell_type": "markdown",
   "metadata": {},
   "source": [
    "This seems to confirm the trend: most variables have higher medians for US countries than Other countries. There are three exceptions: saturated fats, fibers, and proteins have slightly higher medians in Other countries than in US countries. Before we continue, you might also have noticed that energy is missing in the plot above. That's because energy typically has values well above 100, so if it were included in the same graph, the scale would be different and most boxes would appear tiny. Here's the separate plot for energy:"
   ]
  },
  {
   "cell_type": "code",
   "execution_count": 43,
   "metadata": {},
   "outputs": [
    {
     "data": {
      "image/png": "[encoded data removed]",
      "text/plain": [
       "<Figure size 432x360 with 1 Axes>"
      ]
     },
     "metadata": {},
     "output_type": "display_data"
    }
   ],
   "source": [
    "sns.set(rc={'figure.figsize':(6,5)})\n",
    "sns.boxplot(x=\"countries_en\", y=\"energy_100g\", data=rq1)\n",
    "plt.show()"
   ]
  },
  {
   "cell_type": "markdown",
   "metadata": {},
   "source": [
    "Again, we see that Other countries have a slightly lower median than the US."
   ]
  },
  {
   "cell_type": "markdown",
   "metadata": {},
   "source": [
    "#### Hypothesis testing"
   ]
  },
  {
   "cell_type": "markdown",
   "metadata": {},
   "source": [
    "Descriptive statistics have shown that there are differences between US and non-US foods in terms of nutrients. However we need to determine if these differences are statistically significant. To do so, we will use hypothesis testing. Our null hypothesis will be that there is no statistically significant differences between US foods and non-US foods, as assessed by a series of t-tests on the different nutrients. Since we have a good number of observations, and since we want to minimise the risk of a Type I error in this case, we will set the significance level at p=0.01. Also we will use the Welch's t-test, which does not assume equality of variance, as is the case in our data. Finally, since we will run the test on several variables, we will apply a Bonferroni correction. "
   ]
  },
  {
   "cell_type": "markdown",
   "metadata": {},
   "source": [
    "Let's first compute the Bonferroni correction. We will run 11 tests, meaning that we must divide our chosen significance level by the same number:"
   ]
  },
  {
   "cell_type": "code",
   "execution_count": 44,
   "metadata": {},
   "outputs": [
    {
     "data": {
      "text/plain": [
       "0.0009090909090909091"
      ]
     },
     "execution_count": 44,
     "metadata": {},
     "output_type": "execute_result"
    }
   ],
   "source": [
    "adjusted_sig_level = 0.01/11\n",
    "adjusted_sig_level"
   ]
  },
  {
   "cell_type": "markdown",
   "metadata": {},
   "source": [
    "Let's now run the actual tests:"
   ]
  },
  {
   "cell_type": "code",
   "execution_count": 45,
   "metadata": {},
   "outputs": [
    {
     "name": "stdout",
     "output_type": "stream",
     "text": [
      "1.9600148634678218\n"
     ]
    },
    {
     "data": {
      "text/html": [
       "<div>\n",
       "<style scoped>\n",
       "    .dataframe tbody tr th:only-of-type {\n",
       "        vertical-align: middle;\n",
       "    }\n",
       "\n",
       "    .dataframe tbody tr th {\n",
       "        vertical-align: top;\n",
       "    }\n",
       "\n",
       "    .dataframe thead th {\n",
       "        text-align: right;\n",
       "    }\n",
       "</style>\n",
       "<table border=\"1\" class=\"dataframe\">\n",
       "  <thead>\n",
       "    <tr style=\"text-align: right;\">\n",
       "      <th></th>\n",
       "      <th>Welch's t</th>\n",
       "      <th>p</th>\n",
       "    </tr>\n",
       "  </thead>\n",
       "  <tbody>\n",
       "    <tr>\n",
       "      <th>nutrition-score</th>\n",
       "      <td>33.577390</td>\n",
       "      <td>2.972167e-244</td>\n",
       "    </tr>\n",
       "    <tr>\n",
       "      <th>sugars</th>\n",
       "      <td>15.191513</td>\n",
       "      <td>5.406708e-52</td>\n",
       "    </tr>\n",
       "    <tr>\n",
       "      <th>energy</th>\n",
       "      <td>14.339411</td>\n",
       "      <td>1.559316e-46</td>\n",
       "    </tr>\n",
       "    <tr>\n",
       "      <th>carbohydrates</th>\n",
       "      <td>14.332221</td>\n",
       "      <td>1.729653e-46</td>\n",
       "    </tr>\n",
       "    <tr>\n",
       "      <th>sodium</th>\n",
       "      <td>14.292982</td>\n",
       "      <td>3.088035e-46</td>\n",
       "    </tr>\n",
       "    <tr>\n",
       "      <th>salt</th>\n",
       "      <td>14.292941</td>\n",
       "      <td>3.089872e-46</td>\n",
       "    </tr>\n",
       "    <tr>\n",
       "      <th>proteins</th>\n",
       "      <td>12.762686</td>\n",
       "      <td>3.081531e-37</td>\n",
       "    </tr>\n",
       "    <tr>\n",
       "      <th>fat</th>\n",
       "      <td>11.595990</td>\n",
       "      <td>4.767514e-31</td>\n",
       "    </tr>\n",
       "    <tr>\n",
       "      <th>saturated-fat</th>\n",
       "      <td>3.032158</td>\n",
       "      <td>2.429457e-03</td>\n",
       "    </tr>\n",
       "    <tr>\n",
       "      <th>fiber</th>\n",
       "      <td>1.840302</td>\n",
       "      <td>6.573058e-02</td>\n",
       "    </tr>\n",
       "    <tr>\n",
       "      <th>additives</th>\n",
       "      <td>-0.872643</td>\n",
       "      <td>3.828620e-01</td>\n",
       "    </tr>\n",
       "  </tbody>\n",
       "</table>\n",
       "</div>"
      ],
      "text/plain": [
       "                 Welch's t              p\n",
       "nutrition-score  33.577390  2.972167e-244\n",
       "sugars           15.191513   5.406708e-52\n",
       "energy           14.339411   1.559316e-46\n",
       "carbohydrates    14.332221   1.729653e-46\n",
       "sodium           14.292982   3.088035e-46\n",
       "salt             14.292941   3.089872e-46\n",
       "proteins         12.762686   3.081531e-37\n",
       "fat              11.595990   4.767514e-31\n",
       "saturated-fat     3.032158   2.429457e-03\n",
       "fiber             1.840302   6.573058e-02\n",
       "additives        -0.872643   3.828620e-01"
      ]
     },
     "execution_count": 45,
     "metadata": {},
     "output_type": "execute_result"
    }
   ],
   "source": [
    "nutrients_us = rq1[rq1['countries_en']=='United States'][['additives_n', 'energy_100g', 'fat_100g', 'saturated-fat_100g','carbohydrates_100g', 'sugars_100g',\n",
    "                    'fiber_100g', 'proteins_100g','salt_100g', 'sodium_100g', 'nutrition-score-uk_100g']] #store US data\n",
    "\n",
    "nutrients_other = rq1[rq1['countries_en']=='Other'][['additives_n', 'energy_100g', 'fat_100g', 'saturated-fat_100g','carbohydrates_100g', 'sugars_100g',\n",
    "                    'fiber_100g', 'proteins_100g','salt_100g', 'sodium_100g', 'nutrition-score-uk_100g']] #store Other data\n",
    "\n",
    "test_stat, test_p = stats.ttest_ind(nutrients_us, nutrients_other, equal_var=False) #run Welch's t-tests\n",
    "\n",
    "crit_value = stats.t.ppf(q=0.975, df=(rq1.shape[0]-1)) #we also compute critical value to compare it with test stat\n",
    "\n",
    "results = pd.DataFrame(test_p, test_stat).reset_index().rename(columns={'index': 'Welch\\'s t', 0: 'p'}, index={0:'additives', 1:'energy', 2:'fat', 3:'saturated-fat',4:'carbohydrates', 5:'sugars',\n",
    "                    6:'fiber', 7:'proteins',8:'salt', 9:'sodium', 10:'nutrition-score'}).sort_values(by='Welch\\'s t', ascending=False) #store results in df\n",
    "\n",
    "print(crit_value)\n",
    "results"
   ]
  },
  {
   "cell_type": "markdown",
   "metadata": {},
   "source": [
    "We see that for 8 out of our 11 variables, the probability that the differences observed are due to chance is extremely low, and well below our adjusted significance level of ~0.0009. In contrast, saturated fat, fiber and additives are not significantly different at our adjusted p-level. Also note that the test statistic for additives is negative, meaning that in this case, non-US foods have a higher mean than US foods, and not the other way around. That said, that difference is not significant at the chosen significance level.\n",
    "\n",
    "In summary, we can reject the null hypothesis in 8 out of 11 cases, and conclude that overall, US foods are richer, except in terms saturated fat and fiber. They also do not significantly differ in terms of number of additives. Of course, these results only apply to the chosen subset of the sample, and have other limitations. For example, some of the variables were not normally distributed. Likewise, the foods available in the Open Food Facts database are not necessarily representative of all US foods. They are just those entered by the users."
   ]
  },
  {
   "cell_type": "markdown",
   "metadata": {},
   "source": [
    "### Q2: Are additives related to nutrition score?"
   ]
  },
  {
   "cell_type": "markdown",
   "metadata": {},
   "source": [
    "We might hypothesise that foods that contain additives have a higher nutrition score than foods that do not contain additives. Indeed, food with more additives are often processed foods, and we know that processed foods are less 'healthy' than non-processed foods. To test this hypothesis, we will split all foods on whether or not they contain additives, and on whether or not they belong to a 'low' or 'high' nutrition score category. We will then test whether these two variables are dependent on each other using a Chi-square test."
   ]
  },
  {
   "cell_type": "markdown",
   "metadata": {},
   "source": [
    "First, let's describe the variable additives:"
   ]
  },
  {
   "cell_type": "code",
   "execution_count": 46,
   "metadata": {},
   "outputs": [
    {
     "data": {
      "text/plain": [
       "count    156999.000000\n",
       "mean          2.018019\n",
       "std           2.566272\n",
       "min           0.000000\n",
       "25%           0.000000\n",
       "50%           1.000000\n",
       "75%           3.000000\n",
       "max          30.000000\n",
       "Name: additives_n, dtype: float64"
      ]
     },
     "execution_count": 46,
     "metadata": {},
     "output_type": "execute_result"
    },
    {
     "data": {
      "image/png": "[encoded data removed]",
      "text/plain": [
       "<Figure size 432x360 with 1 Axes>"
      ]
     },
     "metadata": {},
     "output_type": "display_data"
    }
   ],
   "source": [
    "sns.boxplot(x=df.additives_n)\n",
    "df.additives_n.describe()"
   ]
  },
  {
   "cell_type": "markdown",
   "metadata": {},
   "source": [
    "We see that half of all foods have between 0 and 3 additives, with a median of 1. There's also quite a lot of outliers. Since our second variable of interest, nutrition score, is approximately normally distributed , we will remove all outliers from additives, using the z-score method:"
   ]
  },
  {
   "cell_type": "code",
   "execution_count": 47,
   "metadata": {},
   "outputs": [
    {
     "data": {
      "text/plain": [
       "(153845, 24)"
      ]
     },
     "execution_count": 47,
     "metadata": {},
     "output_type": "execute_result"
    }
   ],
   "source": [
    "cutoff = np.abs(df.additives_n - df.additives_n.mean()) > (3 * df.additives_n.std())\n",
    "rq2 = df[~cutoff]\n",
    "rq2.shape"
   ]
  },
  {
   "cell_type": "markdown",
   "metadata": {},
   "source": [
    "We will now create 2 groups for each variable: foods with or without additives, and foods with low or high nutrition score. We will use the following codes:\n",
    "- No additives = 0\n",
    "- Additives = 1\n",
    "- Low nutrition score = 0\n",
    "- High nutrition score = 1\n",
    "\n",
    "We also define a success as belonging to the Low nutrition score. As for our null hypothesis, it is that there is no association between whether or not foods have additives and whether or not they belong to the Low nutrition score."
   ]
  },
  {
   "cell_type": "code",
   "execution_count": 48,
   "metadata": {},
   "outputs": [
    {
     "name": "stderr",
     "output_type": "stream",
     "text": [
      "C:\\Users\\jeanl\\anaconda3\\envs\\exts-ml\\lib\\site-packages\\pandas\\core\\indexing.py:1765: SettingWithCopyWarning: \n",
      "A value is trying to be set on a copy of a slice from a DataFrame.\n",
      "Try using .loc[row_indexer,col_indexer] = value instead\n",
      "\n",
      "See the caveats in the documentation: https://pandas.pydata.org/pandas-docs/stable/user_guide/indexing.html#returning-a-view-versus-a-copy\n",
      "  isetter(loc, value)\n",
      "C:\\Users\\jeanl\\anaconda3\\envs\\exts-ml\\lib\\site-packages\\pandas\\core\\indexing.py:1765: SettingWithCopyWarning: \n",
      "A value is trying to be set on a copy of a slice from a DataFrame.\n",
      "Try using .loc[row_indexer,col_indexer] = value instead\n",
      "\n",
      "See the caveats in the documentation: https://pandas.pydata.org/pandas-docs/stable/user_guide/indexing.html#returning-a-view-versus-a-copy\n",
      "  isetter(loc, value)\n",
      "C:\\Users\\jeanl\\anaconda3\\envs\\exts-ml\\lib\\site-packages\\pandas\\core\\indexing.py:1765: SettingWithCopyWarning: \n",
      "A value is trying to be set on a copy of a slice from a DataFrame.\n",
      "Try using .loc[row_indexer,col_indexer] = value instead\n",
      "\n",
      "See the caveats in the documentation: https://pandas.pydata.org/pandas-docs/stable/user_guide/indexing.html#returning-a-view-versus-a-copy\n",
      "  isetter(loc, value)\n"
     ]
    }
   ],
   "source": [
    "rq2.loc[rq2.additives_n != 0, 'additives_n'] = 1\n",
    "rq2.loc[rq2['nutrition-score-uk_100g'] < 13, 'nutrition-score-uk_100g'] = 0\n",
    "rq2.loc[rq2['nutrition-score-uk_100g'] >= 13, 'nutrition-score-uk_100g'] = 1"
   ]
  },
  {
   "cell_type": "markdown",
   "metadata": {},
   "source": [
    "We will now compute counts for each category:"
   ]
  },
  {
   "cell_type": "code",
   "execution_count": 49,
   "metadata": {},
   "outputs": [
    {
     "name": "stdout",
     "output_type": "stream",
     "text": [
      "54816 99029 94637 59208\n"
     ]
    },
    {
     "data": {
      "text/html": [
       "<div>\n",
       "<style scoped>\n",
       "    .dataframe tbody tr th:only-of-type {\n",
       "        vertical-align: middle;\n",
       "    }\n",
       "\n",
       "    .dataframe tbody tr th {\n",
       "        vertical-align: top;\n",
       "    }\n",
       "\n",
       "    .dataframe thead th {\n",
       "        text-align: right;\n",
       "    }\n",
       "</style>\n",
       "<table border=\"1\" class=\"dataframe\">\n",
       "  <thead>\n",
       "    <tr style=\"text-align: right;\">\n",
       "      <th></th>\n",
       "      <th>count</th>\n",
       "    </tr>\n",
       "  </thead>\n",
       "  <tbody>\n",
       "    <tr>\n",
       "      <th>no additives</th>\n",
       "      <td>54816</td>\n",
       "    </tr>\n",
       "    <tr>\n",
       "      <th>high nutrition score</th>\n",
       "      <td>59208</td>\n",
       "    </tr>\n",
       "    <tr>\n",
       "      <th>additives</th>\n",
       "      <td>99029</td>\n",
       "    </tr>\n",
       "    <tr>\n",
       "      <th>low nutrition score</th>\n",
       "      <td>94637</td>\n",
       "    </tr>\n",
       "  </tbody>\n",
       "</table>\n",
       "</div>"
      ],
      "text/plain": [
       "                      count\n",
       "no additives          54816\n",
       "high nutrition score  59208\n",
       "additives             99029\n",
       "low nutrition score   94637"
      ]
     },
     "execution_count": 49,
     "metadata": {},
     "output_type": "execute_result"
    }
   ],
   "source": [
    "rq2 = rq2[['additives_n', 'nutrition-score-uk_100g']]\n",
    "no_add = rq2[rq2['additives_n'] == 0].count().additives_n\n",
    "add = rq2[rq2['additives_n'] == 1].count().additives_n\n",
    "low_ns = rq2[rq2['nutrition-score-uk_100g'] == 0].count()[1]\n",
    "high_ns = rq2[rq2['nutrition-score-uk_100g'] == 1].count()[1]\n",
    "print(no_add, add, low_ns, high_ns)\n",
    "counts = pd.DataFrame({no_add, add, low_ns, high_ns}).rename(columns={0:'count'}, index={0:'no additives', 1:'high nutrition score', 2:'additives', 3:'low nutrition score'})\n",
    "counts"
   ]
  },
  {
   "cell_type": "markdown",
   "metadata": {},
   "source": [
    "We note there are more foods with additives than without additives, and that there are more foods with a low nutrition score than a high nutrition score. We now need to compute the number of successes for each category:"
   ]
  },
  {
   "cell_type": "code",
   "execution_count": 50,
   "metadata": {},
   "outputs": [
    {
     "name": "stdout",
     "output_type": "stream",
     "text": [
      "40732 53905\n"
     ]
    }
   ],
   "source": [
    "no_add_successes = rq2[(rq2['additives_n'] == 0) & (rq2['nutrition-score-uk_100g'] == 0)].count()['additives_n'] #foods without additives and a low nutrition score\n",
    "add_successes = rq2[(rq2['additives_n'] == 1) & (rq2['nutrition-score-uk_100g'] == 0)].count()['additives_n'] #foods with additives and a low nutrition score\n",
    "print(no_add_successes, add_successes)"
   ]
  },
  {
   "cell_type": "markdown",
   "metadata": {},
   "source": [
    "We can now compute the conversion rates:"
   ]
  },
  {
   "cell_type": "code",
   "execution_count": 51,
   "metadata": {},
   "outputs": [
    {
     "name": "stdout",
     "output_type": "stream",
     "text": [
      "74.30677174547577 54.4335497682497\n"
     ]
    }
   ],
   "source": [
    "conv_no_add = no_add_successes / no_add * 100\n",
    "conv_add = add_successes / add * 100\n",
    "print(conv_no_add, conv_add)"
   ]
  },
  {
   "cell_type": "markdown",
   "metadata": {},
   "source": [
    "We see that the conversion rate is much higher for foods without additives, so much that we probably don't need a statistical test to confirm this! However, here the Chi-square test for independence:"
   ]
  },
  {
   "cell_type": "code",
   "execution_count": 52,
   "metadata": {},
   "outputs": [
    {
     "data": {
      "text/plain": [
       "array([[14084, 40732],\n",
       "       [45124, 53905]], dtype=int64)"
      ]
     },
     "execution_count": 52,
     "metadata": {},
     "output_type": "execute_result"
    }
   ],
   "source": [
    "#store results\n",
    "results = np.array([[no_add-no_add_successes, no_add_successes], [add-add_successes, add_successes]])\n",
    "results"
   ]
  },
  {
   "cell_type": "code",
   "execution_count": 53,
   "metadata": {},
   "outputs": [
    {
     "name": "stdout",
     "output_type": "stream",
     "text": [
      "5885.541086014605 0.0 1 [[21096.20545354 33719.79454646]\n",
      " [38111.79454646 60917.20545354]]\n"
     ]
    }
   ],
   "source": [
    "#run test\n",
    "chi_square, p_value, degf, matrix = stats.chi2_contingency(observed=results)\n",
    "print(chi_square, p_value, degf, matrix)"
   ]
  },
  {
   "cell_type": "markdown",
   "metadata": {},
   "source": [
    "This confirms that we can reject the null. That said, is the difference so large because our method of splitting the data is biased? Indeed we compared foods without any additive with foods with up to 9 additives, meaning that we compared very different products. Would the results be the same if we compared more similar foods? Let's quickly find out. This time, we will compare foods with 0 additives with foods that have only 1 additive."
   ]
  },
  {
   "cell_type": "code",
   "execution_count": 54,
   "metadata": {},
   "outputs": [
    {
     "name": "stdout",
     "output_type": "stream",
     "text": [
      "54816 30666 58191 27291\n"
     ]
    },
    {
     "name": "stderr",
     "output_type": "stream",
     "text": [
      "C:\\Users\\jeanl\\anaconda3\\envs\\exts-ml\\lib\\site-packages\\pandas\\core\\indexing.py:1765: SettingWithCopyWarning: \n",
      "A value is trying to be set on a copy of a slice from a DataFrame.\n",
      "Try using .loc[row_indexer,col_indexer] = value instead\n",
      "\n",
      "See the caveats in the documentation: https://pandas.pydata.org/pandas-docs/stable/user_guide/indexing.html#returning-a-view-versus-a-copy\n",
      "  isetter(loc, value)\n",
      "C:\\Users\\jeanl\\anaconda3\\envs\\exts-ml\\lib\\site-packages\\pandas\\core\\indexing.py:1765: SettingWithCopyWarning: \n",
      "A value is trying to be set on a copy of a slice from a DataFrame.\n",
      "Try using .loc[row_indexer,col_indexer] = value instead\n",
      "\n",
      "See the caveats in the documentation: https://pandas.pydata.org/pandas-docs/stable/user_guide/indexing.html#returning-a-view-versus-a-copy\n",
      "  isetter(loc, value)\n"
     ]
    },
    {
     "data": {
      "text/html": [
       "<div>\n",
       "<style scoped>\n",
       "    .dataframe tbody tr th:only-of-type {\n",
       "        vertical-align: middle;\n",
       "    }\n",
       "\n",
       "    .dataframe tbody tr th {\n",
       "        vertical-align: top;\n",
       "    }\n",
       "\n",
       "    .dataframe thead th {\n",
       "        text-align: right;\n",
       "    }\n",
       "</style>\n",
       "<table border=\"1\" class=\"dataframe\">\n",
       "  <thead>\n",
       "    <tr style=\"text-align: right;\">\n",
       "      <th></th>\n",
       "      <th>count</th>\n",
       "    </tr>\n",
       "  </thead>\n",
       "  <tbody>\n",
       "    <tr>\n",
       "      <th>no additives</th>\n",
       "      <td>54816</td>\n",
       "    </tr>\n",
       "    <tr>\n",
       "      <th>additives</th>\n",
       "      <td>30666</td>\n",
       "    </tr>\n",
       "    <tr>\n",
       "      <th>high nutrition score</th>\n",
       "      <td>27291</td>\n",
       "    </tr>\n",
       "    <tr>\n",
       "      <th>low nutrition score</th>\n",
       "      <td>58191</td>\n",
       "    </tr>\n",
       "  </tbody>\n",
       "</table>\n",
       "</div>"
      ],
      "text/plain": [
       "                      count\n",
       "no additives          54816\n",
       "additives             30666\n",
       "high nutrition score  27291\n",
       "low nutrition score   58191"
      ]
     },
     "execution_count": 54,
     "metadata": {},
     "output_type": "execute_result"
    }
   ],
   "source": [
    "#select foods with 1 or less additives\n",
    "rq2b = df[df['additives_n'] <= 1]\n",
    "#as before, split nutrition in two groups\n",
    "rq2b.loc[rq2b['nutrition-score-uk_100g'] < 13, 'nutrition-score-uk_100g'] = 0\n",
    "rq2b.loc[rq2b['nutrition-score-uk_100g'] >= 13, 'nutrition-score-uk_100g'] = 1\n",
    "#compute counts in each of the four groups\n",
    "rq2b = rq2b[['additives_n', 'nutrition-score-uk_100g']]\n",
    "no_add = rq2b[rq2b['additives_n'] == 0].count().additives_n\n",
    "add = rq2b[rq2b['additives_n'] == 1].count().additives_n\n",
    "low_ns = rq2b[rq2b['nutrition-score-uk_100g'] == 0].count()[1]\n",
    "high_ns = rq2b[rq2b['nutrition-score-uk_100g'] == 1].count()[1]\n",
    "print(no_add, add, low_ns, high_ns)\n",
    "counts = pd.DataFrame({no_add, add, low_ns, high_ns}).rename(columns={0:'count'}, index={0:'no additives', 1:'additives', 2:'high nutrition score', 3:'low nutrition score'})\n",
    "counts"
   ]
  },
  {
   "cell_type": "markdown",
   "metadata": {},
   "source": [
    "Count successes:"
   ]
  },
  {
   "cell_type": "code",
   "execution_count": 55,
   "metadata": {},
   "outputs": [
    {
     "name": "stdout",
     "output_type": "stream",
     "text": [
      "40732 17459\n"
     ]
    }
   ],
   "source": [
    "no_add_successes = rq2b[(rq2b['additives_n'] == 0) & (rq2b['nutrition-score-uk_100g'] == 0)].count()['additives_n'] #foods without additives and a low nutrition score\n",
    "add_successes = rq2b[(rq2b['additives_n'] == 1) & (rq2b['nutrition-score-uk_100g'] == 0)].count()['additives_n'] #foods with additives and a low nutrition score\n",
    "print(no_add_successes, add_successes)"
   ]
  },
  {
   "cell_type": "markdown",
   "metadata": {},
   "source": [
    "Compute conversion rates:"
   ]
  },
  {
   "cell_type": "code",
   "execution_count": 56,
   "metadata": {},
   "outputs": [
    {
     "name": "stdout",
     "output_type": "stream",
     "text": [
      "74.30677174547577 56.932759407813215\n"
     ]
    }
   ],
   "source": [
    "conv_no_add = no_add_successes / no_add * 100\n",
    "conv_add = add_successes / add * 100\n",
    "print(conv_no_add, conv_add)"
   ]
  },
  {
   "cell_type": "markdown",
   "metadata": {},
   "source": [
    "Store results:"
   ]
  },
  {
   "cell_type": "code",
   "execution_count": 57,
   "metadata": {},
   "outputs": [
    {
     "data": {
      "text/plain": [
       "array([[14084, 40732],\n",
       "       [13207, 17459]], dtype=int64)"
      ]
     },
     "execution_count": 57,
     "metadata": {},
     "output_type": "execute_result"
    }
   ],
   "source": [
    "results = np.array([[no_add-no_add_successes, no_add_successes], [add-add_successes, add_successes]])\n",
    "results"
   ]
  },
  {
   "cell_type": "markdown",
   "metadata": {},
   "source": [
    "Run test:"
   ]
  },
  {
   "cell_type": "code",
   "execution_count": 58,
   "metadata": {},
   "outputs": [
    {
     "name": "stdout",
     "output_type": "stream",
     "text": [
      "2730.467457940523 0.0 1 [[17500.56685618 37315.43314382]\n",
      " [ 9790.43314382 20875.56685618]]\n"
     ]
    }
   ],
   "source": [
    "chi_square, p_value, degf, matrix = stats.chi2_contingency(observed=results)\n",
    "print(chi_square, p_value, degf, matrix)"
   ]
  },
  {
   "cell_type": "markdown",
   "metadata": {},
   "source": [
    "There is still a significant association. In other words, it seems that having only 1 additive makes a difference in terms of overall nutrition score."
   ]
  },
  {
   "cell_type": "markdown",
   "metadata": {},
   "source": [
    "### Q3: Are nutrition grade and nutrition score measuring the same thing?"
   ]
  },
  {
   "cell_type": "markdown",
   "metadata": {},
   "source": [
    "The Open Foods Facts database has several nutrition score measures, some of them in different scales. For example, 'nutrition-score-uk_100g' is in numbers, whereas 'nutrition_grade_fr' is in letters. If we look at the documentation, we have strong reasons to believe that these two nutrition scores measure the same thing. How can we be sure of this, however? We will use two methods to answer this question."
   ]
  },
  {
   "cell_type": "markdown",
   "metadata": {},
   "source": [
    "#### Method 1: standardization and correlation"
   ]
  },
  {
   "cell_type": "markdown",
   "metadata": {},
   "source": [
    "First, let's subset the data to use and recode 'nutrition_grade_fr' in numbers, so that it will be easier to analyse:"
   ]
  },
  {
   "cell_type": "code",
   "execution_count": 59,
   "metadata": {},
   "outputs": [],
   "source": [
    "#define data to use\n",
    "rq3 = df.loc[:, ('nutrition_grade_fr', 'nutrition-score-uk_100g')]\n",
    "#recode letters to numbers\n",
    "rq3.loc[rq3['nutrition_grade_fr'] == 'a', 'nutrition_grade_fr'] = 1 \n",
    "rq3.loc[rq3['nutrition_grade_fr'] == 'b', 'nutrition_grade_fr'] = 2\n",
    "rq3.loc[rq3['nutrition_grade_fr'] == 'c', 'nutrition_grade_fr'] = 3 \n",
    "rq3.loc[rq3['nutrition_grade_fr'] == 'd', 'nutrition_grade_fr'] = 4 \n",
    "rq3.loc[rq3['nutrition_grade_fr'] == 'e', 'nutrition_grade_fr'] = 5 \n",
    "#redefine data types as float\n",
    "rq3.nutrition_grade_fr = rq3.nutrition_grade_fr.astype(float)"
   ]
  },
  {
   "cell_type": "markdown",
   "metadata": {},
   "source": [
    "Since the scale of our two nutrition measures are different, we will standardize them:"
   ]
  },
  {
   "cell_type": "code",
   "execution_count": 60,
   "metadata": {},
   "outputs": [],
   "source": [
    "rq3['nutrition_grade_fr'] = (rq3['nutrition_grade_fr'] - rq3['nutrition_grade_fr'].min()) / (rq3['nutrition_grade_fr'].max() - rq3['nutrition_grade_fr'].min())\n",
    "rq3['nutrition-score-uk_100g'] = (rq3['nutrition-score-uk_100g'] - rq3['nutrition-score-uk_100g'].min()) / (rq3['nutrition-score-uk_100g'].max() - rq3['nutrition-score-uk_100g'].min())"
   ]
  },
  {
   "cell_type": "markdown",
   "metadata": {},
   "source": [
    "(You can read a refresher on standardization and normalization here: https://www.analyticsvidhya.com/blog/2020/04/feature-scaling-machine-learning-normalization-standardization/#:~:text=Normalization%20is%20a%20scaling%20technique,known%20as%20Min%2DMax%20scaling.&text=Here%2C%20Xmax%20and%20Xmin%20are,values%20of%20the%20feature%20respectively.)"
   ]
  },
  {
   "cell_type": "markdown",
   "metadata": {},
   "source": [
    "Now let's have a look at our standardized measures:"
   ]
  },
  {
   "cell_type": "code",
   "execution_count": 61,
   "metadata": {},
   "outputs": [
    {
     "data": {
      "text/html": [
       "<div>\n",
       "<style scoped>\n",
       "    .dataframe tbody tr th:only-of-type {\n",
       "        vertical-align: middle;\n",
       "    }\n",
       "\n",
       "    .dataframe tbody tr th {\n",
       "        vertical-align: top;\n",
       "    }\n",
       "\n",
       "    .dataframe thead th {\n",
       "        text-align: right;\n",
       "    }\n",
       "</style>\n",
       "<table border=\"1\" class=\"dataframe\">\n",
       "  <thead>\n",
       "    <tr style=\"text-align: right;\">\n",
       "      <th></th>\n",
       "      <th>nutrition_grade_fr</th>\n",
       "      <th>nutrition-score-uk_100g</th>\n",
       "    </tr>\n",
       "  </thead>\n",
       "  <tbody>\n",
       "    <tr>\n",
       "      <th>count</th>\n",
       "      <td>156999.000000</td>\n",
       "      <td>156999.000000</td>\n",
       "    </tr>\n",
       "    <tr>\n",
       "      <th>mean</th>\n",
       "      <td>0.539701</td>\n",
       "      <td>0.435441</td>\n",
       "    </tr>\n",
       "    <tr>\n",
       "      <th>std</th>\n",
       "      <td>0.339496</td>\n",
       "      <td>0.165262</td>\n",
       "    </tr>\n",
       "    <tr>\n",
       "      <th>min</th>\n",
       "      <td>0.000000</td>\n",
       "      <td>0.000000</td>\n",
       "    </tr>\n",
       "    <tr>\n",
       "      <th>25%</th>\n",
       "      <td>0.250000</td>\n",
       "      <td>0.290909</td>\n",
       "    </tr>\n",
       "    <tr>\n",
       "      <th>50%</th>\n",
       "      <td>0.500000</td>\n",
       "      <td>0.436364</td>\n",
       "    </tr>\n",
       "    <tr>\n",
       "      <th>75%</th>\n",
       "      <td>0.750000</td>\n",
       "      <td>0.563636</td>\n",
       "    </tr>\n",
       "    <tr>\n",
       "      <th>max</th>\n",
       "      <td>1.000000</td>\n",
       "      <td>1.000000</td>\n",
       "    </tr>\n",
       "  </tbody>\n",
       "</table>\n",
       "</div>"
      ],
      "text/plain": [
       "       nutrition_grade_fr  nutrition-score-uk_100g\n",
       "count       156999.000000            156999.000000\n",
       "mean             0.539701                 0.435441\n",
       "std              0.339496                 0.165262\n",
       "min              0.000000                 0.000000\n",
       "25%              0.250000                 0.290909\n",
       "50%              0.500000                 0.436364\n",
       "75%              0.750000                 0.563636\n",
       "max              1.000000                 1.000000"
      ]
     },
     "execution_count": 61,
     "metadata": {},
     "output_type": "execute_result"
    }
   ],
   "source": [
    "rq3.describe()"
   ]
  },
  {
   "cell_type": "markdown",
   "metadata": {},
   "source": [
    "Note both seem approximately normally distributed. However, we still haven't answered our question. Do they measure the same thing?"
   ]
  },
  {
   "cell_type": "markdown",
   "metadata": {},
   "source": [
    "To find out, we might reason that if our two variables measure the same thing, then we would expect a near perfect correlation between them. Let's see whether this is the case:"
   ]
  },
  {
   "cell_type": "code",
   "execution_count": 62,
   "metadata": {},
   "outputs": [
    {
     "data": {
      "text/html": [
       "<div>\n",
       "<style scoped>\n",
       "    .dataframe tbody tr th:only-of-type {\n",
       "        vertical-align: middle;\n",
       "    }\n",
       "\n",
       "    .dataframe tbody tr th {\n",
       "        vertical-align: top;\n",
       "    }\n",
       "\n",
       "    .dataframe thead th {\n",
       "        text-align: right;\n",
       "    }\n",
       "</style>\n",
       "<table border=\"1\" class=\"dataframe\">\n",
       "  <thead>\n",
       "    <tr style=\"text-align: right;\">\n",
       "      <th></th>\n",
       "      <th>nutrition_grade_fr</th>\n",
       "      <th>nutrition-score-uk_100g</th>\n",
       "    </tr>\n",
       "  </thead>\n",
       "  <tbody>\n",
       "    <tr>\n",
       "      <th>nutrition_grade_fr</th>\n",
       "      <td>1.000000</td>\n",
       "      <td>0.949197</td>\n",
       "    </tr>\n",
       "    <tr>\n",
       "      <th>nutrition-score-uk_100g</th>\n",
       "      <td>0.949197</td>\n",
       "      <td>1.000000</td>\n",
       "    </tr>\n",
       "  </tbody>\n",
       "</table>\n",
       "</div>"
      ],
      "text/plain": [
       "                         nutrition_grade_fr  nutrition-score-uk_100g\n",
       "nutrition_grade_fr                 1.000000                 0.949197\n",
       "nutrition-score-uk_100g            0.949197                 1.000000"
      ]
     },
     "execution_count": 62,
     "metadata": {},
     "output_type": "execute_result"
    }
   ],
   "source": [
    "rq3.corr()"
   ]
  },
  {
   "cell_type": "markdown",
   "metadata": {},
   "source": [
    "They are almost perfectly correlated indeed. Let's now try to plot this relationship:"
   ]
  },
  {
   "cell_type": "code",
   "execution_count": 63,
   "metadata": {},
   "outputs": [
    {
     "data": {
      "image/png": "[encoded data removed]",
      "text/plain": [
       "<Figure size 432x360 with 1 Axes>"
      ]
     },
     "metadata": {},
     "output_type": "display_data"
    }
   ],
   "source": [
    "sns.scatterplot(x=rq3['nutrition_grade_fr'], y=rq3['nutrition-score-uk_100g'])\n",
    "plt.show()"
   ]
  },
  {
   "cell_type": "markdown",
   "metadata": {},
   "source": [
    "Since our dataset has many points, and since our variables of interest are discrete, it is hard to see the relationship, and there's also a problem of overplotting. We can try this solution: https://stackoverflow.com/questions/8671808/matplotlib-avoiding-overlapping-datapoints-in-a-scatter-dot-beeswarm-plot, which is to 'jitter' the data:"
   ]
  },
  {
   "cell_type": "code",
   "execution_count": 64,
   "metadata": {},
   "outputs": [
    {
     "data": {
      "image/png": "[encoded data removed]",
      "text/plain": [
       "<Figure size 1296x720 with 1 Axes>"
      ]
     },
     "metadata": {},
     "output_type": "display_data"
    }
   ],
   "source": [
    "sns.set(rc={'figure.figsize':(18,10)})\n",
    "sns.stripplot(x='nutrition_grade_fr', y='nutrition-score-uk_100g', data=rq3, jitter=0.49)\n",
    "sns.despine()"
   ]
  },
  {
   "cell_type": "markdown",
   "metadata": {},
   "source": [
    "What has happened here is that the observations have been 'jittered', meaning that not all appear on top of each other. It is not perfect, however it is easier to see that there is a strong positive correlation than in the previous graph."
   ]
  },
  {
   "cell_type": "markdown",
   "metadata": {},
   "source": [
    "#### Method 2: normalization and comparison of distributions"
   ]
  },
  {
   "cell_type": "markdown",
   "metadata": {},
   "source": [
    "We might also investigate our research quetsion by comparing the distribution of our two nutrition scores. For this, we first need to normalize them:"
   ]
  },
  {
   "cell_type": "code",
   "execution_count": 65,
   "metadata": {},
   "outputs": [],
   "source": [
    "#redefine data to use\n",
    "rq3 = df.loc[:, ('nutrition_grade_fr', 'nutrition-score-uk_100g')]\n",
    "rq3.loc[rq3['nutrition_grade_fr'] == 'a', 'nutrition_grade_fr'] = 1 \n",
    "rq3.loc[rq3['nutrition_grade_fr'] == 'b', 'nutrition_grade_fr'] = 2\n",
    "rq3.loc[rq3['nutrition_grade_fr'] == 'c', 'nutrition_grade_fr'] = 3 \n",
    "rq3.loc[rq3['nutrition_grade_fr'] == 'd', 'nutrition_grade_fr'] = 4 \n",
    "rq3.loc[rq3['nutrition_grade_fr'] == 'e', 'nutrition_grade_fr'] = 5 \n",
    "rq3.nutrition_grade_fr = rq3.nutrition_grade_fr.astype(float)\n",
    "\n",
    "#normalize\n",
    "rq3['nutrition_grade_fr'] = (rq3['nutrition_grade_fr'] - rq3['nutrition_grade_fr'].mean()) / rq3['nutrition_grade_fr'].std()\n",
    "rq3['nutrition-score-uk_100g'] = (rq3['nutrition-score-uk_100g'] - rq3['nutrition-score-uk_100g'].mean()) / rq3['nutrition-score-uk_100g'].std()\n"
   ]
  },
  {
   "cell_type": "code",
   "execution_count": 66,
   "metadata": {},
   "outputs": [
    {
     "data": {
      "text/html": [
       "<div>\n",
       "<style scoped>\n",
       "    .dataframe tbody tr th:only-of-type {\n",
       "        vertical-align: middle;\n",
       "    }\n",
       "\n",
       "    .dataframe tbody tr th {\n",
       "        vertical-align: top;\n",
       "    }\n",
       "\n",
       "    .dataframe thead th {\n",
       "        text-align: right;\n",
       "    }\n",
       "</style>\n",
       "<table border=\"1\" class=\"dataframe\">\n",
       "  <thead>\n",
       "    <tr style=\"text-align: right;\">\n",
       "      <th></th>\n",
       "      <th>nutrition_grade_fr</th>\n",
       "      <th>nutrition-score-uk_100g</th>\n",
       "    </tr>\n",
       "  </thead>\n",
       "  <tbody>\n",
       "    <tr>\n",
       "      <th>count</th>\n",
       "      <td>1.569990e+05</td>\n",
       "      <td>1.569990e+05</td>\n",
       "    </tr>\n",
       "    <tr>\n",
       "      <th>mean</th>\n",
       "      <td>-1.422905e-16</td>\n",
       "      <td>2.923653e-17</td>\n",
       "    </tr>\n",
       "    <tr>\n",
       "      <th>std</th>\n",
       "      <td>1.000000e+00</td>\n",
       "      <td>1.000000e+00</td>\n",
       "    </tr>\n",
       "    <tr>\n",
       "      <th>min</th>\n",
       "      <td>-1.589714e+00</td>\n",
       "      <td>-2.634858e+00</td>\n",
       "    </tr>\n",
       "    <tr>\n",
       "      <th>25%</th>\n",
       "      <td>-8.533271e-01</td>\n",
       "      <td>-8.745645e-01</td>\n",
       "    </tr>\n",
       "    <tr>\n",
       "      <th>50%</th>\n",
       "      <td>-1.169408e-01</td>\n",
       "      <td>5.582240e-03</td>\n",
       "    </tr>\n",
       "    <tr>\n",
       "      <th>75%</th>\n",
       "      <td>6.194456e-01</td>\n",
       "      <td>7.757107e-01</td>\n",
       "    </tr>\n",
       "    <tr>\n",
       "      <th>max</th>\n",
       "      <td>1.355832e+00</td>\n",
       "      <td>3.416151e+00</td>\n",
       "    </tr>\n",
       "  </tbody>\n",
       "</table>\n",
       "</div>"
      ],
      "text/plain": [
       "       nutrition_grade_fr  nutrition-score-uk_100g\n",
       "count        1.569990e+05             1.569990e+05\n",
       "mean        -1.422905e-16             2.923653e-17\n",
       "std          1.000000e+00             1.000000e+00\n",
       "min         -1.589714e+00            -2.634858e+00\n",
       "25%         -8.533271e-01            -8.745645e-01\n",
       "50%         -1.169408e-01             5.582240e-03\n",
       "75%          6.194456e-01             7.757107e-01\n",
       "max          1.355832e+00             3.416151e+00"
      ]
     },
     "execution_count": 66,
     "metadata": {},
     "output_type": "execute_result"
    }
   ],
   "source": [
    "rq3.describe()"
   ]
  },
  {
   "cell_type": "markdown",
   "metadata": {},
   "source": [
    "We can now compare our distributions:"
   ]
  },
  {
   "cell_type": "code",
   "execution_count": 67,
   "metadata": {},
   "outputs": [
    {
     "name": "stdout",
     "output_type": "stream",
     "text": [
      "2.575860619896065 -4.80580309567628e-14 0.9999999999999617\n"
     ]
    }
   ],
   "source": [
    "crit_value = stats.t.ppf(q=0.995, df=(rq3.shape[0]-1)) #critical value for significance level of p = 0.01, two-tailed\n",
    "test_stat, test_p = stats.ttest_ind(rq3['nutrition_grade_fr'], rq3['nutrition-score-uk_100g']) #run t-test\n",
    "print(crit_value, test_stat, test_p)"
   ]
  },
  {
   "cell_type": "markdown",
   "metadata": {},
   "source": [
    "The test statistic is much smaller than the critical value, and the p-value is much higher than our chosen significance level. We can conclude that the two distributions are not statistically different.\n",
    "\n",
    "Hence, using two methods, we have shown that our two measures of nutrition do not differ, and likely measure the same thing."
   ]
  },
  {
   "cell_type": "markdown",
   "metadata": {},
   "source": [
    "## C. Exploring text data"
   ]
  },
  {
   "cell_type": "markdown",
   "metadata": {},
   "source": [
    "The openfoodfacts database has plenty of text data, and most notably the foods' ingredients. Can we try and find the 5 most common 5 ingredients? Let's give it a go."
   ]
  },
  {
   "cell_type": "markdown",
   "metadata": {},
   "source": [
    "OK. Let's start with selecting the data. We will take the full dataset for this task:"
   ]
  },
  {
   "cell_type": "code",
   "execution_count": 68,
   "metadata": {},
   "outputs": [
    {
     "data": {
      "text/plain": [
       "(283893, 1)"
      ]
     },
     "execution_count": 68,
     "metadata": {},
     "output_type": "execute_result"
    }
   ],
   "source": [
    "df = pd.read_csv(\"en.openfoodfacts.org.products.tsv\", sep=\"\\t\", usecols=['ingredients_text'], low_memory=False)\n",
    "df = df.dropna() #drop empty rows\n",
    "df.rename(columns={'ingredients_text':'ing'}, inplace=True)\n",
    "df.shape"
   ]
  },
  {
   "cell_type": "markdown",
   "metadata": {},
   "source": [
    "We have 283,893 rows that contain ingredients. The first thing we will do is to have a look at the length of the corresponding strings:"
   ]
  },
  {
   "cell_type": "code",
   "execution_count": 69,
   "metadata": {},
   "outputs": [
    {
     "data": {
      "text/plain": [
       "count    283893.000000\n",
       "mean        208.025728\n",
       "std         195.764304\n",
       "min           1.000000\n",
       "25%          75.000000\n",
       "50%         173.000000\n",
       "75%         255.000000\n",
       "max        4468.000000\n",
       "Name: ing, dtype: float64"
      ]
     },
     "execution_count": 69,
     "metadata": {},
     "output_type": "execute_result"
    }
   ],
   "source": [
    "df.ing.str.len().describe()"
   ]
  },
  {
   "cell_type": "markdown",
   "metadata": {},
   "source": [
    "We note the strings have a median number of characters of 173. If we estimate that english words have 5 letters on average (see http://norvig.com/mayzner.html), this is about 35 words or ingredients in each cell. We also note some strings are exceptionally long. The maximum length is 4,468, which corresponds to nearly 900 words. Let's have a closer look at some of these unusually long strings:"
   ]
  },
  {
   "cell_type": "code",
   "execution_count": 70,
   "metadata": {},
   "outputs": [
    {
     "data": {
      "text/html": [
       "<div>\n",
       "<style scoped>\n",
       "    .dataframe tbody tr th:only-of-type {\n",
       "        vertical-align: middle;\n",
       "    }\n",
       "\n",
       "    .dataframe tbody tr th {\n",
       "        vertical-align: top;\n",
       "    }\n",
       "\n",
       "    .dataframe thead th {\n",
       "        text-align: right;\n",
       "    }\n",
       "</style>\n",
       "<table border=\"1\" class=\"dataframe\">\n",
       "  <thead>\n",
       "    <tr style=\"text-align: right;\">\n",
       "      <th></th>\n",
       "      <th>ing</th>\n",
       "    </tr>\n",
       "  </thead>\n",
       "  <tbody>\n",
       "    <tr>\n",
       "      <th>146103</th>\n",
       "      <td>Beef enchilada in red sauce: beef enchilada; tortilla: corn flour (ground corn, trace of lime), water. filling: water, beef, flavorings including paprika, cracked wheat, modified food starch, textured vegetable protein (soy flour, caramel color), contains 2% or less of: soy protein concentrate, chili powder (chili pepper, salt, spices, garlic powder), dehydrated onion, salt, vinegar, dehydrated soy sauce (flavor [hydrolyzed soy protein, salt, corn syrup solids], yeast extract, salt, soybean oil). red sauce: water, shortening (refined, bleached beef tallow, soybean oil and/or cottonseed oil. bht added as antioxidant and dimethypolysiloxane added as antifoaming agent), bleached wheat flour enriched (niacin, reduced iron, thiamine mononitrate, riboflavin, folic acid), flavorings including paprika, contains 2% or less of: modified food starch, chili powder (chili pepper, salt, corn syrup solids], yeast extract, salt, soybean oil), vinegar, beef flavor base (salt, soy sauce [naturally fermented wheat &amp; soybeans, salt, maltodextrin and caramel color], maltodextrin, yeast extract, dextrose, modified corn starch, caramel color [contains 51 ppm sulfites], dried onion, silicon dioxide, corn oil, natural flavor), salt. cheese enchilada in chili con queso: cheese enchilada: tortilla: corn flour (ground corn, trace of lime), water. filling: water, dehydrated cheese powder (corn syrup, american cheese [milk, culture, salt, enzymes], food starch modified, whey, partially hydrogenated oil [coconut and/or soybean], butter [milk-fat], nonfat milk, buttermilk, di-sodium phosphate, sodium caseinate, mono &amp; di-glycerides, citric acid, sodium stearoyl lactylate, sodium citrate, di-potassium phosphate, salt, natural flavor, natural and artificial colors [annatto, paprika, fd&amp;c yellow #5, fd&amp;c yellow #6, beta carotene] and carrageenan), cheddar cheese (pasteurized milk, cheese culture, salt, enzymes and annatto), modified food starch, contains 2% or less of vinegar, dehydrated onion, queso gravy: water, cheese sauce (a dehydrated blend of food starch modified, maltodextrin, whey, cheese [granular &amp; blue {pasteurized milk, cheese cultures, salt, enzymes}], partially hydrogenated soybean oil, salt, whey protein concentrate, lactose, contains 2% or less of sodium phosphate, citric acid, lactic acid, tumeric [color], yellow 6 lake), green chiles, bell peppers, tomatoes (tomatoes, citric acid), contains 2% or less of: modified food starch, dehydrated onion, soybean oil, vinegar, flavorings, dehydrated soy sauce (flavor [hydrolyzed soy protein, salt, corn syrup solids], yeast extract, soybean oil), jalapenos (jalapeno peppers, salt, acetic acid, water, calcium chloride), salt, chicken flavor base (salt, maltodextrin, dextrose, modified food starch, sugar, dehydrated onion, yeast extract, corn oil, natural and artificial flavors, citric acid), guar gum beans: water, beans, contains 2% or less of: shortening (refined, bleached beef tallow, soybean oil and/or cottonseed oil, bht added as antioxidant and dimethylpolysiloxane added as antifoaming agent), flavorings, vinegar, salt, yeast extract, modified food starch, chili powder (chili pepper, salt, spices, garlic powder). spanish rice: cooked rice {water, rice), tomato paste, bell peppers, contains 2% or less of: flavorings including paprika, vinegar, soybean oil, dehydrated onion, chicken flavor base (salt, maltodextrin, dextrose, modified food starch, sugar, dehydrated onion, yeast extract, corn oil, natural and artificial flavors, citric acid), salt, modified food starch.</td>\n",
       "    </tr>\n",
       "    <tr>\n",
       "      <th>212065</th>\n",
       "      <td>5 Canapés avec préparation aux grillées et fromage frais sur pain de mie à la tomate 27.4% : aux (courgettes grillées 36%, huile de jus de citron à base de concentré, sel, ail, basilic). pain de mie à la tomate 31 % (farine de (farine de farine de et sort rna/té). eau. tomate 3.1 de toumesoL levure. sel. lactosérum en poudre, graisso de coprah. farine de fève, origan, lait écrémé en poudre, protéines de émulsifiants mono- basilic. anfroxydant : acide ascorbique). fromage blanc. fromage frais foisonné 7.5% [fromage [ail écrémé. çrèma. protéines deshydrat4 ferrnents lactiques persil, antioxydant : alpha-tocophérol, amidon modifié de tapioca, épaississants : farine de graines de caroube et gomme xanthane, protéines de sur (Pourc•ytages expnt77és sur le préparation aux grillées et fromage frais sur pain de mie à la tomate). 5 avec préparation au fromage de chèvre, tomates marinées et basilic sur pain de mie aux olives 25,2% : (GQüinUf_ChavjgQQ121 % , lait entier, eau, amidon modifié de maïs, jaune d 'muf, acidifiant : citrates de sodium, gélifiant : carraghénanes. érnulsfiant : esters lactiques des mono- d'acides gras, : sorbate de potassium), tomates marinées 27 % (tomates mi séchées. huile de colza, sel, origan, ail, jus de citron concentré), pain de mie aux olives 22% [farine de (farine farine de Olé malté), eau, olives noires 1.4% (olives noires, set, stabilisateur de couleur : gluconate ferreux), huile de tournesol, farine complète de levure, sel, sucre, de fève malt d'Q1ue torréfié, émulsifiants : mono- et d'acides gras et stéaroyl-2-lactylate de sodium, farine d'Œge torréfiée, farine de malté, antioxydant : acide ascorbiquel, blanc, basilic 2,501. , amidon modifié de tapiocz, épaississants : farine de graines de caroube et gomme xanthane, protéines de lait. (Pourœntages exprimés sur le préparation au fromage de chèvre, tomates marinées et basilic sur pain de mie aux olives). 5 min/ clubs sandwichs Jambon serrano, beurre et figue séchée sur pain de mie noir et pain brioché 24,3% : Jambon serran029% üambon de ,oorc, sel, a»nservateurs : nitrate de potassium et nitrite de sodium, antioxydant : ascorbate de sodium), eau, pain de mie noir 15% (farine de (farine de farine de PV malté), eau, huile de toumeso/, remoulage de blé, poudre de maigre sucre, farine de fève, gluten-de-hlé, sel, levure, malt d'usa torréfié, émulsifiants : mono- et diglycérides d'acides gras et Stéaroy/-2-/acty/ate de sodium, antioxydant : acide ascorbique], pain brioché 15% [farine de blé (farine de blé, gluten-de-hlé, farine de blé malté), eau, 1 sucre, levure, en poudre 0,3%, sal, en poudre, farine de fève, gluten-de.-u-é, graisse de coprah, émulsifiants : mono- et diglycérides d'acides gras et stéaroyl-2-lactylate de sodium, écrémé en poudre, protéines de antioxydant acide ascorbique\\, 11%, figue séchée 6,3% (figue séchée, farine de riz), préparation pour sauce béchame! en poudre (laçtqsérum, amidon modifié de pomme de terre, matière grasse de colza. écrémé en poudre, sel, farine de protéines de &amp;j!, sirop de arômes naturels. (POurœntages exprimés sur le mini club sandwich jambon serrano, beurre et figue séchée sur pain de mie noir et pain brioché). 5 canapés saumon Imé, créme et anet sur pain polaire 23, 1 % : mmé30% (Sa/mosa/ar), sel], pain polaire 27 % (farine de blé, eau, farine de ejgle, sirop de sucre, sucre, glutenÂg_hlé, huile de colza, fibres de betterave, sel, farine de bihfermenté, levure, 70170-etdig/ycérides d'acide gras et esters monoac±tyltartriques et diacétyltartriques des mono- et diglycérides d'acides gras, poudre à lever : carbonate acide d'ammonium, fructose, agent de traitement de Va fari ide asmrbique), fraîche 20%, finage blanc, aneth 1,2%, amidon modifié de tapioca, épaississants : farine de graines de caroube et gomme xanthane, protéines de sel, jus de citron W',centré, poivre. wrcentages exprimés sur le xnapé saumon fumé, crème et aneth sur pain polaire). t mqtenir des traces de soja, fruits à coque, austacés, graines de sésame, céleri, moutarde.</td>\n",
       "    </tr>\n",
       "    <tr>\n",
       "      <th>227417</th>\n",
       "      <td>??? DECOUPE - A RELIRE ??? Allumette chorizo : pâte 61,8% [farine de blé - margarine (graisses végétales de palme et de colza - eau - sel - émulsifiant : mono- et diglycérides d'acides gras - correcteur d'acidité : acide citrique) - eau - sel - œuf entier en poudre] - eau - purée de tomate - chorizo 4,9% (viande de porc 4,4% - épices et plantes aromatiques (carvi - coriandre - paprika - piment doux - poivre - ail - origan) - sel - dextrose - émulsifiant : diphosphates - arômes naturels - conservateurs : acide ascorbique, nitrite de sodium) - jambon cuit choix 3,2% (jambon de porc 2,6% - eau - sel - arômes naturels - bouillon de légumes - ferments) - champignons émincés (champignons - antioxydant : sulfite acide de sodium) - emmental râpé - amidon transformé de pomme de terre - arômes naturels (contient du gluten) - sucre - sel - poivrons rouges - poivre noir.  Allumette poireau/saumon : pâte 61,8% [farine de blé - margarine (graisses végétales de palme et de colza - eau - sel - émulsifiant : mono- et diglycérides d'acides gras - correcteur d'acidité : acide citrique) - eau - sel - œuf entier en poudre] - eau - poireau 7,3% - préparation déshydratée [lactosérum - amidon transformé de pomme de terre - matière grasse végétale de colza - amidon de blé - lait écrémé en poudre - sirop de glucose - épaississant : alginate de sodium - protéines de lait - arômes naturels - épices (poivre - muscade)] - saumon (Salmo salar) 2,6% - saumon fumé (Sa/mo sa/ar) 2,6% - chapelure (farine de blé - eau - sel - levure) - lait entier en poudre - sel - poivre noir - estragon, Carré feuilleté au chèvre : pâte 55,8% [farine de blé - margarine (graisses végétales de palme et de colza - eau - sel - émulsifiant : mono- et diglycérides d'acides gras - correcteur d'acidité : acide citrique) - eau - sel - œuf entier en poudre] - fromage de chèvre 21% - eau - préparation déshydratée (lactosérum - amidon transformé de pomme de terre - matière grasse végétale de colza - amidon de blé - lait écrémé en poudre - sirop de glucose - épaississant : alginate de sodium - protéines de lait - arômes naturels - épices (poivre - muscade)] - graines de pavot 3,5% - arôme naturel (contient lait) - sel.  Mini panier tapenade : pâte 57% [farine de blé - margarine (graisses végétales de palme et de colza - eau - sel - émulsifiant : mono- et diglycérides d'acides gras - correcteur d'acidité : acide citrique) - eau - sel - œuf entier en poudre] - olives noires 22,5% (olives noires - eau - sel - stabilisant : gluconate ferreux) - eau - préparation déshydratée [lactosérum - amidon transformé de pomme de terre - matière grasse végétale de colza - amidon de blé - lait écrémé en poudre - sirop de glucose - épaississant : alginate de sodium - protéines de lait - arômes naturels - épices (poivre - muscade)] - câpres fines au vinaigre 3% (câpres - eau - vinaigre - sel) - huile d'olive extra vierge 1,8% - anchois salés à l'huile 1,5% (anchois salés - huile de tournesol) - graines de sésame 0,7% - thym.  Roulé basilic/tomate : pâte 55,8% [farine de blé - margarine (graisses végétales de palme et de colza - eau - sel - émulsifiant : mono- et diglycérides d'acides gras - correcteur d'acidité : acide citrique) - eau - sel - œuf entier en poudre] - eau - préparation à base de basilic 8,4% (huile de tournesol - basilic 2,8% - fromage - sel - concentré de citron - ail) - préparation déshydratée (lactosérum - amidon transformé de pomme de terre - matière grasse végétale de colza - amidon de blé - lait écrémé en poudre - sirop de glucose - épaississant : alginate de sodium - protéines de lait - arômes naturels - épices (poivre - muscade)) - poudre de tomate 4,1% - oignons - ail - chapelure (farine de blé - eau - sel - levure) - blanc d'œuf - arôme naturel - sel.  Traces d'anhydrides sulfureux, céleri, crustacés, fruits à coque, mollusques, moutarde, soja.</td>\n",
       "    </tr>\n",
       "    <tr>\n",
       "      <th>300416</th>\n",
       "      <td>Cregn Tea Extract I Extrait dg thé vort I Crùnteeextrakt / Extracto dg Té Verdg / Estratto di tè vardg / Vihreâteguutg intake of an average adult I Apport de référence pour un adulte -type. / Referenzzufuhr gines durctbchnittlichen En ad un adulto I AihJlsen kesYimâârâinen viitteelfinen pâivâsaanti, / Peferencb bwitel étlag feln6tt széméra - (8400 kJ (71%) (Milk), d' Malto, Acetil L Cantina, (Sucrafosio) V;tarmna CIA Concentratel Ground Oats, Who'e Psyllium Husks, Flaxseed Powder, L Glutamtne, Acetyl L Carnitire Flavounng,MaIt inclus i cerealiche corteng Extract Sweetener (Sucralose) ALLERGENS Fcr altergens, including cerga!s conta:nng gluten Le vcteine favorscono la c see Ingredlents In bold SUGGESTED USE Protein contributes to the growth B mantervnce unefici da questo vodotto of muscle mass so to reap tre of this product we recommend addirg 2 large acqua o latte in unc shaker (60g) to 250-350ml of water or milk in a Myprotein shaker 30 mtnutes before and/or after your co,3umare durante il giorno workout Alternatve{yconsume Intake IMPORTANT IMPORTANTI Conservareinu INFORMATION Store in a cool, dry p!ace away from direct sunlight. This product is intended prodcttc per chi ha I tobeusedatongsdeanactIvellfestyieandabalanceddiet,N0tsuitableforvegetanansn adattca vegetariarv mAlN INGRÉDIENTS Mélange de Protéine (71%) de protéine de Whey(Laitl Concentréde Mdtoprotelinkonsertraattil ProténedeLaitlAvdneMoulue, Enveloppes de Entières, Lin en poudre, Aromat!santL asetyyIl-L-karnttitni vi , Extrait de (SoiJdStiinJ)Arorni, Mallasu ÉduboranttSucraloselV{tamine C(AcideAscorbique) ALLERGÈNES ycomprts kutengfutenastsâ:tévàt vilji les céréales contenant du gluten, vor ingrédients en gras DOSAGE SUGGÉRÉ Les protéines ed,stâé lihsmassan kasvuaJG contribuent à la croissance et au rnaintien de la masse rrusa±ire domafin de tirer parti au lsààrnéân 2 suurta mtafj;sta mieux de ce produit nous recommandons d'ajouter 2 grandes mesures(60g) à 250-350mi deau mtnuutta enrentreerejâja/ti ou d lait dans un shaker Myprotein 30 minutes avant et/ou après votre séance d'entraînement lisétàksesi pàMtté:sté Comme alternat;ve. consommer à tout mom ent de la Journée pour augmenter votre apport kutvassa pakassa, pags.sa sucr quotidien en protéines INFORMATIONS IMPORTANTES A conserver dans un endroit frais et sec, à (abri de la lumière directe du soleil. Ce produit est destiné à être utilisé en complément dun akti:vsan dâmértava mode deveactfetd'unealimentationéquilibrée Non approprié aux végétariers ZUTATEN C-VItamn[Aszkar Hafer, ganze Ftchsamenschalerl Leinsamen Pulver, Aroma L Glutamiru Matz Extrakt, Acetyl L Canitn Grunteeextrakt Emulgator Leclthin) Sufungsmttel (Sucralosel Vitamin C (Sakraldz) ALLER. aufgefuhdVORGESEHENEVERWENDlJNG proteintrâgtzumWachstumEErhattderMuskelmase 2 [60 g) in 250-350mi vollmilch zu geben umdIetàgllcheProtejnaufnahmezuerhdhenwŒHTlGElNF0RMAT10NEN Kùhtund trockenund Ernàhrung Für EINGREOIENTES de (71%) [Concentrado de de suero (Lechel Concentrado de de Lechel Copos de Avena Molida Céscaras de Psilic Enteras, Linaza en Pclvo, de Matta, Acetil L cantina , Extracto de Té verde, sqa). C (Acido Ascérbico) ALÊRGENOS Para tnckldcs!os cereaìes can gluten consuftar IOS ingredientes en negrita INSTRUCC! ios beneficios de este producto, recorrerdarnos afiadir 2 (60 g) W717020775 ONESOEUSO a 350ml de agua o teche entera erl un agitador Myprdtein 30 mtnutos antes O dspués de BATCH CODE tu entrenamiento Alternativamente, consumir en cualquiar momenta dei dia para incramertar tu ingesta de IMPORTANTES conservar en un lugar fresco seco y 18 a!ejado de la directa Este producto esté destinad0 para usarse con un estilo de vida BEST BEFORE ENJ/À CONSOMMER act Y una equilibrada No apto paravegetartancs INGREDIENTI Proteca [7193} [Prctejne dei Siero di Latu Concentrate. Prcteine de' Latu PREFERENTEYENTE ANTES DEL FIN DE PREFERBN-MENTEENTROFINE/PARASI Intere di Fibra di Psillio, semi dl L,no in Po!vere. L Glutammina Concentratei Avena Mactnata MINOSÉGËT</td>\n",
       "    </tr>\n",
       "    <tr>\n",
       "      <th>350096</th>\n",
       "      <td>water, sugar, I % orange juice (from concentrate), nutritive acid: citric acid, acidity regulator: sodium citrates, antioxida vltam\\n Ci stabillzer: gum Arabic, natural orange flavour With Other natural fiavours, stabilizers: E445 and E444, sweetener, Steviol glycosides, colourants: El 60a, El 60e. Dry ingredients min. 65%, Product has been pasteurized. ?Troppie Orange. Frisdrank met sinaasappel smaak, zoetstof en vitamine C antioxidant: vitamine C/ stabilisator: arabische gom, natuurlijk sinaasappel aroma met andere natuurlijke aromals, stabilisatoren: {445 en E444/ zoetstof: steviolglycosiden, kleurstoffen: El 60a/ El 60e. Droge ingrediënten min, 63%. Product is gepasteuriseerd Troppie Orange, Boisson rafraîchissante au goût d'orange, avec édulcorant et vitamine C Ingrédients: eau, sucre, 1% jus d'orange (à base de jus concentré), acidifiant: acide citrique, régulateur d'acidité.' citrates de sodium, antioxydant', vitamine Ç stabilisant: omme arabique, arôme naturel diorange avec d'autres arômes naturels, stabilisants.' E445 et E44 édulcorant. glycosides de stéviol, co orants: El 60a, El 60e. Ingrédients secs 6,5% au minimum, Le produit a été pasteurisé ?Troppie Orange. Erfrischungsgetrânk mit Orangengeschmack, Sülstoff und Vitamin C Zutaten:Wasser, Zucker, I % Organgensaft (aus Konzentrat)/ Siurungsmittel: Zitronensâure, Sâureregulator: Natriumcitrate, Antioxidationsmittel:Vitamin C, Stabilisator: Gummi arabicum, natürliches Orangenaroma mit anderen natürlichen Aromen, Stabilisatoren: E445 und E444, Süllstoff: Steviolglycoside, Farbstoffen: El 60a, El 60e,Trockenzutaten min, 6,5%. Pasteurisiertes Produkt, ?ITroppie Orange. Nealkoholickj népoj s pomeranëovou piichuti, sladidlem a vitaminem C Sloieni: voda, cukrt 1% pomeranëovj dius (z koncentrétu)f kyseliny: kyselina citronové/ regulétor kyselosti: citréty sodné, antioxidantyr vitamin Ç stabilizétor: arabskâ guma, piirodni pomeranëovâ aroma s dalSimi piirodnimi ochucovadly, stabilizétory: E445 a E444, sladidlo: steviol glykosidy, barvivo: El 60a, El 60e, Suché piisady min, 6/5%. Produkt je pasterizovany, Troppie Orange, Nealkoholickj népoj s pomaranëovou prichut'ou, sladidlom a vitaminom C Zloienie: vodat Cukor, I % pomarantovj diüs (z koncentrétu), kyseliny: kyselina citrénovâ, regulétor kyslosti: citréty sodne, antioxidantY} vitamin C, stabilizâtor. arabskâ guma, prirodné pomaran&amp;vé aréma s dalSimi prirodnymi ochucovadlami, stabilizétoryeE445@.E34. suidlo: steviol glykozidy, farbivo: El 60at El 60e, Suché prisady min. 6,5%, Produkt je pasterizovany. tzaTroppie Orange. Refresco con sabor naranja, edulcorante y vitamina C Ingredientes: agua, azücar, jugo de naranja I % (de concentrado), acidulante: écido citrico, regulador de acidez citratos de sodiq antioxidante: vitamina C, estabilizanle: goma {rabe, sabor de naranja natural con otros sabores naturales, estabilizantes: E445 y E444 edulcorante: gluc6sidos de esteviol, colorantes: El 60at El 60e, Ingredientes secos minimo de 6/5%. Producto pasteurizado. I QTroppie0range.Nap6jbezalkoholowyosmakupomarafiaowym,stodzikiwitaminqC Sklad: woda, cukier, sok pomaraficzowy 1 % (z koncentratu), kwas: kwas cytrynowy, regulator kwasowoSci: cytrynjan sodu, przeciwutleniacze: witaminì C, stabilizator: arabska guma , naturalny aromat pomaraficzowy z drugiej naturalny aromat, stabilizatory: E445 i E444, substancja sbdzqca: glikozydy stewiolowe, barwniki: El 60a, El 60e, Suche skiadniki min. 6,5%, Produkt jest pastetyzowany. Troppie Orange, Laskedrik med appelsin smag, sademiddel og C?vitamin Ingredienser. vand, sukker, Ph appelsinjuice (fra koncentrat), syre: citronsyre, surhedsreguierende middel: natriumcitrat, antioxidant vitamin C, stabilisator. gummi arabicum, naturlig appelsin aroma med andre naturlige aromaer, stabilisatorer, E445 og E444, sodemiddel?. steviolglycosider, farge: El 60a, El 6E Torstofindho!d min. 6,5%, Produktet er pasteuriseret. ûroppie Orange. Soda con sapore di arancia, edutcorante e vitamina C ingredientl: acqua, zucchero, 1% succo d'arancia (di concentrato), regoiatore di acidità: acido citrico, correttore di acidità: citrati di sodio, naturalediarancia E445eE444 E160esGliingredientisecchi li prodottoèpastorizzata Best before: see packaging/ Ten minste houdbaar tot: zie verpakking/ A consommer de préférence avant voir l'emballage/ Mindestens haitbar bis : siehe Verpackunq/ Minimélni trvanlivost do.' viz obal/ Miniméina trvanlivost' do: vidobal/ Consumir preferentemente a...</td>\n",
       "    </tr>\n",
       "  </tbody>\n",
       "</table>\n",
       "</div>"
      ],
      "text/plain": [
       "                                                                                                                                                                                                                                                                                                                                                                                                                                                                                                                                                                                                                                                                                                                                                                                                                                                                                                                                                                                                                                                                                                                                                                                                                                                                                                                                                                                                                                                                                                                                                                                                                                                                                                                                                                                                                                                                                                                                                                                                                                                                                                                                                                                                                                                                                                                                                                                                                                                                                                                                                                                                                                                                                                                                                                                                                                                                                                                                                                                                                                                                                                                                                                                                                                                                                                                                                                                                                                                                                                                                                                                                                                                                                                                                                                                                                                                                                                                                                                                                                                                                                                                                                                                                                                                                                                                                                                                                                                                                                                                                                                                                                                                        ing\n",
       "146103                                                                                                                                                                                                                                                                                                                                                                                                                                                                                                                                                                                                                                                                                                                                                                                                                                                                                                                                                Beef enchilada in red sauce: beef enchilada; tortilla: corn flour (ground corn, trace of lime), water. filling: water, beef, flavorings including paprika, cracked wheat, modified food starch, textured vegetable protein (soy flour, caramel color), contains 2% or less of: soy protein concentrate, chili powder (chili pepper, salt, spices, garlic powder), dehydrated onion, salt, vinegar, dehydrated soy sauce (flavor [hydrolyzed soy protein, salt, corn syrup solids], yeast extract, salt, soybean oil). red sauce: water, shortening (refined, bleached beef tallow, soybean oil and/or cottonseed oil. bht added as antioxidant and dimethypolysiloxane added as antifoaming agent), bleached wheat flour enriched (niacin, reduced iron, thiamine mononitrate, riboflavin, folic acid), flavorings including paprika, contains 2% or less of: modified food starch, chili powder (chili pepper, salt, corn syrup solids], yeast extract, salt, soybean oil), vinegar, beef flavor base (salt, soy sauce [naturally fermented wheat & soybeans, salt, maltodextrin and caramel color], maltodextrin, yeast extract, dextrose, modified corn starch, caramel color [contains 51 ppm sulfites], dried onion, silicon dioxide, corn oil, natural flavor), salt. cheese enchilada in chili con queso: cheese enchilada: tortilla: corn flour (ground corn, trace of lime), water. filling: water, dehydrated cheese powder (corn syrup, american cheese [milk, culture, salt, enzymes], food starch modified, whey, partially hydrogenated oil [coconut and/or soybean], butter [milk-fat], nonfat milk, buttermilk, di-sodium phosphate, sodium caseinate, mono & di-glycerides, citric acid, sodium stearoyl lactylate, sodium citrate, di-potassium phosphate, salt, natural flavor, natural and artificial colors [annatto, paprika, fd&c yellow #5, fd&c yellow #6, beta carotene] and carrageenan), cheddar cheese (pasteurized milk, cheese culture, salt, enzymes and annatto), modified food starch, contains 2% or less of vinegar, dehydrated onion, queso gravy: water, cheese sauce (a dehydrated blend of food starch modified, maltodextrin, whey, cheese [granular & blue {pasteurized milk, cheese cultures, salt, enzymes}], partially hydrogenated soybean oil, salt, whey protein concentrate, lactose, contains 2% or less of sodium phosphate, citric acid, lactic acid, tumeric [color], yellow 6 lake), green chiles, bell peppers, tomatoes (tomatoes, citric acid), contains 2% or less of: modified food starch, dehydrated onion, soybean oil, vinegar, flavorings, dehydrated soy sauce (flavor [hydrolyzed soy protein, salt, corn syrup solids], yeast extract, soybean oil), jalapenos (jalapeno peppers, salt, acetic acid, water, calcium chloride), salt, chicken flavor base (salt, maltodextrin, dextrose, modified food starch, sugar, dehydrated onion, yeast extract, corn oil, natural and artificial flavors, citric acid), guar gum beans: water, beans, contains 2% or less of: shortening (refined, bleached beef tallow, soybean oil and/or cottonseed oil, bht added as antioxidant and dimethylpolysiloxane added as antifoaming agent), flavorings, vinegar, salt, yeast extract, modified food starch, chili powder (chili pepper, salt, spices, garlic powder). spanish rice: cooked rice {water, rice), tomato paste, bell peppers, contains 2% or less of: flavorings including paprika, vinegar, soybean oil, dehydrated onion, chicken flavor base (salt, maltodextrin, dextrose, modified food starch, sugar, dehydrated onion, yeast extract, corn oil, natural and artificial flavors, citric acid), salt, modified food starch.\n",
       "212065                                                                                                                                                                                                                                                                                                                                                                                                                                                                 5 Canapés avec préparation aux grillées et fromage frais sur pain de mie à la tomate 27.4% : aux (courgettes grillées 36%, huile de jus de citron à base de concentré, sel, ail, basilic). pain de mie à la tomate 31 % (farine de (farine de farine de et sort rna/té). eau. tomate 3.1 de toumesoL levure. sel. lactosérum en poudre, graisso de coprah. farine de fève, origan, lait écrémé en poudre, protéines de émulsifiants mono- basilic. anfroxydant : acide ascorbique). fromage blanc. fromage frais foisonné 7.5% [fromage [ail écrémé. çrèma. protéines deshydrat4 ferrnents lactiques persil, antioxydant : alpha-tocophérol, amidon modifié de tapioca, épaississants : farine de graines de caroube et gomme xanthane, protéines de sur (Pourc•ytages expnt77és sur le préparation aux grillées et fromage frais sur pain de mie à la tomate). 5 avec préparation au fromage de chèvre, tomates marinées et basilic sur pain de mie aux olives 25,2% : (GQüinUf_ChavjgQQ121 % , lait entier, eau, amidon modifié de maïs, jaune d 'muf, acidifiant : citrates de sodium, gélifiant : carraghénanes. érnulsfiant : esters lactiques des mono- d'acides gras, : sorbate de potassium), tomates marinées 27 % (tomates mi séchées. huile de colza, sel, origan, ail, jus de citron concentré), pain de mie aux olives 22% [farine de (farine farine de Olé malté), eau, olives noires 1.4% (olives noires, set, stabilisateur de couleur : gluconate ferreux), huile de tournesol, farine complète de levure, sel, sucre, de fève malt d'Q1ue torréfié, émulsifiants : mono- et d'acides gras et stéaroyl-2-lactylate de sodium, farine d'Œge torréfiée, farine de malté, antioxydant : acide ascorbiquel, blanc, basilic 2,501. , amidon modifié de tapiocz, épaississants : farine de graines de caroube et gomme xanthane, protéines de lait. (Pourœntages exprimés sur le préparation au fromage de chèvre, tomates marinées et basilic sur pain de mie aux olives). 5 min/ clubs sandwichs Jambon serrano, beurre et figue séchée sur pain de mie noir et pain brioché 24,3% : Jambon serran029% üambon de ,oorc, sel, a»nservateurs : nitrate de potassium et nitrite de sodium, antioxydant : ascorbate de sodium), eau, pain de mie noir 15% (farine de (farine de farine de PV malté), eau, huile de toumeso/, remoulage de blé, poudre de maigre sucre, farine de fève, gluten-de-hlé, sel, levure, malt d'usa torréfié, émulsifiants : mono- et diglycérides d'acides gras et Stéaroy/-2-/acty/ate de sodium, antioxydant : acide ascorbique], pain brioché 15% [farine de blé (farine de blé, gluten-de-hlé, farine de blé malté), eau, 1 sucre, levure, en poudre 0,3%, sal, en poudre, farine de fève, gluten-de.-u-é, graisse de coprah, émulsifiants : mono- et diglycérides d'acides gras et stéaroyl-2-lactylate de sodium, écrémé en poudre, protéines de antioxydant acide ascorbique\\, 11%, figue séchée 6,3% (figue séchée, farine de riz), préparation pour sauce béchame! en poudre (laçtqsérum, amidon modifié de pomme de terre, matière grasse de colza. écrémé en poudre, sel, farine de protéines de &j!, sirop de arômes naturels. (POurœntages exprimés sur le mini club sandwich jambon serrano, beurre et figue séchée sur pain de mie noir et pain brioché). 5 canapés saumon Imé, créme et anet sur pain polaire 23, 1 % : mmé30% (Sa/mosa/ar), sel], pain polaire 27 % (farine de blé, eau, farine de ejgle, sirop de sucre, sucre, glutenÂg_hlé, huile de colza, fibres de betterave, sel, farine de bihfermenté, levure, 70170-etdig/ycérides d'acide gras et esters monoac±tyltartriques et diacétyltartriques des mono- et diglycérides d'acides gras, poudre à lever : carbonate acide d'ammonium, fructose, agent de traitement de Va fari ide asmrbique), fraîche 20%, finage blanc, aneth 1,2%, amidon modifié de tapioca, épaississants : farine de graines de caroube et gomme xanthane, protéines de sel, jus de citron W',centré, poivre. wrcentages exprimés sur le xnapé saumon fumé, crème et aneth sur pain polaire). t mqtenir des traces de soja, fruits à coque, austacés, graines de sésame, céleri, moutarde.\n",
       "227417                                                                                                                                                                                                                                                                                                                                                                                                                                                                                                                                                                                                                                     ??? DECOUPE - A RELIRE ??? Allumette chorizo : pâte 61,8% [farine de blé - margarine (graisses végétales de palme et de colza - eau - sel - émulsifiant : mono- et diglycérides d'acides gras - correcteur d'acidité : acide citrique) - eau - sel - œuf entier en poudre] - eau - purée de tomate - chorizo 4,9% (viande de porc 4,4% - épices et plantes aromatiques (carvi - coriandre - paprika - piment doux - poivre - ail - origan) - sel - dextrose - émulsifiant : diphosphates - arômes naturels - conservateurs : acide ascorbique, nitrite de sodium) - jambon cuit choix 3,2% (jambon de porc 2,6% - eau - sel - arômes naturels - bouillon de légumes - ferments) - champignons émincés (champignons - antioxydant : sulfite acide de sodium) - emmental râpé - amidon transformé de pomme de terre - arômes naturels (contient du gluten) - sucre - sel - poivrons rouges - poivre noir.  Allumette poireau/saumon : pâte 61,8% [farine de blé - margarine (graisses végétales de palme et de colza - eau - sel - émulsifiant : mono- et diglycérides d'acides gras - correcteur d'acidité : acide citrique) - eau - sel - œuf entier en poudre] - eau - poireau 7,3% - préparation déshydratée [lactosérum - amidon transformé de pomme de terre - matière grasse végétale de colza - amidon de blé - lait écrémé en poudre - sirop de glucose - épaississant : alginate de sodium - protéines de lait - arômes naturels - épices (poivre - muscade)] - saumon (Salmo salar) 2,6% - saumon fumé (Sa/mo sa/ar) 2,6% - chapelure (farine de blé - eau - sel - levure) - lait entier en poudre - sel - poivre noir - estragon, Carré feuilleté au chèvre : pâte 55,8% [farine de blé - margarine (graisses végétales de palme et de colza - eau - sel - émulsifiant : mono- et diglycérides d'acides gras - correcteur d'acidité : acide citrique) - eau - sel - œuf entier en poudre] - fromage de chèvre 21% - eau - préparation déshydratée (lactosérum - amidon transformé de pomme de terre - matière grasse végétale de colza - amidon de blé - lait écrémé en poudre - sirop de glucose - épaississant : alginate de sodium - protéines de lait - arômes naturels - épices (poivre - muscade)] - graines de pavot 3,5% - arôme naturel (contient lait) - sel.  Mini panier tapenade : pâte 57% [farine de blé - margarine (graisses végétales de palme et de colza - eau - sel - émulsifiant : mono- et diglycérides d'acides gras - correcteur d'acidité : acide citrique) - eau - sel - œuf entier en poudre] - olives noires 22,5% (olives noires - eau - sel - stabilisant : gluconate ferreux) - eau - préparation déshydratée [lactosérum - amidon transformé de pomme de terre - matière grasse végétale de colza - amidon de blé - lait écrémé en poudre - sirop de glucose - épaississant : alginate de sodium - protéines de lait - arômes naturels - épices (poivre - muscade)] - câpres fines au vinaigre 3% (câpres - eau - vinaigre - sel) - huile d'olive extra vierge 1,8% - anchois salés à l'huile 1,5% (anchois salés - huile de tournesol) - graines de sésame 0,7% - thym.  Roulé basilic/tomate : pâte 55,8% [farine de blé - margarine (graisses végétales de palme et de colza - eau - sel - émulsifiant : mono- et diglycérides d'acides gras - correcteur d'acidité : acide citrique) - eau - sel - œuf entier en poudre] - eau - préparation à base de basilic 8,4% (huile de tournesol - basilic 2,8% - fromage - sel - concentré de citron - ail) - préparation déshydratée (lactosérum - amidon transformé de pomme de terre - matière grasse végétale de colza - amidon de blé - lait écrémé en poudre - sirop de glucose - épaississant : alginate de sodium - protéines de lait - arômes naturels - épices (poivre - muscade)) - poudre de tomate 4,1% - oignons - ail - chapelure (farine de blé - eau - sel - levure) - blanc d'œuf - arôme naturel - sel.  Traces d'anhydrides sulfureux, céleri, crustacés, fruits à coque, mollusques, moutarde, soja.\n",
       "300416                                                                                                                                                                                                                                                                                                                                                                                                                                                                                          Cregn Tea Extract I Extrait dg thé vort I Crùnteeextrakt / Extracto dg Té Verdg / Estratto di tè vardg / Vihreâteguutg intake of an average adult I Apport de référence pour un adulte -type. / Referenzzufuhr gines durctbchnittlichen En ad un adulto I AihJlsen kesYimâârâinen viitteelfinen pâivâsaanti, / Peferencb bwitel étlag feln6tt széméra - (8400 kJ (71%) (Milk), d' Malto, Acetil L Cantina, (Sucrafosio) V;tarmna CIA Concentratel Ground Oats, Who'e Psyllium Husks, Flaxseed Powder, L Glutamtne, Acetyl L Carnitire Flavounng,MaIt inclus i cerealiche corteng Extract Sweetener (Sucralose) ALLERGENS Fcr altergens, including cerga!s conta:nng gluten Le vcteine favorscono la c see Ingredlents In bold SUGGESTED USE Protein contributes to the growth B mantervnce unefici da questo vodotto of muscle mass so to reap tre of this product we recommend addirg 2 large acqua o latte in unc shaker (60g) to 250-350ml of water or milk in a Myprotein shaker 30 mtnutes before and/or after your co,3umare durante il giorno workout Alternatve{yconsume Intake IMPORTANT IMPORTANTI Conservareinu INFORMATION Store in a cool, dry p!ace away from direct sunlight. This product is intended prodcttc per chi ha I tobeusedatongsdeanactIvellfestyieandabalanceddiet,N0tsuitableforvegetanansn adattca vegetariarv mAlN INGRÉDIENTS Mélange de Protéine (71%) de protéine de Whey(Laitl Concentréde Mdtoprotelinkonsertraattil ProténedeLaitlAvdneMoulue, Enveloppes de Entières, Lin en poudre, Aromat!santL asetyyIl-L-karnttitni vi , Extrait de (SoiJdStiinJ)Arorni, Mallasu ÉduboranttSucraloselV{tamine C(AcideAscorbique) ALLERGÈNES ycomprts kutengfutenastsâ:tévàt vilji les céréales contenant du gluten, vor ingrédients en gras DOSAGE SUGGÉRÉ Les protéines ed,stâé lihsmassan kasvuaJG contribuent à la croissance et au rnaintien de la masse rrusa±ire domafin de tirer parti au lsààrnéân 2 suurta mtafj;sta mieux de ce produit nous recommandons d'ajouter 2 grandes mesures(60g) à 250-350mi deau mtnuutta enrentreerejâja/ti ou d lait dans un shaker Myprotein 30 minutes avant et/ou après votre séance d'entraînement lisétàksesi pàMtté:sté Comme alternat;ve. consommer à tout mom ent de la Journée pour augmenter votre apport kutvassa pakassa, pags.sa sucr quotidien en protéines INFORMATIONS IMPORTANTES A conserver dans un endroit frais et sec, à (abri de la lumière directe du soleil. Ce produit est destiné à être utilisé en complément dun akti:vsan dâmértava mode deveactfetd'unealimentationéquilibrée Non approprié aux végétariers ZUTATEN C-VItamn[Aszkar Hafer, ganze Ftchsamenschalerl Leinsamen Pulver, Aroma L Glutamiru Matz Extrakt, Acetyl L Canitn Grunteeextrakt Emulgator Leclthin) Sufungsmttel (Sucralosel Vitamin C (Sakraldz) ALLER. aufgefuhdVORGESEHENEVERWENDlJNG proteintrâgtzumWachstumEErhattderMuskelmase 2 [60 g) in 250-350mi vollmilch zu geben umdIetàgllcheProtejnaufnahmezuerhdhenwŒHTlGElNF0RMAT10NEN Kùhtund trockenund Ernàhrung Für EINGREOIENTES de (71%) [Concentrado de de suero (Lechel Concentrado de de Lechel Copos de Avena Molida Céscaras de Psilic Enteras, Linaza en Pclvo, de Matta, Acetil L cantina , Extracto de Té verde, sqa). C (Acido Ascérbico) ALÊRGENOS Para tnckldcs!os cereaìes can gluten consuftar IOS ingredientes en negrita INSTRUCC! ios beneficios de este producto, recorrerdarnos afiadir 2 (60 g) W717020775 ONESOEUSO a 350ml de agua o teche entera erl un agitador Myprdtein 30 mtnutos antes O dspués de BATCH CODE tu entrenamiento Alternativamente, consumir en cualquiar momenta dei dia para incramertar tu ingesta de IMPORTANTES conservar en un lugar fresco seco y 18 a!ejado de la directa Este producto esté destinad0 para usarse con un estilo de vida BEST BEFORE ENJ/À CONSOMMER act Y una equilibrada No apto paravegetartancs INGREDIENTI Proteca [7193} [Prctejne dei Siero di Latu Concentrate. Prcteine de' Latu PREFERENTEYENTE ANTES DEL FIN DE PREFERBN-MENTEENTROFINE/PARASI Intere di Fibra di Psillio, semi dl L,no in Po!vere. L Glutammina Concentratei Avena Mactnata MINOSÉGËT\n",
       "350096  water, sugar, I % orange juice (from concentrate), nutritive acid: citric acid, acidity regulator: sodium citrates, antioxida vltam\\n Ci stabillzer: gum Arabic, natural orange flavour With Other natural fiavours, stabilizers: E445 and E444, sweetener, Steviol glycosides, colourants: El 60a, El 60e. Dry ingredients min. 65%, Product has been pasteurized. ?Troppie Orange. Frisdrank met sinaasappel smaak, zoetstof en vitamine C antioxidant: vitamine C/ stabilisator: arabische gom, natuurlijk sinaasappel aroma met andere natuurlijke aromals, stabilisatoren: {445 en E444/ zoetstof: steviolglycosiden, kleurstoffen: El 60a/ El 60e. Droge ingrediënten min, 63%. Product is gepasteuriseerd Troppie Orange, Boisson rafraîchissante au goût d'orange, avec édulcorant et vitamine C Ingrédients: eau, sucre, 1% jus d'orange (à base de jus concentré), acidifiant: acide citrique, régulateur d'acidité.' citrates de sodium, antioxydant', vitamine Ç stabilisant: omme arabique, arôme naturel diorange avec d'autres arômes naturels, stabilisants.' E445 et E44 édulcorant. glycosides de stéviol, co orants: El 60a, El 60e. Ingrédients secs 6,5% au minimum, Le produit a été pasteurisé ?Troppie Orange. Erfrischungsgetrânk mit Orangengeschmack, Sülstoff und Vitamin C Zutaten:Wasser, Zucker, I % Organgensaft (aus Konzentrat)/ Siurungsmittel: Zitronensâure, Sâureregulator: Natriumcitrate, Antioxidationsmittel:Vitamin C, Stabilisator: Gummi arabicum, natürliches Orangenaroma mit anderen natürlichen Aromen, Stabilisatoren: E445 und E444, Süllstoff: Steviolglycoside, Farbstoffen: El 60a, El 60e,Trockenzutaten min, 6,5%. Pasteurisiertes Produkt, ?ITroppie Orange. Nealkoholickj népoj s pomeranëovou piichuti, sladidlem a vitaminem C Sloieni: voda, cukrt 1% pomeranëovj dius (z koncentrétu)f kyseliny: kyselina citronové/ regulétor kyselosti: citréty sodné, antioxidantyr vitamin Ç stabilizétor: arabskâ guma, piirodni pomeranëovâ aroma s dalSimi piirodnimi ochucovadly, stabilizétory: E445 a E444, sladidlo: steviol glykosidy, barvivo: El 60a, El 60e, Suché piisady min, 6/5%. Produkt je pasterizovany, Troppie Orange, Nealkoholickj népoj s pomaranëovou prichut'ou, sladidlom a vitaminom C Zloienie: vodat Cukor, I % pomarantovj diüs (z koncentrétu), kyseliny: kyselina citrénovâ, regulétor kyslosti: citréty sodne, antioxidantY} vitamin C, stabilizâtor. arabskâ guma, prirodné pomaran&vé aréma s dalSimi prirodnymi ochucovadlami, stabilizétoryeE445@.E34. suidlo: steviol glykozidy, farbivo: El 60at El 60e, Suché prisady min. 6,5%, Produkt je pasterizovany. tzaTroppie Orange. Refresco con sabor naranja, edulcorante y vitamina C Ingredientes: agua, azücar, jugo de naranja I % (de concentrado), acidulante: écido citrico, regulador de acidez citratos de sodiq antioxidante: vitamina C, estabilizanle: goma {rabe, sabor de naranja natural con otros sabores naturales, estabilizantes: E445 y E444 edulcorante: gluc6sidos de esteviol, colorantes: El 60at El 60e, Ingredientes secos minimo de 6/5%. Producto pasteurizado. I QTroppie0range.Nap6jbezalkoholowyosmakupomarafiaowym,stodzikiwitaminqC Sklad: woda, cukier, sok pomaraficzowy 1 % (z koncentratu), kwas: kwas cytrynowy, regulator kwasowoSci: cytrynjan sodu, przeciwutleniacze: witaminì C, stabilizator: arabska guma , naturalny aromat pomaraficzowy z drugiej naturalny aromat, stabilizatory: E445 i E444, substancja sbdzqca: glikozydy stewiolowe, barwniki: El 60a, El 60e, Suche skiadniki min. 6,5%, Produkt jest pastetyzowany. Troppie Orange, Laskedrik med appelsin smag, sademiddel og C?vitamin Ingredienser. vand, sukker, Ph appelsinjuice (fra koncentrat), syre: citronsyre, surhedsreguierende middel: natriumcitrat, antioxidant vitamin C, stabilisator. gummi arabicum, naturlig appelsin aroma med andre naturlige aromaer, stabilisatorer, E445 og E444, sodemiddel?. steviolglycosider, farge: El 60a, El 6E Torstofindho!d min. 6,5%, Produktet er pasteuriseret. ûroppie Orange. Soda con sapore di arancia, edutcorante e vitamina C ingredientl: acqua, zucchero, 1% succo d'arancia (di concentrato), regoiatore di acidità: acido citrico, correttore di acidità: citrati di sodio, naturalediarancia E445eE444 E160esGliingredientisecchi li prodottoèpastorizzata Best before: see packaging/ Ten minste houdbaar tot: zie verpakking/ A consommer de préférence avant voir l'emballage/ Mindestens haitbar bis : siehe Verpackunq/ Minimélni trvanlivost do.' viz obal/ Miniméina trvanlivost' do: vidobal/ Consumir preferentemente a..."
      ]
     },
     "execution_count": 70,
     "metadata": {},
     "output_type": "execute_result"
    }
   ],
   "source": [
    "pd.options.display.max_colwidth\n",
    "pd.options.display.max_colwidth = 4468\n",
    "df[df.ing.str.len() > 3500]"
   ]
  },
  {
   "cell_type": "markdown",
   "metadata": {},
   "source": [
    "(Note we find how to increase column width here: https://stackoverflow.com/questions/29902714/print-very-long-string-completely-in-pandas-dataframe)"
   ]
  },
  {
   "cell_type": "markdown",
   "metadata": {},
   "source": [
    "We notice these strings are long because they consist of several foods (e.g., ready-made meals as in index 146103), because they list ingredients in several languages (e.g., index 300416), or because they contain other information than ingredients *per se*, such as recommendations, instructions, allergens etc. We do not need these pieces of information to find the 5 most common ingredients, and so we will discard them, using again the z-score method:"
   ]
  },
  {
   "cell_type": "code",
   "execution_count": 71,
   "metadata": {},
   "outputs": [
    {
     "data": {
      "text/plain": [
       "5457"
      ]
     },
     "execution_count": 71,
     "metadata": {},
     "output_type": "execute_result"
    }
   ],
   "source": [
    "zs = (np.abs(df.ing.str.len() - df.ing.str.len().mean())) > 3 * df.ing.str.len().std()\n",
    "zs.sum()"
   ]
  },
  {
   "cell_type": "code",
   "execution_count": 72,
   "metadata": {},
   "outputs": [
    {
     "data": {
      "text/plain": [
       "(278436, 1)"
      ]
     },
     "execution_count": 72,
     "metadata": {},
     "output_type": "execute_result"
    }
   ],
   "source": [
    "df = df[~zs]\n",
    "df.shape"
   ]
  },
  {
   "cell_type": "markdown",
   "metadata": {},
   "source": [
    "We have lost 5,457 rows, but this represents less than 2% of all our data, and should hopefully not biase the results. Before we proceed, I also wanted to show you this:"
   ]
  },
  {
   "cell_type": "code",
   "execution_count": 73,
   "metadata": {},
   "outputs": [
    {
     "data": {
      "image/png": "[encoded data removed]",
      "text/plain": [
       "<Figure size 1296x720 with 1 Axes>"
      ]
     },
     "metadata": {},
     "output_type": "display_data"
    }
   ],
   "source": [
    "df.ing.str.len().plot.hist(bins=100)\n",
    "plt.show()"
   ]
  },
  {
   "cell_type": "markdown",
   "metadata": {},
   "source": [
    "There is a peak at 250 characters, which is odd. Perhaps the field ingredients_text used to be limited in size (i.e. users could not enter more than 250 characters in the past, but are now allowed to, or the other way around)? We won't investigate this further, however."
   ]
  },
  {
   "cell_type": "markdown",
   "metadata": {},
   "source": [
    "OK. We will now use a function to clean the ingredients. Note that in practice, we do not write such a function in one go, but gradually elaborate it it after checking the results. The general rule is to proceed from the general to the particular, i.e. first make changes that will affect many strings (such as case, digits), followed by more and more specific changes such as spelling and translations."
   ]
  },
  {
   "cell_type": "code",
   "execution_count": 74,
   "metadata": {},
   "outputs": [],
   "source": [
    "def clean(s):\n",
    "    s=s.str.lower() #put all letters in lowercase\n",
    "    s=s.str.replace('[\\d]', '') #remove all digits\n",
    "    s=s.str.replace('[\\W_]+', ' ') #remove all non alphanumeric chars except spaces, see https://stackoverflow.com/questions/1276764/stripping-everything-but-alphanumeric-chars-from-a-string-in-python\n",
    "    s=s.str.replace(r'\\b[\\w]\\b', '') #remove all single letters\n",
    "    s=s.str.replace(r'\\bof\\b', '') #remove words such as 'of, 'the','and', and their french equivalents; note we remove whole words only\n",
    "    s=s.str.replace(r'\\bthe\\b', '')\n",
    "    s=s.str.replace(r'\\ban\\b', '')\n",
    "    s=s.str.replace(r'\\band\\b', '')\n",
    "    s=s.str.replace(r'\\bde\\b', '')\n",
    "    s=s.str.replace(r'\\ble\\b', '')\n",
    "    s=s.str.replace(r'\\bla\\b', '')\n",
    "    s=s.str.replace(r'\\bdes\\b', '')\n",
    "    s=s.str.replace(r'\\bles\\b', '')\n",
    "    s=s.str.replace(r'\\bor\\b', '')\n",
    "    s=s.str.replace(r'\\bmay\\b', '')\n",
    "    s=s.str.replace(r'\\bun\\b', '')\n",
    "    s=s.str.replace(r'\\bune\\b', '')\n",
    "    s=s.str.replace(r'\\bune\\b', '')\n",
    "    s=s.str.replace(r'\\borg\\b', '')\n",
    "    s=s.str.replace(r'\\bfrom\\b', '')\n",
    "    s=s.str.replace(r'\\bet\\b', '')\n",
    "    s=s.str.replace('eau', 'water') #translate most important words from french to english\n",
    "    s=s.str.replace('sel', 'salt')\n",
    "    s=s.str.replace('poivre', 'pepper')\n",
    "    s=s.str.replace('sucre', 'sugar')\n",
    "    s=s.str.replace('huile', 'oil')\n",
    "    s=s.str.replace('vinaigre', 'vinegar')\n",
    "    s=s.str.replace('moutarde', 'mustard')\n",
    "    s=s.str.replace('noisette', 'nut')\n",
    "    s=s.str.replace('additif', 'additive')\n",
    "    s=s.str.replace('légume', 'vegetable')\n",
    "    s=s.str.replace('graine', 'seed')\n",
    "    s=s.str.replace('cacao', 'cocoa')\n",
    "    s=s.str.replace('jus', 'juice')\n",
    "    s=s.str.replace('beurre', 'butter')\n",
    "    s=s.str.replace('oeuf', 'egg')\n",
    "    s=s.str.replace(r'\\bfarine\\b', 'flour')\n",
    "    s=s.str.replace(r'\\bblé\\b', 'wheat')\n",
    "    s=s.str.replace('levure', 'yeast')\n",
    "    s=s.str.replace('viande', 'meat')\n",
    "    s=s.str.replace('thé', 'tea')\n",
    "    s=s.str.replace('lait', 'milk')\n",
    "    s=s.str.replace('maïs', 'corn')\n",
    "    s=s.str.replace('farines', 'flour')\n",
    "    s=s.str.replace('acide', 'acid')\n",
    "    s=s.str.replace(r'\\bchocolat\\b', 'chocolate')\n",
    "    s=s.str.replace('oils', 'oil') #make last changes based on output in cell 77\n",
    "    s=s.str.replace('salts', 'salt')\n",
    "    s=s.str.replace('sugars', 'sugar')\n",
    "    s=s.str.replace('waters', 'water')\n",
    "    s=s.str.replace('acids', 'acid')\n",
    "    s=s.str.replace('milks', 'milk')\n",
    "    s=s.str.replace('flours', 'flour')\n",
    "    s=s.str.replace('blés', 'wheat')\n",
    "    s=s.str.replace('organic', '')\n",
    "    s=s.str.replace('natural', '')\n",
    "    s=s.str.replace('natural', '')\n",
    "    s=s.str.replace('flavors', 'flavor')\n",
    "    s=s.str.replace('öle', 'oil')\n",
    "    s=s.str.replace('wasser', 'water')\n",
    "    return s"
   ]
  },
  {
   "cell_type": "code",
   "execution_count": 75,
   "metadata": {},
   "outputs": [],
   "source": [
    "result = clean(df.ing) #create variable with results\n",
    "df.ing = result #assign result to df"
   ]
  },
  {
   "cell_type": "markdown",
   "metadata": {},
   "source": [
    "We can now split all strings into separate words:"
   ]
  },
  {
   "cell_type": "code",
   "execution_count": 76,
   "metadata": {},
   "outputs": [],
   "source": [
    "splitted = df.ing.str.split(' ', expand=True)"
   ]
  },
  {
   "cell_type": "markdown",
   "metadata": {},
   "source": [
    "And now, to group and count each ingredient, we need the data in long format. Let's pivot it then:"
   ]
  },
  {
   "cell_type": "code",
   "execution_count": 77,
   "metadata": {},
   "outputs": [],
   "source": [
    "pivot = splitted.melt(var_name='count', value_name='ingredient') #pivot data\n",
    "counts = pivot.groupby('ingredient').count().sort_values(by='count', ascending=False) #group by ingredient, count, sort in descending order"
   ]
  },
  {
   "cell_type": "markdown",
   "metadata": {},
   "source": [
    "Let's now have a look a the 20 most cited ingredients:"
   ]
  },
  {
   "cell_type": "code",
   "execution_count": 78,
   "metadata": {},
   "outputs": [
    {
     "data": {
      "text/html": [
       "<div>\n",
       "<style scoped>\n",
       "    .dataframe tbody tr th:only-of-type {\n",
       "        vertical-align: middle;\n",
       "    }\n",
       "\n",
       "    .dataframe tbody tr th {\n",
       "        vertical-align: top;\n",
       "    }\n",
       "\n",
       "    .dataframe thead th {\n",
       "        text-align: right;\n",
       "    }\n",
       "</style>\n",
       "<table border=\"1\" class=\"dataframe\">\n",
       "  <thead>\n",
       "    <tr style=\"text-align: right;\">\n",
       "      <th></th>\n",
       "      <th>count</th>\n",
       "    </tr>\n",
       "    <tr>\n",
       "      <th>ingredient</th>\n",
       "      <th></th>\n",
       "    </tr>\n",
       "  </thead>\n",
       "  <tbody>\n",
       "    <tr>\n",
       "      <th></th>\n",
       "      <td>1203438</td>\n",
       "    </tr>\n",
       "    <tr>\n",
       "      <th>salt</th>\n",
       "      <td>187651</td>\n",
       "    </tr>\n",
       "    <tr>\n",
       "      <th>sugar</th>\n",
       "      <td>156288</td>\n",
       "    </tr>\n",
       "    <tr>\n",
       "      <th>water</th>\n",
       "      <td>129319</td>\n",
       "    </tr>\n",
       "    <tr>\n",
       "      <th>oil</th>\n",
       "      <td>128872</td>\n",
       "    </tr>\n",
       "    <tr>\n",
       "      <th>acid</th>\n",
       "      <td>117812</td>\n",
       "    </tr>\n",
       "    <tr>\n",
       "      <th>milk</th>\n",
       "      <td>110827</td>\n",
       "    </tr>\n",
       "    <tr>\n",
       "      <th>flour</th>\n",
       "      <td>106195</td>\n",
       "    </tr>\n",
       "    <tr>\n",
       "      <th>wheat</th>\n",
       "      <td>88507</td>\n",
       "    </tr>\n",
       "    <tr>\n",
       "      <th>corn</th>\n",
       "      <td>78984</td>\n",
       "    </tr>\n",
       "    <tr>\n",
       "      <th>sodium</th>\n",
       "      <td>65426</td>\n",
       "    </tr>\n",
       "    <tr>\n",
       "      <th>flavor</th>\n",
       "      <td>65167</td>\n",
       "    </tr>\n",
       "    <tr>\n",
       "      <th>juice</th>\n",
       "      <td>48795</td>\n",
       "    </tr>\n",
       "    <tr>\n",
       "      <th>syrup</th>\n",
       "      <td>47078</td>\n",
       "    </tr>\n",
       "    <tr>\n",
       "      <th>cocoa</th>\n",
       "      <td>46166</td>\n",
       "    </tr>\n",
       "    <tr>\n",
       "      <th>powder</th>\n",
       "      <td>38372</td>\n",
       "    </tr>\n",
       "    <tr>\n",
       "      <th>butter</th>\n",
       "      <td>37291</td>\n",
       "    </tr>\n",
       "    <tr>\n",
       "      <th>citric</th>\n",
       "      <td>36651</td>\n",
       "    </tr>\n",
       "    <tr>\n",
       "      <th>starch</th>\n",
       "      <td>34768</td>\n",
       "    </tr>\n",
       "    <tr>\n",
       "      <th>gum</th>\n",
       "      <td>32575</td>\n",
       "    </tr>\n",
       "  </tbody>\n",
       "</table>\n",
       "</div>"
      ],
      "text/plain": [
       "              count\n",
       "ingredient         \n",
       "            1203438\n",
       "salt         187651\n",
       "sugar        156288\n",
       "water        129319\n",
       "oil          128872\n",
       "acid         117812\n",
       "milk         110827\n",
       "flour        106195\n",
       "wheat         88507\n",
       "corn          78984\n",
       "sodium        65426\n",
       "flavor        65167\n",
       "juice         48795\n",
       "syrup         47078\n",
       "cocoa         46166\n",
       "powder        38372\n",
       "butter        37291\n",
       "citric        36651\n",
       "starch        34768\n",
       "gum           32575"
      ]
     },
     "execution_count": 78,
     "metadata": {},
     "output_type": "execute_result"
    }
   ],
   "source": [
    "counts.head(20)"
   ]
  },
  {
   "cell_type": "markdown",
   "metadata": {},
   "source": [
    "It therefore seems that salt, sugar, water, oil, and acid are the 5 most cited ingredients. Of course, we might continue cleaning the data, but it is unlikely that the top 5 will change. To give an example, consider flavors, which we have only partly cleaned above, and is currently ranked 11th. If we count all occurences of the other spellings of flavors as well as their respective translations:"
   ]
  },
  {
   "cell_type": "code",
   "execution_count": 79,
   "metadata": {},
   "outputs": [
    {
     "data": {
      "text/plain": [
       "count    110608\n",
       "dtype: int64"
      ]
     },
     "execution_count": 79,
     "metadata": {},
     "output_type": "execute_result"
    }
   ],
   "source": [
    "more_flavors = counts.loc[['flavour', 'flavours', 'arôme', 'arômes', 'arome', 'aromes', 'aroma', 'arome', 'aromen', 'arom', 'saveur', 'saveurs'], :].sum() #sum other instances\n",
    "counts.loc['flavor'] + more_flavors #add to existing category flavor"
   ]
  },
  {
   "cell_type": "markdown",
   "metadata": {},
   "source": [
    "We have a total of 110,608. This is a large number, however it is still less than milk (110,827), which is 6th in the current ranking. A similar example are soy products, which have a total of nearly 80,000--but this is still 37,000 less than the last entry of the top five, acid. Also note that in theory, the more we clean entries that are far from the top five, the less likely it is that the top five will change. For example, consider starch, which is 19th in the current ranking:"
   ]
  },
  {
   "cell_type": "code",
   "execution_count": 80,
   "metadata": {},
   "outputs": [
    {
     "data": {
      "text/plain": [
       "count    52093\n",
       "dtype: int64"
      ]
     },
     "execution_count": 80,
     "metadata": {},
     "output_type": "execute_result"
    }
   ],
   "source": [
    "more_starch = counts.loc[['amidon', 'amidons'], :].sum() #add french equivalent of starch\n",
    "counts.loc['starch'] + more_starch #add to existing category"
   ]
  },
  {
   "cell_type": "markdown",
   "metadata": {},
   "source": [
    "We have roughly 17,000 instances more, however, the total of 52,093 is far from the top five. So unless we made a gross mistake somewhere, we can be reasonably confident that the entries of our top five (if not their order) will likely not change if we do more cleaning.\n",
    "\n",
    "All that being said, our results must be interpreted with caution. First, the top five does not necessarily means that these 5 ingredients are the most used in all foods, or in that order. Again, the data only contains foods entered by users (and arguably, foods they like), and is not a random sample of all foods. Likewise, the foods analysed are mainly western foods (except, perhaps, soy products) . If the sample was culturally more diverse, it is likely that milk, for example, would not appear so high in the ranking. Furthermore, we lack a clear definition or conceptual framework of what is a food, nutrient, ingredient, etc. When we speak of sugar, for example, do we speak of 'common' sugar, or glucose, or fructose? Also, could we consider that salt and sodium, although different, should be counted in the same category from a health point of view? Then, how much do we need to split ingredients? Oil is 3rd in the current ranking, but this includes all oils. If oil was splitted by kinds, it might no longer be in the top five. Acid, as well, might be a too general category (note that I explored this a bit, and found that the most frequently mentioned was citric acid). There are other limitations, including translations (for example, if the german word 'wasser' had not been translated to english, 'water' would be behind oil in the top five), whether or not 'salted' or 'sugared' are counted as 'salt' and 'sugar', and the fact that some ingredients are cited several times in the same string."
   ]
  },
  {
   "cell_type": "markdown",
   "metadata": {},
   "source": [
    "## D. Time-series analysis"
   ]
  },
  {
   "cell_type": "markdown",
   "metadata": {},
   "source": [
    "Let's now have a look at date/time fields. Let's first import them, using the full dataset minus some empty rows:"
   ]
  },
  {
   "cell_type": "code",
   "execution_count": 81,
   "metadata": {},
   "outputs": [
    {
     "name": "stdout",
     "output_type": "stream",
     "text": [
      "(338505, 2)\n",
      "created     object\n",
      "modified    object\n",
      "dtype: object\n"
     ]
    }
   ],
   "source": [
    "df = pd.read_csv(\"en.openfoodfacts.org.products.tsv\", sep=\"\\t\", usecols=['created_datetime', 'last_modified_datetime', 'product_name'], low_memory=False)\n",
    "df = df.dropna() #drop empty rows. Note I imported product_name to use it as a criterion. Indeed I assume that products that don't even have a product name (roughly 5% of all data as shown in first section) should not be used in analyses\n",
    "df.rename(columns={'created_datetime':'created', 'last_modified_datetime':'modified'}, inplace=True)\n",
    "df = df[['created', 'modified']]\n",
    "print(df.shape)\n",
    "print(df.dtypes)"
   ]
  },
  {
   "cell_type": "markdown",
   "metadata": {},
   "source": [
    "We see that dates are currently stored as strings. So the first thing we'll do is to convert them to a proper date format, which will start with a bit of cleaning:"
   ]
  },
  {
   "cell_type": "code",
   "execution_count": 82,
   "metadata": {},
   "outputs": [
    {
     "data": {
      "text/plain": [
       "(338505, 2)"
      ]
     },
     "execution_count": 82,
     "metadata": {},
     "output_type": "execute_result"
    }
   ],
   "source": [
    "#clean dates\n",
    "def clean(s):\n",
    "    s=s.str.replace('T', ' ') #remove capital T and replace with space\n",
    "    s=s.str.replace('Z', '') #remove capital Z and replace with nothing\n",
    "    s=s.str.replace('[a-zA-Z]', '') #remove all other letters\n",
    "    s=s.str.replace(',', '') #remove commas\n",
    "    s=s.str.replace('.', '') #remove points\n",
    "    s=s.str.replace('[\\s]+', ' ') #I thought this would replace blanks by one blank, but I cannot make it work, see comment in next markdown cell\n",
    "    s=s.str.replace('\\  ', '')\n",
    "    return s\n",
    "\n",
    "#store cleaned date and put them back in df\n",
    "created=clean(df.created) \n",
    "modified=clean(df.modified)\n",
    "df.created = created\n",
    "df.modified = modified\n",
    "df.shape"
   ]
  },
  {
   "cell_type": "markdown",
   "metadata": {},
   "source": [
    "Note it is not easy to convert blanks by one blank, and also, to remove unwanted ':' and '-' in 17 rows without removing those that are needed. We can use another approach, which is to index all rows whose string length is different than 19 (that is the length of a correct date in this case), and remove them from the dataset:"
   ]
  },
  {
   "cell_type": "code",
   "execution_count": 83,
   "metadata": {},
   "outputs": [
    {
     "data": {
      "text/plain": [
       "338488"
      ]
     },
     "execution_count": 83,
     "metadata": {},
     "output_type": "execute_result"
    }
   ],
   "source": [
    "errors = df['created'].str.len() != 19 #spot error rows\n",
    "df = df[~errors] #discard them from df and save\n",
    "df.shape[0]"
   ]
  },
  {
   "cell_type": "markdown",
   "metadata": {},
   "source": [
    "We see the 17 problematic rows have been removed. This is not an ideal solution, but I we need to move on!"
   ]
  },
  {
   "cell_type": "markdown",
   "metadata": {},
   "source": [
    "We can now convert the strings to actual dates:"
   ]
  },
  {
   "cell_type": "code",
   "execution_count": 84,
   "metadata": {},
   "outputs": [
    {
     "data": {
      "text/plain": [
       "created     datetime64[ns]\n",
       "modified    datetime64[ns]\n",
       "dtype: object"
      ]
     },
     "execution_count": 84,
     "metadata": {},
     "output_type": "execute_result"
    }
   ],
   "source": [
    "df.created = pd.to_datetime(df.created, format = '%Y-%m-%d %H:%M:%S.', infer_datetime_format=True)\n",
    "df.modified = pd.to_datetime(df.modified, format = '%Y-%m-%d %H:%M:%S.', infer_datetime_format=True)\n",
    "df.dtypes"
   ]
  },
  {
   "cell_type": "markdown",
   "metadata": {},
   "source": [
    "The database contains 2 important fields on dates, that is, created datetime and modified datetime. The first thing we can do is compute the mean time difference between these 2 fields."
   ]
  },
  {
   "cell_type": "code",
   "execution_count": 85,
   "metadata": {},
   "outputs": [
    {
     "data": {
      "text/plain": [
       "Timedelta('111 days 05:41:07.894173500')"
      ]
     },
     "execution_count": 85,
     "metadata": {},
     "output_type": "execute_result"
    }
   ],
   "source": [
    "diff = (df.modified - df.created)\n",
    "diff.mean()"
   ]
  },
  {
   "cell_type": "markdown",
   "metadata": {},
   "source": [
    "The average is 111 days. Let's have a closer look at the differences:"
   ]
  },
  {
   "cell_type": "code",
   "execution_count": 86,
   "metadata": {},
   "outputs": [
    {
     "data": {
      "text/plain": [
       "count                         338488\n",
       "mean     111 days 05:41:07.894173500\n",
       "std      288 days 08:12:34.695903900\n",
       "min                  0 days 00:00:00\n",
       "25%                  0 days 00:00:00\n",
       "50%                  0 days 00:00:01\n",
       "75%           8 days 19:23:19.750000\n",
       "max               2033 days 13:40:59\n",
       "dtype: object"
      ]
     },
     "execution_count": 86,
     "metadata": {},
     "output_type": "execute_result"
    }
   ],
   "source": [
    "diff.describe()"
   ]
  },
  {
   "cell_type": "markdown",
   "metadata": {},
   "source": [
    "We see most of the data were nearly not modified at all. As the for maximum difference of 2033 days, it is large, and almost corresponds to the full timeline of the data for this project, which was 2056 days:"
   ]
  },
  {
   "cell_type": "code",
   "execution_count": 87,
   "metadata": {},
   "outputs": [
    {
     "data": {
      "text/plain": [
       "Timedelta('2056 days 10:51:47')"
      ]
     },
     "execution_count": 87,
     "metadata": {},
     "output_type": "execute_result"
    }
   ],
   "source": [
    "df.modified.max() - df.created.min()"
   ]
  },
  {
   "cell_type": "markdown",
   "metadata": {},
   "source": [
    "We could now compute the total number of items created each month over the full timeline of the data. For this, we will group items by month. And since we will use the only column 'created', we start by defining a new df:"
   ]
  },
  {
   "cell_type": "code",
   "execution_count": 88,
   "metadata": {},
   "outputs": [],
   "source": [
    "df = df['created']"
   ]
  },
  {
   "cell_type": "markdown",
   "metadata": {},
   "source": [
    "We then reset the index, and define created datetime as the index:"
   ]
  },
  {
   "cell_type": "code",
   "execution_count": 89,
   "metadata": {},
   "outputs": [
    {
     "name": "stdout",
     "output_type": "stream",
     "text": [
      "<class 'pandas.core.frame.DataFrame'>\n",
      "DatetimeIndex: 338488 entries, 2016-09-17 09:17:46 to 2017-03-09 15:18:29\n",
      "Data columns (total 1 columns):\n",
      " #   Column  Non-Null Count   Dtype\n",
      "---  ------  --------------   -----\n",
      " 0   index   338488 non-null  int64\n",
      "dtypes: int64(1)\n",
      "memory usage: 5.2 MB\n"
     ]
    }
   ],
   "source": [
    "df = df.reset_index()\n",
    "df.set_index('created', inplace=True)\n",
    "df.info()"
   ]
  },
  {
   "cell_type": "markdown",
   "metadata": {},
   "source": [
    "We can now group dates by year and month, and plot:"
   ]
  },
  {
   "cell_type": "code",
   "execution_count": 90,
   "metadata": {},
   "outputs": [
    {
     "data": {
      "image/png": "[encoded data removed]",
      "text/plain": [
       "<Figure size 1296x720 with 1 Axes>"
      ]
     },
     "metadata": {},
     "output_type": "display_data"
    }
   ],
   "source": [
    "df.groupby([df.index.year, df.index.month]).count().plot()\n",
    "plt.show()"
   ]
  },
  {
   "cell_type": "markdown",
   "metadata": {},
   "source": [
    "We see a peak towards March 2017, where it seems that more than 175,000 foods were added. This is weird and might be a mistake. Or, it is possible that another food database was added this month, or that there was a competition/prize to win that month, etc. If we check the Open Food Facts website, we find that indeed this is not a mistake, see https://world.openfoodfacts.org/products. We can see on their graph that indeed a large number of items were added in March 2017."
   ]
  },
  {
   "cell_type": "markdown",
   "metadata": {},
   "source": [
    "## E. Correlations"
   ]
  },
  {
   "cell_type": "markdown",
   "metadata": {},
   "source": [
    "We finally explore correlations between numeric variables. We first select these columns, drop nas, and rename columns:"
   ]
  },
  {
   "cell_type": "code",
   "execution_count": 91,
   "metadata": {},
   "outputs": [
    {
     "data": {
      "text/plain": [
       "(190777, 11)"
      ]
     },
     "execution_count": 91,
     "metadata": {},
     "output_type": "execute_result"
    }
   ],
   "source": [
    "df = pd.read_csv(\"en.openfoodfacts.org.products.tsv\", sep=\"\\t\", usecols=['additives_n', 'energy_100g', 'fat_100g', 'saturated-fat_100g','carbohydrates_100g', 'sugars_100g',\n",
    "                    'fiber_100g', 'proteins_100g','salt_100g', 'sodium_100g', 'nutrition-score-uk_100g'], low_memory=False)\n",
    "df = df.dropna() #drop nas\n",
    "df.rename(columns={'additives_n':'additives', 'energy_100g':'energy', 'fat_100g':'fat', 'saturated-fat_100g':'satfat', 'carbohydrates_100g':'carbs', 'sugars_100g':'sugar', 'fiber_100g':'fiber','proteins_100g':'proteins', 'salt_100g':'salt', 'sodium_100g':'sodium','nutrition-score-uk_100g':'nutriscore'}, inplace=True)\n",
    "df.shape"
   ]
  },
  {
   "cell_type": "markdown",
   "metadata": {},
   "source": [
    "We remember from task A that there are some errors in the numeric variables. Let's quickly remove them:"
   ]
  },
  {
   "cell_type": "code",
   "execution_count": 92,
   "metadata": {},
   "outputs": [
    {
     "data": {
      "text/plain": [
       "67"
      ]
     },
     "execution_count": 92,
     "metadata": {},
     "output_type": "execute_result"
    }
   ],
   "source": [
    "errors = (df['sugar'] < 0) | (df['proteins'] < 0) | (df['carbs'] > 100) | (df['sugar'] > 100) | (df['salt'] > 100) | (df['sodium'] > 100) | (df['fiber'] > 100) | (df['proteins'] > 100)\n",
    "df[errors].shape[0]"
   ]
  },
  {
   "cell_type": "markdown",
   "metadata": {},
   "source": [
    "Our final df is:"
   ]
  },
  {
   "cell_type": "code",
   "execution_count": 93,
   "metadata": {},
   "outputs": [
    {
     "data": {
      "text/plain": [
       "(190710, 11)"
      ]
     },
     "execution_count": 93,
     "metadata": {},
     "output_type": "execute_result"
    }
   ],
   "source": [
    "df = df[~errors]\n",
    "df.shape"
   ]
  },
  {
   "cell_type": "markdown",
   "metadata": {},
   "source": [
    "For this task, and contrary to what we have done in task B, we will also remove all outliers:"
   ]
  },
  {
   "cell_type": "code",
   "execution_count": 94,
   "metadata": {},
   "outputs": [
    {
     "data": {
      "text/plain": [
       "(17711, 11)"
      ]
     },
     "execution_count": 94,
     "metadata": {},
     "output_type": "execute_result"
    }
   ],
   "source": [
    "z_scores = (df - df.mean()) / (df.std())\n",
    "filter = np.abs(z_scores) > 3\n",
    "filter_any = filter.any(axis=1)\n",
    "outliers = df.loc[filter_any, :]\n",
    "outliers.shape"
   ]
  },
  {
   "cell_type": "code",
   "execution_count": 95,
   "metadata": {},
   "outputs": [
    {
     "data": {
      "text/plain": [
       "(172999, 11)"
      ]
     },
     "execution_count": 95,
     "metadata": {},
     "output_type": "execute_result"
    }
   ],
   "source": [
    "df = df.drop(outliers.index, axis=0)\n",
    "df.shape"
   ]
  },
  {
   "cell_type": "markdown",
   "metadata": {},
   "source": [
    "We are now ready to run correlations:"
   ]
  },
  {
   "cell_type": "code",
   "execution_count": 96,
   "metadata": {},
   "outputs": [
    {
     "data": {
      "text/html": [
       "<div>\n",
       "<style scoped>\n",
       "    .dataframe tbody tr th:only-of-type {\n",
       "        vertical-align: middle;\n",
       "    }\n",
       "\n",
       "    .dataframe tbody tr th {\n",
       "        vertical-align: top;\n",
       "    }\n",
       "\n",
       "    .dataframe thead th {\n",
       "        text-align: right;\n",
       "    }\n",
       "</style>\n",
       "<table border=\"1\" class=\"dataframe\">\n",
       "  <thead>\n",
       "    <tr style=\"text-align: right;\">\n",
       "      <th></th>\n",
       "      <th>additives</th>\n",
       "      <th>energy</th>\n",
       "      <th>fat</th>\n",
       "      <th>satfat</th>\n",
       "      <th>carbs</th>\n",
       "      <th>sugar</th>\n",
       "      <th>fiber</th>\n",
       "      <th>proteins</th>\n",
       "      <th>salt</th>\n",
       "      <th>sodium</th>\n",
       "      <th>nutriscore</th>\n",
       "    </tr>\n",
       "  </thead>\n",
       "  <tbody>\n",
       "    <tr>\n",
       "      <th>nutriscore</th>\n",
       "      <td>0.210490</td>\n",
       "      <td>0.652247</td>\n",
       "      <td>0.646358</td>\n",
       "      <td>0.746438</td>\n",
       "      <td>0.298353</td>\n",
       "      <td>0.520394</td>\n",
       "      <td>-0.101486</td>\n",
       "      <td>0.161327</td>\n",
       "      <td>0.330625</td>\n",
       "      <td>0.330625</td>\n",
       "      <td>1.000000</td>\n",
       "    </tr>\n",
       "    <tr>\n",
       "      <th>satfat</th>\n",
       "      <td>0.027223</td>\n",
       "      <td>0.566956</td>\n",
       "      <td>0.720983</td>\n",
       "      <td>1.000000</td>\n",
       "      <td>0.058301</td>\n",
       "      <td>0.253884</td>\n",
       "      <td>-0.001168</td>\n",
       "      <td>0.300514</td>\n",
       "      <td>0.059531</td>\n",
       "      <td>0.059531</td>\n",
       "      <td>0.746438</td>\n",
       "    </tr>\n",
       "    <tr>\n",
       "      <th>energy</th>\n",
       "      <td>0.050267</td>\n",
       "      <td>1.000000</td>\n",
       "      <td>0.766095</td>\n",
       "      <td>0.566956</td>\n",
       "      <td>0.652138</td>\n",
       "      <td>0.396456</td>\n",
       "      <td>0.426359</td>\n",
       "      <td>0.389942</td>\n",
       "      <td>0.109313</td>\n",
       "      <td>0.109313</td>\n",
       "      <td>0.652247</td>\n",
       "    </tr>\n",
       "    <tr>\n",
       "      <th>fat</th>\n",
       "      <td>-0.047736</td>\n",
       "      <td>0.766095</td>\n",
       "      <td>1.000000</td>\n",
       "      <td>0.720983</td>\n",
       "      <td>0.060878</td>\n",
       "      <td>0.105103</td>\n",
       "      <td>0.253775</td>\n",
       "      <td>0.421111</td>\n",
       "      <td>0.143632</td>\n",
       "      <td>0.143632</td>\n",
       "      <td>0.646358</td>\n",
       "    </tr>\n",
       "    <tr>\n",
       "      <th>sugar</th>\n",
       "      <td>0.183247</td>\n",
       "      <td>0.396456</td>\n",
       "      <td>0.105103</td>\n",
       "      <td>0.253884</td>\n",
       "      <td>0.588300</td>\n",
       "      <td>1.000000</td>\n",
       "      <td>0.053527</td>\n",
       "      <td>-0.255300</td>\n",
       "      <td>-0.203539</td>\n",
       "      <td>-0.203538</td>\n",
       "      <td>0.520394</td>\n",
       "    </tr>\n",
       "    <tr>\n",
       "      <th>sodium</th>\n",
       "      <td>0.095202</td>\n",
       "      <td>0.109313</td>\n",
       "      <td>0.143632</td>\n",
       "      <td>0.059531</td>\n",
       "      <td>-0.045927</td>\n",
       "      <td>-0.203538</td>\n",
       "      <td>-0.033109</td>\n",
       "      <td>0.219381</td>\n",
       "      <td>1.000000</td>\n",
       "      <td>1.000000</td>\n",
       "      <td>0.330625</td>\n",
       "    </tr>\n",
       "    <tr>\n",
       "      <th>salt</th>\n",
       "      <td>0.095202</td>\n",
       "      <td>0.109313</td>\n",
       "      <td>0.143632</td>\n",
       "      <td>0.059531</td>\n",
       "      <td>-0.045927</td>\n",
       "      <td>-0.203539</td>\n",
       "      <td>-0.033108</td>\n",
       "      <td>0.219381</td>\n",
       "      <td>1.000000</td>\n",
       "      <td>1.000000</td>\n",
       "      <td>0.330625</td>\n",
       "    </tr>\n",
       "    <tr>\n",
       "      <th>carbs</th>\n",
       "      <td>0.157008</td>\n",
       "      <td>0.652138</td>\n",
       "      <td>0.060878</td>\n",
       "      <td>0.058301</td>\n",
       "      <td>1.000000</td>\n",
       "      <td>0.588300</td>\n",
       "      <td>0.364810</td>\n",
       "      <td>-0.067323</td>\n",
       "      <td>-0.045927</td>\n",
       "      <td>-0.045927</td>\n",
       "      <td>0.298353</td>\n",
       "    </tr>\n",
       "    <tr>\n",
       "      <th>additives</th>\n",
       "      <td>1.000000</td>\n",
       "      <td>0.050267</td>\n",
       "      <td>-0.047736</td>\n",
       "      <td>0.027223</td>\n",
       "      <td>0.157008</td>\n",
       "      <td>0.183247</td>\n",
       "      <td>-0.172734</td>\n",
       "      <td>-0.116803</td>\n",
       "      <td>0.095202</td>\n",
       "      <td>0.095202</td>\n",
       "      <td>0.210490</td>\n",
       "    </tr>\n",
       "    <tr>\n",
       "      <th>proteins</th>\n",
       "      <td>-0.116803</td>\n",
       "      <td>0.389942</td>\n",
       "      <td>0.421111</td>\n",
       "      <td>0.300514</td>\n",
       "      <td>-0.067323</td>\n",
       "      <td>-0.255300</td>\n",
       "      <td>0.237877</td>\n",
       "      <td>1.000000</td>\n",
       "      <td>0.219381</td>\n",
       "      <td>0.219381</td>\n",
       "      <td>0.161327</td>\n",
       "    </tr>\n",
       "    <tr>\n",
       "      <th>fiber</th>\n",
       "      <td>-0.172734</td>\n",
       "      <td>0.426359</td>\n",
       "      <td>0.253775</td>\n",
       "      <td>-0.001168</td>\n",
       "      <td>0.364810</td>\n",
       "      <td>0.053527</td>\n",
       "      <td>1.000000</td>\n",
       "      <td>0.237877</td>\n",
       "      <td>-0.033108</td>\n",
       "      <td>-0.033109</td>\n",
       "      <td>-0.101486</td>\n",
       "    </tr>\n",
       "  </tbody>\n",
       "</table>\n",
       "</div>"
      ],
      "text/plain": [
       "            additives    energy       fat    satfat     carbs     sugar  \\\n",
       "nutriscore   0.210490  0.652247  0.646358  0.746438  0.298353  0.520394   \n",
       "satfat       0.027223  0.566956  0.720983  1.000000  0.058301  0.253884   \n",
       "energy       0.050267  1.000000  0.766095  0.566956  0.652138  0.396456   \n",
       "fat         -0.047736  0.766095  1.000000  0.720983  0.060878  0.105103   \n",
       "sugar        0.183247  0.396456  0.105103  0.253884  0.588300  1.000000   \n",
       "sodium       0.095202  0.109313  0.143632  0.059531 -0.045927 -0.203538   \n",
       "salt         0.095202  0.109313  0.143632  0.059531 -0.045927 -0.203539   \n",
       "carbs        0.157008  0.652138  0.060878  0.058301  1.000000  0.588300   \n",
       "additives    1.000000  0.050267 -0.047736  0.027223  0.157008  0.183247   \n",
       "proteins    -0.116803  0.389942  0.421111  0.300514 -0.067323 -0.255300   \n",
       "fiber       -0.172734  0.426359  0.253775 -0.001168  0.364810  0.053527   \n",
       "\n",
       "               fiber  proteins      salt    sodium  nutriscore  \n",
       "nutriscore -0.101486  0.161327  0.330625  0.330625    1.000000  \n",
       "satfat     -0.001168  0.300514  0.059531  0.059531    0.746438  \n",
       "energy      0.426359  0.389942  0.109313  0.109313    0.652247  \n",
       "fat         0.253775  0.421111  0.143632  0.143632    0.646358  \n",
       "sugar       0.053527 -0.255300 -0.203539 -0.203538    0.520394  \n",
       "sodium     -0.033109  0.219381  1.000000  1.000000    0.330625  \n",
       "salt       -0.033108  0.219381  1.000000  1.000000    0.330625  \n",
       "carbs       0.364810 -0.067323 -0.045927 -0.045927    0.298353  \n",
       "additives  -0.172734 -0.116803  0.095202  0.095202    0.210490  \n",
       "proteins    0.237877  1.000000  0.219381  0.219381    0.161327  \n",
       "fiber       1.000000  0.237877 -0.033108 -0.033109   -0.101486  "
      ]
     },
     "execution_count": 96,
     "metadata": {},
     "output_type": "execute_result"
    }
   ],
   "source": [
    "corr_matrix = df.corr().sort_values(by='nutriscore', ascending=False)\n",
    "corr_matrix"
   ]
  },
  {
   "cell_type": "markdown",
   "metadata": {},
   "source": [
    "What we see is that all but one of our variables are positively correlated with nutrition score. The strongest of these correlations is between saturated fat and nutrition score (0.74), meaning that when saturated fat increases, the nutrition socre increases as well. Fiber is the only variable that has a negative relationship with nutrition score: the higher the fiber, the lower the nutrition score.\n",
    "\n",
    "It would be nice to visualise these correlations. We might do a pairplot, but there are 11 variables and 170,000+ points, so this might be long to draw. Therefore we will do a correlogram using sns heatmap instead. To do so, all we need is the correlation matrix we just created. Let's do it:"
   ]
  },
  {
   "cell_type": "code",
   "execution_count": 97,
   "metadata": {},
   "outputs": [
    {
     "data": {
      "image/png": "[encoded data removed]",
      "text/plain": [
       "<Figure size 1296x1296 with 1 Axes>"
      ]
     },
     "metadata": {},
     "output_type": "display_data"
    }
   ],
   "source": [
    "mask = np.triu(np.ones_like(corr_matrix, dtype=bool))\n",
    "f, ax = plt.subplots(figsize=(18, 18))\n",
    "cmap = sns.diverging_palette(230, 20, as_cmap=True)\n",
    "sns.heatmap(corr_matrix, mask=mask, cmap=cmap, vmax=.3, center=0,\n",
    "            square=True, linewidths=.5, cbar_kws={\"shrink\": .5}, annot=True, cbar=False)\n",
    "plt.show()"
   ]
  },
  {
   "cell_type": "markdown",
   "metadata": {},
   "source": [
    "(There is a useful correlogram template here: https://seaborn.pydata.org/examples/many_pairwise_correlations.html, which can then be customised using: https://seaborn.pydata.org/generated/seaborn.heatmap.html.)"
   ]
  },
  {
   "cell_type": "markdown",
   "metadata": {},
   "source": [
    "It is now easier to see that overall, there are more positive correlations (in shades of red) than negative ones (in shades of blue). We can also see that fiber correlates negatively not only with nutrition score, but also with additives, saturated fat, salt, and sodium. Of course, we would need to run tests to know if these correlations are significant. But given the sample size, we can assume that most of them would be. We might also investigate whether these relationships are linear, and use partial correlations and regression to control for the influence of some variables on others. But for this exercise, we will stop here and make an informed guess that saturated fat is one the main drivers of nutrition score, or how 'healthy' foods are."
   ]
  }
 ],
 "metadata": {
  "kernelspec": {
   "display_name": "Python 3",
   "language": "python",
   "name": "python3"
  },
  "language_info": {
   "codemirror_mode": {
    "name": "ipython",
    "version": 3
   },
   "file_extension": ".py",
   "mimetype": "text/x-python",
   "name": "python",
   "nbconvert_exporter": "python",
   "pygments_lexer": "ipython3",
   "version": "3.6.12"
  }
 },
 "nbformat": 4,
 "nbformat_minor": 4
}
